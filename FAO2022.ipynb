{
 "cells": [
  {
   "cell_type": "markdown",
   "id": "967666b7",
   "metadata": {},
   "source": [
    " # 1) Importation des libraires de datascience \n"
   ]
  },
  {
   "cell_type": "code",
   "execution_count": 2,
   "id": "e551e659",
   "metadata": {},
   "outputs": [],
   "source": [
    "import pandas as pd \n",
    "from numpy import*\n",
    "import matplotlib as plt"
   ]
  },
  {
   "cell_type": "code",
   "execution_count": 3,
   "id": "f3d60c8e",
   "metadata": {},
   "outputs": [],
   "source": [
    "import numpy as np\n",
    "import matplotlib.pyplot as plt"
   ]
  },
  {
   "cell_type": "code",
   "execution_count": 4,
   "id": "db761d27",
   "metadata": {},
   "outputs": [
    {
     "data": {
      "text/plain": [
       "<module 'pandas' from 'C:\\\\Users\\\\ibenz\\\\anaconda3\\\\lib\\\\site-packages\\\\pandas\\\\__init__.py'>"
      ]
     },
     "execution_count": 4,
     "metadata": {},
     "output_type": "execute_result"
    }
   ],
   "source": [
    "pd"
   ]
  },
  {
   "cell_type": "code",
   "execution_count": 5,
   "id": "cb30aad8",
   "metadata": {},
   "outputs": [
    {
     "data": {
      "text/plain": [
       "<module 'matplotlib.pyplot' from 'C:\\\\Users\\\\ibenz\\\\anaconda3\\\\lib\\\\site-packages\\\\matplotlib\\\\pyplot.py'>"
      ]
     },
     "execution_count": 5,
     "metadata": {},
     "output_type": "execute_result"
    }
   ],
   "source": [
    "plt"
   ]
  },
  {
   "cell_type": "code",
   "execution_count": 6,
   "id": "57ef1797",
   "metadata": {},
   "outputs": [],
   "source": [
    "array = array([[12, 33], [21, 45]]) "
   ]
  },
  {
   "cell_type": "code",
   "execution_count": 7,
   "id": "036dab38",
   "metadata": {},
   "outputs": [
    {
     "data": {
      "text/plain": [
       "<module 'matplotlib.pyplot' from 'C:\\\\Users\\\\ibenz\\\\anaconda3\\\\lib\\\\site-packages\\\\matplotlib\\\\pyplot.py'>"
      ]
     },
     "execution_count": 7,
     "metadata": {},
     "output_type": "execute_result"
    }
   ],
   "source": [
    "plt"
   ]
  },
  {
   "cell_type": "markdown",
   "id": "7aae9622",
   "metadata": {},
   "source": [
    "# 2) Lecture des fishiers csv"
   ]
  },
  {
   "cell_type": "markdown",
   "id": "5cfe6ef3",
   "metadata": {},
   "source": [
    "## 1- Aide_alimentaire"
   ]
  },
  {
   "cell_type": "code",
   "execution_count": 8,
   "id": "2494fc9c",
   "metadata": {},
   "outputs": [
    {
     "data": {
      "text/html": [
       "<div>\n",
       "<style scoped>\n",
       "    .dataframe tbody tr th:only-of-type {\n",
       "        vertical-align: middle;\n",
       "    }\n",
       "\n",
       "    .dataframe tbody tr th {\n",
       "        vertical-align: top;\n",
       "    }\n",
       "\n",
       "    .dataframe thead th {\n",
       "        text-align: right;\n",
       "    }\n",
       "</style>\n",
       "<table border=\"1\" class=\"dataframe\">\n",
       "  <thead>\n",
       "    <tr style=\"text-align: right;\">\n",
       "      <th></th>\n",
       "      <th>Pays bénéficiaire</th>\n",
       "      <th>Année</th>\n",
       "      <th>Produit</th>\n",
       "      <th>Valeur</th>\n",
       "    </tr>\n",
       "  </thead>\n",
       "  <tbody>\n",
       "    <tr>\n",
       "      <th>0</th>\n",
       "      <td>Afghanistan</td>\n",
       "      <td>2013</td>\n",
       "      <td>Autres non-céréales</td>\n",
       "      <td>682</td>\n",
       "    </tr>\n",
       "    <tr>\n",
       "      <th>1</th>\n",
       "      <td>Afghanistan</td>\n",
       "      <td>2014</td>\n",
       "      <td>Autres non-céréales</td>\n",
       "      <td>335</td>\n",
       "    </tr>\n",
       "  </tbody>\n",
       "</table>\n",
       "</div>"
      ],
      "text/plain": [
       "  Pays bénéficiaire  Année              Produit  Valeur\n",
       "0       Afghanistan   2013  Autres non-céréales     682\n",
       "1       Afghanistan   2014  Autres non-céréales     335"
      ]
     },
     "execution_count": 8,
     "metadata": {},
     "output_type": "execute_result"
    }
   ],
   "source": [
    "aide= pd.read_csv('aide_alimentaire.csv')\n",
    "aide.head(2)"
   ]
  },
  {
   "cell_type": "code",
   "execution_count": 9,
   "id": "f2097b7f",
   "metadata": {},
   "outputs": [
    {
     "name": "stdout",
     "output_type": "stream",
     "text": [
      "<class 'pandas.core.frame.DataFrame'>\n",
      "RangeIndex: 1475 entries, 0 to 1474\n",
      "Data columns (total 4 columns):\n",
      " #   Column             Non-Null Count  Dtype \n",
      "---  ------             --------------  ----- \n",
      " 0   Pays bénéficiaire  1475 non-null   object\n",
      " 1   Année              1475 non-null   int64 \n",
      " 2   Produit            1475 non-null   object\n",
      " 3   Valeur             1475 non-null   int64 \n",
      "dtypes: int64(2), object(2)\n",
      "memory usage: 46.2+ KB\n"
     ]
    }
   ],
   "source": [
    "aide.info()"
   ]
  },
  {
   "cell_type": "markdown",
   "id": "05315a3b",
   "metadata": {},
   "source": [
    "## 2-Dispo_alimentaire "
   ]
  },
  {
   "cell_type": "code",
   "execution_count": 10,
   "id": "6124895d",
   "metadata": {
    "scrolled": true
   },
   "outputs": [
    {
     "data": {
      "text/html": [
       "<div>\n",
       "<style scoped>\n",
       "    .dataframe tbody tr th:only-of-type {\n",
       "        vertical-align: middle;\n",
       "    }\n",
       "\n",
       "    .dataframe tbody tr th {\n",
       "        vertical-align: top;\n",
       "    }\n",
       "\n",
       "    .dataframe thead th {\n",
       "        text-align: right;\n",
       "    }\n",
       "</style>\n",
       "<table border=\"1\" class=\"dataframe\">\n",
       "  <thead>\n",
       "    <tr style=\"text-align: right;\">\n",
       "      <th></th>\n",
       "      <th>Zone</th>\n",
       "      <th>Produit</th>\n",
       "      <th>Origine</th>\n",
       "      <th>Aliments pour animaux</th>\n",
       "      <th>Autres Utilisations</th>\n",
       "      <th>Disponibilité alimentaire (Kcal/personne/jour)</th>\n",
       "      <th>Disponibilité alimentaire en quantité (kg/personne/an)</th>\n",
       "      <th>Disponibilité de matière grasse en quantité (g/personne/jour)</th>\n",
       "      <th>Disponibilité de protéines en quantité (g/personne/jour)</th>\n",
       "      <th>Disponibilité intérieure</th>\n",
       "      <th>Exportations - Quantité</th>\n",
       "      <th>Importations - Quantité</th>\n",
       "      <th>Nourriture</th>\n",
       "      <th>Pertes</th>\n",
       "      <th>Production</th>\n",
       "      <th>Semences</th>\n",
       "      <th>Traitement</th>\n",
       "      <th>Variation de stock</th>\n",
       "    </tr>\n",
       "  </thead>\n",
       "  <tbody>\n",
       "    <tr>\n",
       "      <th>0</th>\n",
       "      <td>Afghanistan</td>\n",
       "      <td>Abats Comestible</td>\n",
       "      <td>animale</td>\n",
       "      <td>NaN</td>\n",
       "      <td>NaN</td>\n",
       "      <td>5.0</td>\n",
       "      <td>1.72</td>\n",
       "      <td>0.20</td>\n",
       "      <td>0.77</td>\n",
       "      <td>53.0</td>\n",
       "      <td>NaN</td>\n",
       "      <td>NaN</td>\n",
       "      <td>53.0</td>\n",
       "      <td>NaN</td>\n",
       "      <td>53.0</td>\n",
       "      <td>NaN</td>\n",
       "      <td>NaN</td>\n",
       "      <td>NaN</td>\n",
       "    </tr>\n",
       "    <tr>\n",
       "      <th>1</th>\n",
       "      <td>Afghanistan</td>\n",
       "      <td>Agrumes, Autres</td>\n",
       "      <td>vegetale</td>\n",
       "      <td>NaN</td>\n",
       "      <td>NaN</td>\n",
       "      <td>1.0</td>\n",
       "      <td>1.29</td>\n",
       "      <td>0.01</td>\n",
       "      <td>0.02</td>\n",
       "      <td>41.0</td>\n",
       "      <td>2.0</td>\n",
       "      <td>40.0</td>\n",
       "      <td>39.0</td>\n",
       "      <td>2.0</td>\n",
       "      <td>3.0</td>\n",
       "      <td>NaN</td>\n",
       "      <td>NaN</td>\n",
       "      <td>NaN</td>\n",
       "    </tr>\n",
       "  </tbody>\n",
       "</table>\n",
       "</div>"
      ],
      "text/plain": [
       "          Zone           Produit   Origine  Aliments pour animaux  \\\n",
       "0  Afghanistan  Abats Comestible   animale                    NaN   \n",
       "1  Afghanistan   Agrumes, Autres  vegetale                    NaN   \n",
       "\n",
       "   Autres Utilisations  Disponibilité alimentaire (Kcal/personne/jour)  \\\n",
       "0                  NaN                                             5.0   \n",
       "1                  NaN                                             1.0   \n",
       "\n",
       "   Disponibilité alimentaire en quantité (kg/personne/an)  \\\n",
       "0                                               1.72        \n",
       "1                                               1.29        \n",
       "\n",
       "   Disponibilité de matière grasse en quantité (g/personne/jour)  \\\n",
       "0                                               0.20               \n",
       "1                                               0.01               \n",
       "\n",
       "   Disponibilité de protéines en quantité (g/personne/jour)  \\\n",
       "0                                               0.77          \n",
       "1                                               0.02          \n",
       "\n",
       "   Disponibilité intérieure  Exportations - Quantité  Importations - Quantité  \\\n",
       "0                      53.0                      NaN                      NaN   \n",
       "1                      41.0                      2.0                     40.0   \n",
       "\n",
       "   Nourriture  Pertes  Production  Semences  Traitement  Variation de stock  \n",
       "0        53.0     NaN        53.0       NaN         NaN                 NaN  \n",
       "1        39.0     2.0         3.0       NaN         NaN                 NaN  "
      ]
     },
     "execution_count": 10,
     "metadata": {},
     "output_type": "execute_result"
    }
   ],
   "source": [
    "dispo= pd.read_csv('dispo_alimentaire.csv')\n",
    "dispo.head(2)"
   ]
  },
  {
   "cell_type": "code",
   "execution_count": 11,
   "id": "2851b093",
   "metadata": {},
   "outputs": [
    {
     "name": "stdout",
     "output_type": "stream",
     "text": [
      "<class 'pandas.core.frame.DataFrame'>\n",
      "RangeIndex: 15605 entries, 0 to 15604\n",
      "Data columns (total 18 columns):\n",
      " #   Column                                                         Non-Null Count  Dtype  \n",
      "---  ------                                                         --------------  -----  \n",
      " 0   Zone                                                           15605 non-null  object \n",
      " 1   Produit                                                        15605 non-null  object \n",
      " 2   Origine                                                        15605 non-null  object \n",
      " 3   Aliments pour animaux                                          2720 non-null   float64\n",
      " 4   Autres Utilisations                                            5496 non-null   float64\n",
      " 5   Disponibilité alimentaire (Kcal/personne/jour)                 14241 non-null  float64\n",
      " 6   Disponibilité alimentaire en quantité (kg/personne/an)         14015 non-null  float64\n",
      " 7   Disponibilité de matière grasse en quantité (g/personne/jour)  11794 non-null  float64\n",
      " 8   Disponibilité de protéines en quantité (g/personne/jour)       11561 non-null  float64\n",
      " 9   Disponibilité intérieure                                       15382 non-null  float64\n",
      " 10  Exportations - Quantité                                        12226 non-null  float64\n",
      " 11  Importations - Quantité                                        14852 non-null  float64\n",
      " 12  Nourriture                                                     14015 non-null  float64\n",
      " 13  Pertes                                                         4278 non-null   float64\n",
      " 14  Production                                                     9180 non-null   float64\n",
      " 15  Semences                                                       2091 non-null   float64\n",
      " 16  Traitement                                                     2292 non-null   float64\n",
      " 17  Variation de stock                                             6776 non-null   float64\n",
      "dtypes: float64(15), object(3)\n",
      "memory usage: 2.1+ MB\n"
     ]
    }
   ],
   "source": [
    "dispo.info()"
   ]
  },
  {
   "cell_type": "markdown",
   "id": "4dbb7566",
   "metadata": {},
   "source": [
    "## 3-Population "
   ]
  },
  {
   "cell_type": "code",
   "execution_count": 12,
   "id": "8749cb4d",
   "metadata": {},
   "outputs": [
    {
     "data": {
      "text/html": [
       "<div>\n",
       "<style scoped>\n",
       "    .dataframe tbody tr th:only-of-type {\n",
       "        vertical-align: middle;\n",
       "    }\n",
       "\n",
       "    .dataframe tbody tr th {\n",
       "        vertical-align: top;\n",
       "    }\n",
       "\n",
       "    .dataframe thead th {\n",
       "        text-align: right;\n",
       "    }\n",
       "</style>\n",
       "<table border=\"1\" class=\"dataframe\">\n",
       "  <thead>\n",
       "    <tr style=\"text-align: right;\">\n",
       "      <th></th>\n",
       "      <th>Zone</th>\n",
       "      <th>Année</th>\n",
       "      <th>Valeur</th>\n",
       "    </tr>\n",
       "  </thead>\n",
       "  <tbody>\n",
       "    <tr>\n",
       "      <th>0</th>\n",
       "      <td>Afghanistan</td>\n",
       "      <td>2013</td>\n",
       "      <td>32269.589</td>\n",
       "    </tr>\n",
       "    <tr>\n",
       "      <th>1</th>\n",
       "      <td>Afghanistan</td>\n",
       "      <td>2014</td>\n",
       "      <td>33370.794</td>\n",
       "    </tr>\n",
       "  </tbody>\n",
       "</table>\n",
       "</div>"
      ],
      "text/plain": [
       "          Zone  Année     Valeur\n",
       "0  Afghanistan   2013  32269.589\n",
       "1  Afghanistan   2014  33370.794"
      ]
     },
     "execution_count": 12,
     "metadata": {},
     "output_type": "execute_result"
    }
   ],
   "source": [
    "pop=pd.read_csv('population.csv')\n",
    "pop.head(2)"
   ]
  },
  {
   "cell_type": "code",
   "execution_count": 13,
   "id": "b1de564e",
   "metadata": {},
   "outputs": [
    {
     "name": "stdout",
     "output_type": "stream",
     "text": [
      "<class 'pandas.core.frame.DataFrame'>\n",
      "RangeIndex: 1416 entries, 0 to 1415\n",
      "Data columns (total 3 columns):\n",
      " #   Column  Non-Null Count  Dtype  \n",
      "---  ------  --------------  -----  \n",
      " 0   Zone    1416 non-null   object \n",
      " 1   Année   1416 non-null   int64  \n",
      " 2   Valeur  1416 non-null   float64\n",
      "dtypes: float64(1), int64(1), object(1)\n",
      "memory usage: 33.3+ KB\n"
     ]
    }
   ],
   "source": [
    "pop.info()"
   ]
  },
  {
   "cell_type": "markdown",
   "id": "31e9d989",
   "metadata": {},
   "source": [
    "## 4-sous_nutrition"
   ]
  },
  {
   "cell_type": "code",
   "execution_count": 14,
   "id": "3360b400",
   "metadata": {},
   "outputs": [
    {
     "data": {
      "text/html": [
       "<div>\n",
       "<style scoped>\n",
       "    .dataframe tbody tr th:only-of-type {\n",
       "        vertical-align: middle;\n",
       "    }\n",
       "\n",
       "    .dataframe tbody tr th {\n",
       "        vertical-align: top;\n",
       "    }\n",
       "\n",
       "    .dataframe thead th {\n",
       "        text-align: right;\n",
       "    }\n",
       "</style>\n",
       "<table border=\"1\" class=\"dataframe\">\n",
       "  <thead>\n",
       "    <tr style=\"text-align: right;\">\n",
       "      <th></th>\n",
       "      <th>Zone</th>\n",
       "      <th>Année</th>\n",
       "      <th>Valeur</th>\n",
       "    </tr>\n",
       "  </thead>\n",
       "  <tbody>\n",
       "    <tr>\n",
       "      <th>0</th>\n",
       "      <td>Afghanistan</td>\n",
       "      <td>2012-2014</td>\n",
       "      <td>8.6</td>\n",
       "    </tr>\n",
       "    <tr>\n",
       "      <th>1</th>\n",
       "      <td>Afghanistan</td>\n",
       "      <td>2013-2015</td>\n",
       "      <td>8.8</td>\n",
       "    </tr>\n",
       "  </tbody>\n",
       "</table>\n",
       "</div>"
      ],
      "text/plain": [
       "          Zone      Année Valeur\n",
       "0  Afghanistan  2012-2014    8.6\n",
       "1  Afghanistan  2013-2015    8.8"
      ]
     },
     "execution_count": 14,
     "metadata": {},
     "output_type": "execute_result"
    }
   ],
   "source": [
    "sous_nut=pd.read_csv('sous_nutrition.csv')\n",
    "sous_nut.head(2)"
   ]
  },
  {
   "cell_type": "code",
   "execution_count": 15,
   "id": "da76078d",
   "metadata": {},
   "outputs": [
    {
     "name": "stdout",
     "output_type": "stream",
     "text": [
      "<class 'pandas.core.frame.DataFrame'>\n",
      "RangeIndex: 1218 entries, 0 to 1217\n",
      "Data columns (total 3 columns):\n",
      " #   Column  Non-Null Count  Dtype \n",
      "---  ------  --------------  ----- \n",
      " 0   Zone    1218 non-null   object\n",
      " 1   Année   1218 non-null   object\n",
      " 2   Valeur  624 non-null    object\n",
      "dtypes: object(3)\n",
      "memory usage: 28.7+ KB\n"
     ]
    }
   ],
   "source": [
    "sous_nut.info()"
   ]
  },
  {
   "cell_type": "markdown",
   "id": "6395b32a",
   "metadata": {},
   "source": [
    "# Questions de Marc "
   ]
  },
  {
   "cell_type": "markdown",
   "id": "2c72977c",
   "metadata": {},
   "source": [
    "##  Question 1) la proportion de personnes en état de sous-nutrition"
   ]
  },
  {
   "cell_type": "markdown",
   "id": "5ff88c4f",
   "metadata": {},
   "source": [
    "### Nettoyage du fichier sous-nutrition"
   ]
  },
  {
   "cell_type": "code",
   "execution_count": 16,
   "id": "87abee4e",
   "metadata": {},
   "outputs": [
    {
     "name": "stdout",
     "output_type": "stream",
     "text": [
      "<class 'pandas.core.frame.DataFrame'>\n",
      "RangeIndex: 1218 entries, 0 to 1217\n",
      "Data columns (total 3 columns):\n",
      " #   Column                               Non-Null Count  Dtype \n",
      "---  ------                               --------------  ----- \n",
      " 0   Zone                                 1218 non-null   object\n",
      " 1   Année                                1218 non-null   object\n",
      " 2   Nombre_en_million_en_sous_nutrition  624 non-null    object\n",
      "dtypes: object(3)\n",
      "memory usage: 28.7+ KB\n"
     ]
    }
   ],
   "source": [
    "# Changer nom de la colonne Valeur dans la data sou_nut\n",
    "sous_nut= sous_nut. rename(columns={'Valeur':'Nombre_en_million_en_sous_nutrition'})\n",
    "sous_nut.info()"
   ]
  },
  {
   "cell_type": "code",
   "execution_count": 17,
   "id": "84af5aae",
   "metadata": {},
   "outputs": [],
   "source": [
    "# Remplacer les '<0.1' par un entier '0.05'\n",
    "sous_nut['Nombre_en_million_en_sous_nutrition'].replace({\"<0.1\": \"0.05\"}, inplace=True)"
   ]
  },
  {
   "cell_type": "code",
   "execution_count": 18,
   "id": "1173f3cc",
   "metadata": {},
   "outputs": [],
   "source": [
    "# Changer type de la colonne nombre en million en numeric pour pouvoir faire le calcul\n",
    "sous_nut[\"Nombre_en_million_en_sous_nutrition\"]= pd.to_numeric ( sous_nut[\"Nombre_en_million_en_sous_nutrition\"])"
   ]
  },
  {
   "cell_type": "code",
   "execution_count": 19,
   "id": "44f33d19",
   "metadata": {},
   "outputs": [],
   "source": [
    "# Renommer colonne Valeur dans la data pop\n",
    "pop = pop. rename(columns={'Valeur':'Population'})"
   ]
  },
  {
   "cell_type": "code",
   "execution_count": 20,
   "id": "aa422e76",
   "metadata": {},
   "outputs": [
    {
     "data": {
      "text/html": [
       "<div>\n",
       "<style scoped>\n",
       "    .dataframe tbody tr th:only-of-type {\n",
       "        vertical-align: middle;\n",
       "    }\n",
       "\n",
       "    .dataframe tbody tr th {\n",
       "        vertical-align: top;\n",
       "    }\n",
       "\n",
       "    .dataframe thead th {\n",
       "        text-align: right;\n",
       "    }\n",
       "</style>\n",
       "<table border=\"1\" class=\"dataframe\">\n",
       "  <thead>\n",
       "    <tr style=\"text-align: right;\">\n",
       "      <th></th>\n",
       "      <th>Année</th>\n",
       "      <th>Population</th>\n",
       "    </tr>\n",
       "  </thead>\n",
       "  <tbody>\n",
       "    <tr>\n",
       "      <th>0</th>\n",
       "      <td>2013</td>\n",
       "      <td>7210845.848</td>\n",
       "    </tr>\n",
       "    <tr>\n",
       "      <th>1</th>\n",
       "      <td>2014</td>\n",
       "      <td>7295557.771</td>\n",
       "    </tr>\n",
       "    <tr>\n",
       "      <th>2</th>\n",
       "      <td>2015</td>\n",
       "      <td>7380067.075</td>\n",
       "    </tr>\n",
       "    <tr>\n",
       "      <th>3</th>\n",
       "      <td>2016</td>\n",
       "      <td>7464294.742</td>\n",
       "    </tr>\n",
       "    <tr>\n",
       "      <th>4</th>\n",
       "      <td>2017</td>\n",
       "      <td>7548134.111</td>\n",
       "    </tr>\n",
       "    <tr>\n",
       "      <th>5</th>\n",
       "      <td>2018</td>\n",
       "      <td>7631368.523</td>\n",
       "    </tr>\n",
       "  </tbody>\n",
       "</table>\n",
       "</div>"
      ],
      "text/plain": [
       "   Année   Population\n",
       "0   2013  7210845.848\n",
       "1   2014  7295557.771\n",
       "2   2015  7380067.075\n",
       "3   2016  7464294.742\n",
       "4   2017  7548134.111\n",
       "5   2018  7631368.523"
      ]
     },
     "execution_count": 20,
     "metadata": {},
     "output_type": "execute_result"
    }
   ],
   "source": [
    "# la population mondiale en fonction des années (data : pop)\n",
    "population_par_année=pd.pivot_table(pop, index='Année',values='Population', aggfunc='sum')\n",
    "population_par_année\n",
    "population_par_année.reset_index()"
   ]
  },
  {
   "cell_type": "code",
   "execution_count": 21,
   "id": "5c3cd68c",
   "metadata": {},
   "outputs": [
    {
     "data": {
      "text/html": [
       "<div>\n",
       "<style scoped>\n",
       "    .dataframe tbody tr th:only-of-type {\n",
       "        vertical-align: middle;\n",
       "    }\n",
       "\n",
       "    .dataframe tbody tr th {\n",
       "        vertical-align: top;\n",
       "    }\n",
       "\n",
       "    .dataframe thead th {\n",
       "        text-align: right;\n",
       "    }\n",
       "</style>\n",
       "<table border=\"1\" class=\"dataframe\">\n",
       "  <thead>\n",
       "    <tr style=\"text-align: right;\">\n",
       "      <th></th>\n",
       "      <th>Année</th>\n",
       "      <th>Nombre_en_million_en_sous_nutrition</th>\n",
       "    </tr>\n",
       "  </thead>\n",
       "  <tbody>\n",
       "    <tr>\n",
       "      <th>0</th>\n",
       "      <td>2012-2014</td>\n",
       "      <td>529.10</td>\n",
       "    </tr>\n",
       "    <tr>\n",
       "      <th>1</th>\n",
       "      <td>2013-2015</td>\n",
       "      <td>524.55</td>\n",
       "    </tr>\n",
       "    <tr>\n",
       "      <th>2</th>\n",
       "      <td>2014-2016</td>\n",
       "      <td>525.70</td>\n",
       "    </tr>\n",
       "    <tr>\n",
       "      <th>3</th>\n",
       "      <td>2015-2017</td>\n",
       "      <td>529.60</td>\n",
       "    </tr>\n",
       "    <tr>\n",
       "      <th>4</th>\n",
       "      <td>2016-2018</td>\n",
       "      <td>536.70</td>\n",
       "    </tr>\n",
       "    <tr>\n",
       "      <th>5</th>\n",
       "      <td>2017-2019</td>\n",
       "      <td>545.15</td>\n",
       "    </tr>\n",
       "  </tbody>\n",
       "</table>\n",
       "</div>"
      ],
      "text/plain": [
       "       Année  Nombre_en_million_en_sous_nutrition\n",
       "0  2012-2014                               529.10\n",
       "1  2013-2015                               524.55\n",
       "2  2014-2016                               525.70\n",
       "3  2015-2017                               529.60\n",
       "4  2016-2018                               536.70\n",
       "5  2017-2019                               545.15"
      ]
     },
     "execution_count": 21,
     "metadata": {},
     "output_type": "execute_result"
    }
   ],
   "source": [
    "# Table pivot pour mettre le nombre de la population en sous nutrition en fonction des années\n",
    "sou_nut_par_année= pd.pivot_table(sous_nut, index='Année', values='Nombre_en_million_en_sous_nutrition', aggfunc='sum')\n",
    "sou_nut_par_année\n",
    "sou_nut_par_année.reset_index()"
   ]
  },
  {
   "cell_type": "code",
   "execution_count": 22,
   "id": "9e2e24fa",
   "metadata": {},
   "outputs": [
    {
     "data": {
      "text/html": [
       "<div>\n",
       "<style scoped>\n",
       "    .dataframe tbody tr th:only-of-type {\n",
       "        vertical-align: middle;\n",
       "    }\n",
       "\n",
       "    .dataframe tbody tr th {\n",
       "        vertical-align: top;\n",
       "    }\n",
       "\n",
       "    .dataframe thead th {\n",
       "        text-align: right;\n",
       "    }\n",
       "</style>\n",
       "<table border=\"1\" class=\"dataframe\">\n",
       "  <thead>\n",
       "    <tr style=\"text-align: right;\">\n",
       "      <th></th>\n",
       "      <th>Zone</th>\n",
       "      <th>Année</th>\n",
       "      <th>Nombre_en_million_en_sous_nutrition</th>\n",
       "    </tr>\n",
       "  </thead>\n",
       "  <tbody>\n",
       "    <tr>\n",
       "      <th>0</th>\n",
       "      <td>Afghanistan</td>\n",
       "      <td>2013</td>\n",
       "      <td>8.6</td>\n",
       "    </tr>\n",
       "    <tr>\n",
       "      <th>1</th>\n",
       "      <td>Afghanistan</td>\n",
       "      <td>2014</td>\n",
       "      <td>8.8</td>\n",
       "    </tr>\n",
       "  </tbody>\n",
       "</table>\n",
       "</div>"
      ],
      "text/plain": [
       "          Zone Année  Nombre_en_million_en_sous_nutrition\n",
       "0  Afghanistan  2013                                  8.6\n",
       "1  Afghanistan  2014                                  8.8"
      ]
     },
     "execution_count": 22,
     "metadata": {},
     "output_type": "execute_result"
    }
   ],
   "source": [
    "# Utiliser la fonction replace pour replacer les intervalles des années en une année médianne \n",
    "sous_nut['Année'].replace({\"2012-2014\": \"2013\",\"2013-2015\":\"2014\",\"2014-2016\":\"2015\",\"2015-2017\":\"2016\",\"2016-2018\":\"2017\",\"2017-2019\":\"2018\"}, inplace=True)\n",
    "sous_nut.head(2)"
   ]
  },
  {
   "cell_type": "code",
   "execution_count": 23,
   "id": "e29f4ca0",
   "metadata": {},
   "outputs": [],
   "source": [
    "# Changer l'unité de la colonne Population du tableau pop en millions\n",
    "pop['Population'] =  pop['Population'].astype(float)/1000"
   ]
  },
  {
   "cell_type": "markdown",
   "id": "9e534126",
   "metadata": {},
   "source": [
    "#### Réaliser la jointure entre la dataframe population et la sous-nutrition pour plus d'analyses"
   ]
  },
  {
   "cell_type": "code",
   "execution_count": 24,
   "id": "b5e0ee7f",
   "metadata": {},
   "outputs": [],
   "source": [
    "# Changer type de la colonne Année en numeric pour pouvoir merger\n",
    "sous_nut[\"Année\"]= pd.to_numeric ( sous_nut[\"Année\"])"
   ]
  },
  {
   "cell_type": "code",
   "execution_count": 25,
   "id": "2b2ae032",
   "metadata": {},
   "outputs": [
    {
     "data": {
      "text/html": [
       "<div>\n",
       "<style scoped>\n",
       "    .dataframe tbody tr th:only-of-type {\n",
       "        vertical-align: middle;\n",
       "    }\n",
       "\n",
       "    .dataframe tbody tr th {\n",
       "        vertical-align: top;\n",
       "    }\n",
       "\n",
       "    .dataframe thead th {\n",
       "        text-align: right;\n",
       "    }\n",
       "</style>\n",
       "<table border=\"1\" class=\"dataframe\">\n",
       "  <thead>\n",
       "    <tr style=\"text-align: right;\">\n",
       "      <th></th>\n",
       "      <th>Zone</th>\n",
       "      <th>Année</th>\n",
       "      <th>Nombre_en_million_en_sous_nutrition</th>\n",
       "      <th>Population</th>\n",
       "    </tr>\n",
       "  </thead>\n",
       "  <tbody>\n",
       "    <tr>\n",
       "      <th>0</th>\n",
       "      <td>Afghanistan</td>\n",
       "      <td>2013</td>\n",
       "      <td>8.6</td>\n",
       "      <td>32.269589</td>\n",
       "    </tr>\n",
       "    <tr>\n",
       "      <th>1</th>\n",
       "      <td>Afghanistan</td>\n",
       "      <td>2014</td>\n",
       "      <td>8.8</td>\n",
       "      <td>33.370794</td>\n",
       "    </tr>\n",
       "    <tr>\n",
       "      <th>2</th>\n",
       "      <td>Afghanistan</td>\n",
       "      <td>2015</td>\n",
       "      <td>8.9</td>\n",
       "      <td>34.413603</td>\n",
       "    </tr>\n",
       "    <tr>\n",
       "      <th>3</th>\n",
       "      <td>Afghanistan</td>\n",
       "      <td>2016</td>\n",
       "      <td>9.7</td>\n",
       "      <td>35.383032</td>\n",
       "    </tr>\n",
       "    <tr>\n",
       "      <th>4</th>\n",
       "      <td>Afghanistan</td>\n",
       "      <td>2017</td>\n",
       "      <td>10.5</td>\n",
       "      <td>36.296113</td>\n",
       "    </tr>\n",
       "    <tr>\n",
       "      <th>...</th>\n",
       "      <td>...</td>\n",
       "      <td>...</td>\n",
       "      <td>...</td>\n",
       "      <td>...</td>\n",
       "    </tr>\n",
       "    <tr>\n",
       "      <th>1213</th>\n",
       "      <td>Zimbabwe</td>\n",
       "      <td>2014</td>\n",
       "      <td>NaN</td>\n",
       "      <td>13.586707</td>\n",
       "    </tr>\n",
       "    <tr>\n",
       "      <th>1214</th>\n",
       "      <td>Zimbabwe</td>\n",
       "      <td>2015</td>\n",
       "      <td>NaN</td>\n",
       "      <td>13.814629</td>\n",
       "    </tr>\n",
       "    <tr>\n",
       "      <th>1215</th>\n",
       "      <td>Zimbabwe</td>\n",
       "      <td>2016</td>\n",
       "      <td>NaN</td>\n",
       "      <td>14.030331</td>\n",
       "    </tr>\n",
       "    <tr>\n",
       "      <th>1216</th>\n",
       "      <td>Zimbabwe</td>\n",
       "      <td>2017</td>\n",
       "      <td>NaN</td>\n",
       "      <td>14.236595</td>\n",
       "    </tr>\n",
       "    <tr>\n",
       "      <th>1217</th>\n",
       "      <td>Zimbabwe</td>\n",
       "      <td>2018</td>\n",
       "      <td>NaN</td>\n",
       "      <td>14.438802</td>\n",
       "    </tr>\n",
       "  </tbody>\n",
       "</table>\n",
       "<p>1218 rows × 4 columns</p>\n",
       "</div>"
      ],
      "text/plain": [
       "             Zone  Année  Nombre_en_million_en_sous_nutrition  Population\n",
       "0     Afghanistan   2013                                  8.6   32.269589\n",
       "1     Afghanistan   2014                                  8.8   33.370794\n",
       "2     Afghanistan   2015                                  8.9   34.413603\n",
       "3     Afghanistan   2016                                  9.7   35.383032\n",
       "4     Afghanistan   2017                                 10.5   36.296113\n",
       "...           ...    ...                                  ...         ...\n",
       "1213     Zimbabwe   2014                                  NaN   13.586707\n",
       "1214     Zimbabwe   2015                                  NaN   13.814629\n",
       "1215     Zimbabwe   2016                                  NaN   14.030331\n",
       "1216     Zimbabwe   2017                                  NaN   14.236595\n",
       "1217     Zimbabwe   2018                                  NaN   14.438802\n",
       "\n",
       "[1218 rows x 4 columns]"
      ]
     },
     "execution_count": 25,
     "metadata": {},
     "output_type": "execute_result"
    }
   ],
   "source": [
    "# Tableau merge pour faire la jointure entre le dataframe population et la sous-nutrition avec inner \n",
    "sous_nut_population= pd.merge(sous_nut.reset_index(drop=True),pop, on= ['Zone','Année'], how= 'inner')\n",
    "sous_nut_population"
   ]
  },
  {
   "cell_type": "code",
   "execution_count": 26,
   "id": "754340c5",
   "metadata": {},
   "outputs": [
    {
     "name": "stdout",
     "output_type": "stream",
     "text": [
      "7543.8 millions de personnes\n"
     ]
    }
   ],
   "source": [
    "# somme de la population en 2017\n",
    "pop_2017= sous_nut_population[sous_nut_population[\"Année\"]== 2017][\"Population\"].sum()\n",
    "print(round(pop_2017,2),'millions de personnes')"
   ]
  },
  {
   "cell_type": "code",
   "execution_count": 27,
   "id": "02ff4c56",
   "metadata": {},
   "outputs": [
    {
     "name": "stdout",
     "output_type": "stream",
     "text": [
      "536.7 millions de personnes\n"
     ]
    }
   ],
   "source": [
    "# somme des personnes mal-nourries en 2017\n",
    "sous_nut_2017=sous_nut_population[sous_nut_population[\"Année\"]== 2017]['Nombre_en_million_en_sous_nutrition'].sum()\n",
    "print(round(sous_nut_2017,2),'millions de personnes')"
   ]
  },
  {
   "cell_type": "markdown",
   "id": "c731a946",
   "metadata": {},
   "source": [
    "####  Réponse question 1) la proportion de personnes en état de sous-nutrition en pourcentage"
   ]
  },
  {
   "cell_type": "code",
   "execution_count": 28,
   "id": "ff64bbd5",
   "metadata": {},
   "outputs": [
    {
     "name": "stdout",
     "output_type": "stream",
     "text": [
      "7.11 %\n"
     ]
    }
   ],
   "source": [
    "# la proportion de personnes en état de sous-nutrition en pourcentage\n",
    "proportion_sous_nutrition_2017=( sous_nut_2017/pop_2017)*100\n",
    "print(round(proportion_sous_nutrition_2017,2),'%')"
   ]
  },
  {
   "cell_type": "code",
   "execution_count": 190,
   "id": "3d79e51e",
   "metadata": {},
   "outputs": [
    {
     "data": {
      "text/plain": [
       "<matplotlib.legend.Legend at 0x28ea9147520>"
      ]
     },
     "execution_count": 190,
     "metadata": {},
     "output_type": "execute_result"
    },
    {
     "data": {
      "image/png": "[encoded data removed]",
      "text/plain": [
       "<Figure size 720x504 with 1 Axes>"
      ]
     },
     "metadata": {},
     "output_type": "display_data"
    }
   ],
   "source": [
    "plt.figure(figsize = (10, 7))#Définir la taille du graphique\n",
    "sous_nut_2017= [7.11 , (100-7.11)] #Liste des valeurs à afficher dans le graphique\n",
    "plt.pie(sous_nut_2017, labels = ['Population_mal_nourries', 'Population_nourrie'],#Définition du camembert avec la fonction plt.pie\n",
    "           colors = ['yellow', 'purple'],#couleurs à utiliser dans le camembert\n",
    "           explode = [0, 0],#tableau du même nobre de valeurs à afficher qui indique l'éloignement de la part par rapport aux autres valeurs \n",
    "           autopct = lambda dispo: str(round(dispo, 2)) + '%',#indique le  porcentage et ses nombre de décimales\n",
    "           pctdistance = 0.7, labeldistance = 1.4,#distance du pourcentage par rapport au centre\n",
    "           shadow = True)#pour affiher l'ombre du camembert si True\n",
    "plt.legend()"
   ]
  },
  {
   "cell_type": "markdown",
   "id": "f84fe9fd",
   "metadata": {},
   "source": [
    "# Question 2) le nombre théorique de personnes qui pourraient être nourries"
   ]
  },
  {
   "cell_type": "code",
   "execution_count": 30,
   "id": "fcb15321",
   "metadata": {},
   "outputs": [],
   "source": [
    "pop=pd.read_csv('population.csv')\n",
    "dispo= pd.read_csv('dispo_alimentaire.csv')"
   ]
  },
  {
   "cell_type": "code",
   "execution_count": 31,
   "id": "2db8c1ba",
   "metadata": {},
   "outputs": [
    {
     "data": {
      "text/html": [
       "<div>\n",
       "<style scoped>\n",
       "    .dataframe tbody tr th:only-of-type {\n",
       "        vertical-align: middle;\n",
       "    }\n",
       "\n",
       "    .dataframe tbody tr th {\n",
       "        vertical-align: top;\n",
       "    }\n",
       "\n",
       "    .dataframe thead th {\n",
       "        text-align: right;\n",
       "    }\n",
       "</style>\n",
       "<table border=\"1\" class=\"dataframe\">\n",
       "  <thead>\n",
       "    <tr style=\"text-align: right;\">\n",
       "      <th></th>\n",
       "      <th>Zone</th>\n",
       "      <th>Disponibilité alimentaire (Kcal/personne/jour)</th>\n",
       "    </tr>\n",
       "  </thead>\n",
       "  <tbody>\n",
       "    <tr>\n",
       "      <th>0</th>\n",
       "      <td>Afghanistan</td>\n",
       "      <td>2087.0</td>\n",
       "    </tr>\n",
       "    <tr>\n",
       "      <th>1</th>\n",
       "      <td>Afrique du Sud</td>\n",
       "      <td>3020.0</td>\n",
       "    </tr>\n",
       "    <tr>\n",
       "      <th>2</th>\n",
       "      <td>Albanie</td>\n",
       "      <td>3188.0</td>\n",
       "    </tr>\n",
       "    <tr>\n",
       "      <th>3</th>\n",
       "      <td>Algérie</td>\n",
       "      <td>3293.0</td>\n",
       "    </tr>\n",
       "    <tr>\n",
       "      <th>4</th>\n",
       "      <td>Allemagne</td>\n",
       "      <td>3503.0</td>\n",
       "    </tr>\n",
       "    <tr>\n",
       "      <th>...</th>\n",
       "      <td>...</td>\n",
       "      <td>...</td>\n",
       "    </tr>\n",
       "    <tr>\n",
       "      <th>169</th>\n",
       "      <td>Émirats arabes unis</td>\n",
       "      <td>3275.0</td>\n",
       "    </tr>\n",
       "    <tr>\n",
       "      <th>170</th>\n",
       "      <td>Équateur</td>\n",
       "      <td>2346.0</td>\n",
       "    </tr>\n",
       "    <tr>\n",
       "      <th>171</th>\n",
       "      <td>États-Unis d'Amérique</td>\n",
       "      <td>3682.0</td>\n",
       "    </tr>\n",
       "    <tr>\n",
       "      <th>172</th>\n",
       "      <td>Éthiopie</td>\n",
       "      <td>2129.0</td>\n",
       "    </tr>\n",
       "    <tr>\n",
       "      <th>173</th>\n",
       "      <td>Îles Salomon</td>\n",
       "      <td>2383.0</td>\n",
       "    </tr>\n",
       "  </tbody>\n",
       "</table>\n",
       "<p>174 rows × 2 columns</p>\n",
       "</div>"
      ],
      "text/plain": [
       "                      Zone  Disponibilité alimentaire (Kcal/personne/jour)\n",
       "0              Afghanistan                                          2087.0\n",
       "1           Afrique du Sud                                          3020.0\n",
       "2                  Albanie                                          3188.0\n",
       "3                  Algérie                                          3293.0\n",
       "4                Allemagne                                          3503.0\n",
       "..                     ...                                             ...\n",
       "169    Émirats arabes unis                                          3275.0\n",
       "170               Équateur                                          2346.0\n",
       "171  États-Unis d'Amérique                                          3682.0\n",
       "172               Éthiopie                                          2129.0\n",
       "173           Îles Salomon                                          2383.0\n",
       "\n",
       "[174 rows x 2 columns]"
      ]
     },
     "execution_count": 31,
     "metadata": {},
     "output_type": "execute_result"
    }
   ],
   "source": [
    "# Table pivot pour mettre la disponibilité alimentaire en fonction de zone\n",
    "dispo_alimentaire_zone=pd.pivot_table (dispo , index='Zone', values='Disponibilité alimentaire (Kcal/personne/jour)', aggfunc=\"sum\")\n",
    "dispo_alimentaire_zone\n",
    "dispo_alimentaire_zone.reset_index()"
   ]
  },
  {
   "cell_type": "code",
   "execution_count": 32,
   "id": "46064e9d",
   "metadata": {},
   "outputs": [],
   "source": [
    "# Renommer colonne Valeur dans la data pop\n",
    "pop = pop.rename(columns={'Valeur':'Population'})"
   ]
  },
  {
   "cell_type": "code",
   "execution_count": 33,
   "id": "57bf2640",
   "metadata": {},
   "outputs": [],
   "source": [
    "# Changer l'unité de la colonne Population du tableau pop en millions\n",
    "pop['Population'] =  pop['Population'].astype(float)/1000"
   ]
  },
  {
   "cell_type": "code",
   "execution_count": 34,
   "id": "3dfdfaf1",
   "metadata": {},
   "outputs": [
    {
     "data": {
      "text/html": [
       "<div>\n",
       "<style scoped>\n",
       "    .dataframe tbody tr th:only-of-type {\n",
       "        vertical-align: middle;\n",
       "    }\n",
       "\n",
       "    .dataframe tbody tr th {\n",
       "        vertical-align: top;\n",
       "    }\n",
       "\n",
       "    .dataframe thead th {\n",
       "        text-align: right;\n",
       "    }\n",
       "</style>\n",
       "<table border=\"1\" class=\"dataframe\">\n",
       "  <thead>\n",
       "    <tr style=\"text-align: right;\">\n",
       "      <th></th>\n",
       "      <th>Zone</th>\n",
       "      <th>Année</th>\n",
       "      <th>Population</th>\n",
       "    </tr>\n",
       "  </thead>\n",
       "  <tbody>\n",
       "    <tr>\n",
       "      <th>4</th>\n",
       "      <td>Afghanistan</td>\n",
       "      <td>2017</td>\n",
       "      <td>36.296113</td>\n",
       "    </tr>\n",
       "    <tr>\n",
       "      <th>10</th>\n",
       "      <td>Afrique du Sud</td>\n",
       "      <td>2017</td>\n",
       "      <td>57.009756</td>\n",
       "    </tr>\n",
       "    <tr>\n",
       "      <th>16</th>\n",
       "      <td>Albanie</td>\n",
       "      <td>2017</td>\n",
       "      <td>2.884169</td>\n",
       "    </tr>\n",
       "    <tr>\n",
       "      <th>22</th>\n",
       "      <td>Algérie</td>\n",
       "      <td>2017</td>\n",
       "      <td>41.389189</td>\n",
       "    </tr>\n",
       "    <tr>\n",
       "      <th>28</th>\n",
       "      <td>Allemagne</td>\n",
       "      <td>2017</td>\n",
       "      <td>82.658409</td>\n",
       "    </tr>\n",
       "    <tr>\n",
       "      <th>...</th>\n",
       "      <td>...</td>\n",
       "      <td>...</td>\n",
       "      <td>...</td>\n",
       "    </tr>\n",
       "    <tr>\n",
       "      <th>1390</th>\n",
       "      <td>Venezuela (République bolivarienne du)</td>\n",
       "      <td>2017</td>\n",
       "      <td>29.402484</td>\n",
       "    </tr>\n",
       "    <tr>\n",
       "      <th>1396</th>\n",
       "      <td>Viet Nam</td>\n",
       "      <td>2017</td>\n",
       "      <td>94.600648</td>\n",
       "    </tr>\n",
       "    <tr>\n",
       "      <th>1402</th>\n",
       "      <td>Yémen</td>\n",
       "      <td>2017</td>\n",
       "      <td>27.834819</td>\n",
       "    </tr>\n",
       "    <tr>\n",
       "      <th>1408</th>\n",
       "      <td>Zambie</td>\n",
       "      <td>2017</td>\n",
       "      <td>16.853599</td>\n",
       "    </tr>\n",
       "    <tr>\n",
       "      <th>1414</th>\n",
       "      <td>Zimbabwe</td>\n",
       "      <td>2017</td>\n",
       "      <td>14.236595</td>\n",
       "    </tr>\n",
       "  </tbody>\n",
       "</table>\n",
       "<p>236 rows × 3 columns</p>\n",
       "</div>"
      ],
      "text/plain": [
       "                                        Zone  Année  Population\n",
       "4                                Afghanistan   2017   36.296113\n",
       "10                            Afrique du Sud   2017   57.009756\n",
       "16                                   Albanie   2017    2.884169\n",
       "22                                   Algérie   2017   41.389189\n",
       "28                                 Allemagne   2017   82.658409\n",
       "...                                      ...    ...         ...\n",
       "1390  Venezuela (République bolivarienne du)   2017   29.402484\n",
       "1396                                Viet Nam   2017   94.600648\n",
       "1402                                   Yémen   2017   27.834819\n",
       "1408                                  Zambie   2017   16.853599\n",
       "1414                                Zimbabwe   2017   14.236595\n",
       "\n",
       "[236 rows x 3 columns]"
      ]
     },
     "execution_count": 34,
     "metadata": {},
     "output_type": "execute_result"
    }
   ],
   "source": [
    "# Utliser groupby pour grouper la population par l'Année 2017\n",
    "Population_année= pop.groupby(\"Année\")\n",
    "Population_2017= Population_année.get_group(2017)\n",
    "Population_2017"
   ]
  },
  {
   "cell_type": "code",
   "execution_count": 35,
   "id": "1b93980f",
   "metadata": {},
   "outputs": [
    {
     "data": {
      "text/html": [
       "<div>\n",
       "<style scoped>\n",
       "    .dataframe tbody tr th:only-of-type {\n",
       "        vertical-align: middle;\n",
       "    }\n",
       "\n",
       "    .dataframe tbody tr th {\n",
       "        vertical-align: top;\n",
       "    }\n",
       "\n",
       "    .dataframe thead th {\n",
       "        text-align: right;\n",
       "    }\n",
       "</style>\n",
       "<table border=\"1\" class=\"dataframe\">\n",
       "  <thead>\n",
       "    <tr style=\"text-align: right;\">\n",
       "      <th></th>\n",
       "      <th>Zone</th>\n",
       "      <th>Disponibilité alimentaire (Kcal/personne/jour)</th>\n",
       "      <th>Année</th>\n",
       "      <th>Population</th>\n",
       "    </tr>\n",
       "  </thead>\n",
       "  <tbody>\n",
       "    <tr>\n",
       "      <th>0</th>\n",
       "      <td>Afghanistan</td>\n",
       "      <td>2087.0</td>\n",
       "      <td>2017</td>\n",
       "      <td>36.296113</td>\n",
       "    </tr>\n",
       "    <tr>\n",
       "      <th>1</th>\n",
       "      <td>Afrique du Sud</td>\n",
       "      <td>3020.0</td>\n",
       "      <td>2017</td>\n",
       "      <td>57.009756</td>\n",
       "    </tr>\n",
       "    <tr>\n",
       "      <th>2</th>\n",
       "      <td>Albanie</td>\n",
       "      <td>3188.0</td>\n",
       "      <td>2017</td>\n",
       "      <td>2.884169</td>\n",
       "    </tr>\n",
       "    <tr>\n",
       "      <th>3</th>\n",
       "      <td>Algérie</td>\n",
       "      <td>3293.0</td>\n",
       "      <td>2017</td>\n",
       "      <td>41.389189</td>\n",
       "    </tr>\n",
       "    <tr>\n",
       "      <th>4</th>\n",
       "      <td>Allemagne</td>\n",
       "      <td>3503.0</td>\n",
       "      <td>2017</td>\n",
       "      <td>82.658409</td>\n",
       "    </tr>\n",
       "    <tr>\n",
       "      <th>...</th>\n",
       "      <td>...</td>\n",
       "      <td>...</td>\n",
       "      <td>...</td>\n",
       "      <td>...</td>\n",
       "    </tr>\n",
       "    <tr>\n",
       "      <th>167</th>\n",
       "      <td>Émirats arabes unis</td>\n",
       "      <td>3275.0</td>\n",
       "      <td>2017</td>\n",
       "      <td>9.487203</td>\n",
       "    </tr>\n",
       "    <tr>\n",
       "      <th>168</th>\n",
       "      <td>Équateur</td>\n",
       "      <td>2346.0</td>\n",
       "      <td>2017</td>\n",
       "      <td>16.785361</td>\n",
       "    </tr>\n",
       "    <tr>\n",
       "      <th>169</th>\n",
       "      <td>États-Unis d'Amérique</td>\n",
       "      <td>3682.0</td>\n",
       "      <td>2017</td>\n",
       "      <td>325.084756</td>\n",
       "    </tr>\n",
       "    <tr>\n",
       "      <th>170</th>\n",
       "      <td>Éthiopie</td>\n",
       "      <td>2129.0</td>\n",
       "      <td>2017</td>\n",
       "      <td>106.399924</td>\n",
       "    </tr>\n",
       "    <tr>\n",
       "      <th>171</th>\n",
       "      <td>Îles Salomon</td>\n",
       "      <td>2383.0</td>\n",
       "      <td>2017</td>\n",
       "      <td>0.636039</td>\n",
       "    </tr>\n",
       "  </tbody>\n",
       "</table>\n",
       "<p>172 rows × 4 columns</p>\n",
       "</div>"
      ],
      "text/plain": [
       "                      Zone  Disponibilité alimentaire (Kcal/personne/jour)  \\\n",
       "0              Afghanistan                                          2087.0   \n",
       "1           Afrique du Sud                                          3020.0   \n",
       "2                  Albanie                                          3188.0   \n",
       "3                  Algérie                                          3293.0   \n",
       "4                Allemagne                                          3503.0   \n",
       "..                     ...                                             ...   \n",
       "167    Émirats arabes unis                                          3275.0   \n",
       "168               Équateur                                          2346.0   \n",
       "169  États-Unis d'Amérique                                          3682.0   \n",
       "170               Éthiopie                                          2129.0   \n",
       "171           Îles Salomon                                          2383.0   \n",
       "\n",
       "     Année  Population  \n",
       "0     2017   36.296113  \n",
       "1     2017   57.009756  \n",
       "2     2017    2.884169  \n",
       "3     2017   41.389189  \n",
       "4     2017   82.658409  \n",
       "..     ...         ...  \n",
       "167   2017    9.487203  \n",
       "168   2017   16.785361  \n",
       "169   2017  325.084756  \n",
       "170   2017  106.399924  \n",
       "171   2017    0.636039  \n",
       "\n",
       "[172 rows x 4 columns]"
      ]
     },
     "execution_count": 35,
     "metadata": {},
     "output_type": "execute_result"
    }
   ],
   "source": [
    "# Tableau merge entre dispo_alimentaire_zone et population_2017 avec inner \n",
    "Dispo_alimentaire_zone_population_2017= pd.merge(dispo_alimentaire_zone.reset_index(),Population_2017, on= ['Zone'], how= 'inner')\n",
    "Dispo_alimentaire_zone_population_2017"
   ]
  },
  {
   "cell_type": "code",
   "execution_count": 36,
   "id": "c2363006",
   "metadata": {},
   "outputs": [
    {
     "data": {
      "text/html": [
       "<div>\n",
       "<style scoped>\n",
       "    .dataframe tbody tr th:only-of-type {\n",
       "        vertical-align: middle;\n",
       "    }\n",
       "\n",
       "    .dataframe tbody tr th {\n",
       "        vertical-align: top;\n",
       "    }\n",
       "\n",
       "    .dataframe thead th {\n",
       "        text-align: right;\n",
       "    }\n",
       "</style>\n",
       "<table border=\"1\" class=\"dataframe\">\n",
       "  <thead>\n",
       "    <tr style=\"text-align: right;\">\n",
       "      <th></th>\n",
       "      <th>Zone</th>\n",
       "      <th>Disponibilité alimentaire (Kcal/personne/jour)</th>\n",
       "      <th>Année</th>\n",
       "      <th>Population</th>\n",
       "      <th>disponibilité_alimentaire_totale_quotidienne</th>\n",
       "    </tr>\n",
       "  </thead>\n",
       "  <tbody>\n",
       "    <tr>\n",
       "      <th>0</th>\n",
       "      <td>Afghanistan</td>\n",
       "      <td>2087.0</td>\n",
       "      <td>2017</td>\n",
       "      <td>36.296113</td>\n",
       "      <td>75749.987831</td>\n",
       "    </tr>\n",
       "    <tr>\n",
       "      <th>1</th>\n",
       "      <td>Afrique du Sud</td>\n",
       "      <td>3020.0</td>\n",
       "      <td>2017</td>\n",
       "      <td>57.009756</td>\n",
       "      <td>172169.463120</td>\n",
       "    </tr>\n",
       "  </tbody>\n",
       "</table>\n",
       "</div>"
      ],
      "text/plain": [
       "             Zone  Disponibilité alimentaire (Kcal/personne/jour)  Année  \\\n",
       "0     Afghanistan                                          2087.0   2017   \n",
       "1  Afrique du Sud                                          3020.0   2017   \n",
       "\n",
       "   Population  disponibilité_alimentaire_totale_quotidienne  \n",
       "0   36.296113                                  75749.987831  \n",
       "1   57.009756                                 172169.463120  "
      ]
     },
     "execution_count": 36,
     "metadata": {},
     "output_type": "execute_result"
    }
   ],
   "source": [
    "# Ajouter une colonne au tableau Dispo_alimentaire_zone_population_2017 pour calculer la disponibilité_alimentaire_totale en fonction de la zone \n",
    "Dispo_alimentaire_zone_population_2017[\"disponibilité_alimentaire_totale_quotidienne\"]=Dispo_alimentaire_zone_population_2017[\"Population\"]* Dispo_alimentaire_zone_population_2017[\"Disponibilité alimentaire (Kcal/personne/jour)\"]\n",
    "Dispo_alimentaire_zone_population_2017.head(2)"
   ]
  },
  {
   "cell_type": "markdown",
   "id": "d0b65723",
   "metadata": {},
   "source": [
    "####  Réponse question 2) le nombre théorique de personnes qui pourraient être nourries"
   ]
  },
  {
   "cell_type": "code",
   "execution_count": 37,
   "id": "4ad2cde9",
   "metadata": {},
   "outputs": [
    {
     "name": "stdout",
     "output_type": "stream",
     "text": [
      "11.44 milliards de personnes\n"
     ]
    }
   ],
   "source": [
    "#le nombre théorique de personnes \n",
    "#qui pourraient être nourries en milliards\n",
    "nb_theorique_pers_nourries= (Dispo_alimentaire_zone_population_2017[\"disponibilité_alimentaire_totale_quotidienne\"].sum())/1828/1000\n",
    "nb_theorique_pers_nourries\n",
    "print(round(nb_theorique_pers_nourries,2),'milliards de personnes')"
   ]
  },
  {
   "cell_type": "markdown",
   "id": "b95bd1eb",
   "metadata": {},
   "source": [
    "[source choix 1828 kcal](https://knoema.fr/FAOFSD2020/fao-food-security-data?tsId=1017640#:~:text=Minimum%20dietary%20energy%20requirement%20(MDER)%20of%20World%20increased%20from%201%2C806,average%20annual%20rate%20of%200.06%25.)"
   ]
  },
  {
   "cell_type": "code",
   "execution_count": 38,
   "id": "42ff2ce2",
   "metadata": {},
   "outputs": [
    {
     "name": "stdout",
     "output_type": "stream",
     "text": [
      "7.55 milliards de personnes\n"
     ]
    }
   ],
   "source": [
    "# Calculer la somme du nombre de la population totale en 2017 pour calculer le pourcentage après\n",
    "Population_totale_2017 =Population_2017.Population.sum()/1000\n",
    "Population_totale_2017\n",
    "print( round (Population_totale_2017,2),'milliards de personnes')   "
   ]
  },
  {
   "cell_type": "markdown",
   "id": "67be713a",
   "metadata": {},
   "source": [
    "#### Pourcentage du nombre théorique des personnes qui pourraient être nourries par rapport à la population totale 2017"
   ]
  },
  {
   "cell_type": "code",
   "execution_count": 39,
   "id": "db57526e",
   "metadata": {},
   "outputs": [
    {
     "name": "stdout",
     "output_type": "stream",
     "text": [
      "151.61 %\n"
     ]
    }
   ],
   "source": [
    "# Calculer le pourcentage du nombre théorique des personnes qui pourraient être nourries\n",
    "#par rapport à la population totale 2017\n",
    "prop_pers_nourries= (nb_theorique_pers_nourries /Population_totale_2017)*100\n",
    "print(round(prop_pers_nourries,2),'%')"
   ]
  },
  {
   "cell_type": "code",
   "execution_count": 40,
   "id": "d7f10cb7",
   "metadata": {},
   "outputs": [
    {
     "data": {
      "text/html": [
       "<div>\n",
       "<style scoped>\n",
       "    .dataframe tbody tr th:only-of-type {\n",
       "        vertical-align: middle;\n",
       "    }\n",
       "\n",
       "    .dataframe tbody tr th {\n",
       "        vertical-align: top;\n",
       "    }\n",
       "\n",
       "    .dataframe thead th {\n",
       "        text-align: right;\n",
       "    }\n",
       "</style>\n",
       "<table border=\"1\" class=\"dataframe\">\n",
       "  <thead>\n",
       "    <tr style=\"text-align: right;\">\n",
       "      <th></th>\n",
       "      <th>Nature_pop</th>\n",
       "      <th>Nombre_pop</th>\n",
       "    </tr>\n",
       "  </thead>\n",
       "  <tbody>\n",
       "    <tr>\n",
       "      <th>0</th>\n",
       "      <td>population</td>\n",
       "      <td>7.55</td>\n",
       "    </tr>\n",
       "    <tr>\n",
       "      <th>1</th>\n",
       "      <td>pop_pourrait_être_nourrie</td>\n",
       "      <td>11.44</td>\n",
       "    </tr>\n",
       "    <tr>\n",
       "      <th>2</th>\n",
       "      <td>pop_mal_nourrie</td>\n",
       "      <td>0.53</td>\n",
       "    </tr>\n",
       "  </tbody>\n",
       "</table>\n",
       "</div>"
      ],
      "text/plain": [
       "                  Nature_pop  Nombre_pop\n",
       "0                 population        7.55\n",
       "1  pop_pourrait_être_nourrie       11.44\n",
       "2            pop_mal_nourrie        0.53"
      ]
     },
     "execution_count": 40,
     "metadata": {},
     "output_type": "execute_result"
    }
   ],
   "source": [
    "# initialize list of lists\n",
    "data1 = [['population', 7.55 ], ['pop_pourrait_être_nourrie',11.44 ],['pop_mal_nourrie', 0.53 ]]\n",
    " \n",
    "# Create the pandas DataFrame\n",
    "df1 = pd.DataFrame(data1, columns = ['Nature_pop', 'Nombre_pop'])\n",
    " \n",
    "# print dataframe.\n",
    "df1"
   ]
  },
  {
   "cell_type": "code",
   "execution_count": 41,
   "id": "5254227a",
   "metadata": {},
   "outputs": [
    {
     "data": {
      "image/png": "[encoded data removed]",
      "text/plain": [
       "<Figure size 720x144 with 1 Axes>"
      ]
     },
     "metadata": {
      "needs_background": "light"
     },
     "output_type": "display_data"
    }
   ],
   "source": [
    "population = df1['Nature_pop'].head(12)\n",
    "Nombre= df1['Nombre_pop'].head(12)\n",
    "  \n",
    "# La définition du graphique et sa taille totale\n",
    "fig, ax = plt.subplots(figsize=(10, 2))\n",
    "  \n",
    "# Définition des valeurs et couleurs des barres horizontales(ax.barh) ou verticales(ax.bar) \n",
    "ax.bar(population, Nombre, color=['blue','cyan','red'])\n",
    "  \n",
    "# Supprimer les les lignes des contrours du graphique\n",
    "for s in ['top', 'bottom', 'left', 'right']:\n",
    "    ax.spines[s].set_visible(False)\n",
    "  \n",
    "\n",
    "ax.xaxis.set_ticks_position('none')#indique l'endroit du nom de chaque barre\n",
    "ax.yaxis.set_ticks_position('both')#l'endroit des où mettre l'indicateur de chaque ligne horizontale\n",
    "  \n",
    "# Add padding between axes and labels\n",
    "ax.xaxis.set_tick_params(pad=5)\n",
    "ax.yaxis.set_tick_params(pad=10)\n",
    "  \n",
    "# Add x, y gridlines\n",
    "ax.grid(b=True, color='grey',\n",
    "        linestyle='-.', linewidth=0.5,\n",
    "        alpha=0.2)\n",
    "\n",
    "   \n",
    "# Add annotation to bars\n",
    "for bar in ax.patches:\n",
    "    plt.annotate(format(bar.get_height(), '.2f'),\n",
    "                   (bar.get_x() + bar.get_width() / 2,\n",
    "                    bar.get_height()), ha='center', va='center',\n",
    "                   size=10, xytext=(0, 8),\n",
    "                   textcoords='offset points')\n",
    "  \n",
    "# Add Plot Title\n",
    "ax.set_title('Comparaison des populations en milliards',\n",
    "             loc='left', )\n",
    " \n",
    "plt.show()"
   ]
  },
  {
   "cell_type": "markdown",
   "id": "4f99d299",
   "metadata": {},
   "source": [
    "#### conclusion"
   ]
  },
  {
   "cell_type": "markdown",
   "id": "2b0b698c",
   "metadata": {},
   "source": [
    "#### Malgré la disponibilité alimentaire mondiale qui peut couvrir jusqu'à 156% de la population,\n",
    "#### il y a 7.11% de la population en sous nutrition en 2017"
   ]
  },
  {
   "cell_type": "markdown",
   "id": "c162d4e8",
   "metadata": {},
   "source": [
    "# Question 3) le nombre théorique de personnes qui pourraient être nourries à partir de la disponibilité des produits végétaux"
   ]
  },
  {
   "cell_type": "code",
   "execution_count": 42,
   "id": "58ac2374",
   "metadata": {},
   "outputs": [],
   "source": [
    "dispo= pd.read_csv('dispo_alimentaire.csv')"
   ]
  },
  {
   "cell_type": "code",
   "execution_count": 43,
   "id": "1b559188",
   "metadata": {},
   "outputs": [],
   "source": [
    "#Filtrer l'origine végétale pour afficher seulement la catégorie vegetale dans la colonne Origine \n",
    "dispo ['dispo_végétale']= (dispo ['Origine']=='vegetale')"
   ]
  },
  {
   "cell_type": "code",
   "execution_count": 44,
   "id": "aa46de97",
   "metadata": {},
   "outputs": [
    {
     "data": {
      "text/html": [
       "<div>\n",
       "<style scoped>\n",
       "    .dataframe tbody tr th:only-of-type {\n",
       "        vertical-align: middle;\n",
       "    }\n",
       "\n",
       "    .dataframe tbody tr th {\n",
       "        vertical-align: top;\n",
       "    }\n",
       "\n",
       "    .dataframe thead th {\n",
       "        text-align: right;\n",
       "    }\n",
       "</style>\n",
       "<table border=\"1\" class=\"dataframe\">\n",
       "  <thead>\n",
       "    <tr style=\"text-align: right;\">\n",
       "      <th>Origine</th>\n",
       "      <th>animale</th>\n",
       "      <th>vegetale</th>\n",
       "      <th>All</th>\n",
       "    </tr>\n",
       "    <tr>\n",
       "      <th>Zone</th>\n",
       "      <th></th>\n",
       "      <th></th>\n",
       "      <th></th>\n",
       "    </tr>\n",
       "  </thead>\n",
       "  <tbody>\n",
       "    <tr>\n",
       "      <th>Afghanistan</th>\n",
       "      <td>216</td>\n",
       "      <td>1871</td>\n",
       "      <td>2087.0</td>\n",
       "    </tr>\n",
       "    <tr>\n",
       "      <th>Afrique du Sud</th>\n",
       "      <td>487</td>\n",
       "      <td>2533</td>\n",
       "      <td>3020.0</td>\n",
       "    </tr>\n",
       "    <tr>\n",
       "      <th>Albanie</th>\n",
       "      <td>985</td>\n",
       "      <td>2203</td>\n",
       "      <td>3188.0</td>\n",
       "    </tr>\n",
       "    <tr>\n",
       "      <th>Algérie</th>\n",
       "      <td>378</td>\n",
       "      <td>2915</td>\n",
       "      <td>3293.0</td>\n",
       "    </tr>\n",
       "    <tr>\n",
       "      <th>Allemagne</th>\n",
       "      <td>1042</td>\n",
       "      <td>2461</td>\n",
       "      <td>3503.0</td>\n",
       "    </tr>\n",
       "    <tr>\n",
       "      <th>...</th>\n",
       "      <td>...</td>\n",
       "      <td>...</td>\n",
       "      <td>...</td>\n",
       "    </tr>\n",
       "    <tr>\n",
       "      <th>Équateur</th>\n",
       "      <td>614</td>\n",
       "      <td>1732</td>\n",
       "      <td>2346.0</td>\n",
       "    </tr>\n",
       "    <tr>\n",
       "      <th>États-Unis d'Amérique</th>\n",
       "      <td>984</td>\n",
       "      <td>2698</td>\n",
       "      <td>3682.0</td>\n",
       "    </tr>\n",
       "    <tr>\n",
       "      <th>Éthiopie</th>\n",
       "      <td>124</td>\n",
       "      <td>2005</td>\n",
       "      <td>2129.0</td>\n",
       "    </tr>\n",
       "    <tr>\n",
       "      <th>Îles Salomon</th>\n",
       "      <td>196</td>\n",
       "      <td>2187</td>\n",
       "      <td>2383.0</td>\n",
       "    </tr>\n",
       "    <tr>\n",
       "      <th>All</th>\n",
       "      <td>96660</td>\n",
       "      <td>398782</td>\n",
       "      <td>495442.0</td>\n",
       "    </tr>\n",
       "  </tbody>\n",
       "</table>\n",
       "<p>175 rows × 3 columns</p>\n",
       "</div>"
      ],
      "text/plain": [
       "Origine                animale  vegetale       All\n",
       "Zone                                              \n",
       "Afghanistan                216      1871    2087.0\n",
       "Afrique du Sud             487      2533    3020.0\n",
       "Albanie                    985      2203    3188.0\n",
       "Algérie                    378      2915    3293.0\n",
       "Allemagne                 1042      2461    3503.0\n",
       "...                        ...       ...       ...\n",
       "Équateur                   614      1732    2346.0\n",
       "États-Unis d'Amérique      984      2698    3682.0\n",
       "Éthiopie                   124      2005    2129.0\n",
       "Îles Salomon               196      2187    2383.0\n",
       "All                      96660    398782  495442.0\n",
       "\n",
       "[175 rows x 3 columns]"
      ]
     },
     "execution_count": 44,
     "metadata": {},
     "output_type": "execute_result"
    }
   ],
   "source": [
    "# Table pivot pour mettre l'origine en fonction de la zone tout en séparant l'origine animale de l'origine vegetale\n",
    "origine_zone=pd.pivot_table (dispo , index='Zone', values='Disponibilité alimentaire (Kcal/personne/jour)',columns='Origine', aggfunc=\"sum\",\n",
    "                                margins = True,fill_value=0)\n",
    "origine_zone"
   ]
  },
  {
   "cell_type": "code",
   "execution_count": 45,
   "id": "3c2e6b32",
   "metadata": {},
   "outputs": [
    {
     "data": {
      "text/html": [
       "<div>\n",
       "<style scoped>\n",
       "    .dataframe tbody tr th:only-of-type {\n",
       "        vertical-align: middle;\n",
       "    }\n",
       "\n",
       "    .dataframe tbody tr th {\n",
       "        vertical-align: top;\n",
       "    }\n",
       "\n",
       "    .dataframe thead th {\n",
       "        text-align: right;\n",
       "    }\n",
       "</style>\n",
       "<table border=\"1\" class=\"dataframe\">\n",
       "  <thead>\n",
       "    <tr style=\"text-align: right;\">\n",
       "      <th></th>\n",
       "      <th>Zone</th>\n",
       "      <th>Année</th>\n",
       "      <th>Population</th>\n",
       "    </tr>\n",
       "  </thead>\n",
       "  <tbody>\n",
       "    <tr>\n",
       "      <th>1114</th>\n",
       "      <td>Royaume-Uni de Grande-Bretagne et d'Irlande du...</td>\n",
       "      <td>2017</td>\n",
       "      <td>66.727461</td>\n",
       "    </tr>\n",
       "  </tbody>\n",
       "</table>\n",
       "</div>"
      ],
      "text/plain": [
       "                                                   Zone  Année  Population\n",
       "1114  Royaume-Uni de Grande-Bretagne et d'Irlande du...   2017   66.727461"
      ]
     },
     "execution_count": 45,
     "metadata": {},
     "output_type": "execute_result"
    }
   ],
   "source": [
    "# Chercher l'index de la ligne dont la zone contient le mot Royaume pour corriger son orthographe \n",
    "Recherche_valeur = Population_2017[Population_2017['Zone'].str.contains('Royaume')]\n",
    "Recherche_valeur.head()"
   ]
  },
  {
   "cell_type": "code",
   "execution_count": 46,
   "id": "afcb1595",
   "metadata": {},
   "outputs": [
    {
     "data": {
      "text/plain": [
       "\"Royaume-Uni de Grande-Bretagne et d'Irlande du Nord\""
      ]
     },
     "execution_count": 46,
     "metadata": {},
     "output_type": "execute_result"
    }
   ],
   "source": [
    "# Afficher la ligne dont l'index est 1114\n",
    "Population_2017.loc[1114,'Zone']"
   ]
  },
  {
   "cell_type": "code",
   "execution_count": 170,
   "id": "3d0a4df9",
   "metadata": {},
   "outputs": [],
   "source": [
    "# Mettre à jour la ligne 1114 avec une valeur identique à celle utilisée dans le tableau origine zone pour pouvoir faire un merge \n",
    "Population_2017.loc[1114,'Zone']=\"Royaume-Uni\""
   ]
  },
  {
   "cell_type": "code",
   "execution_count": 48,
   "id": "afb9e38d",
   "metadata": {},
   "outputs": [
    {
     "data": {
      "text/plain": [
       "'Royaume-Uni'"
      ]
     },
     "execution_count": 48,
     "metadata": {},
     "output_type": "execute_result"
    }
   ],
   "source": [
    "Population_2017.loc[1114,'Zone']"
   ]
  },
  {
   "cell_type": "code",
   "execution_count": 49,
   "id": "33d0348c",
   "metadata": {},
   "outputs": [
    {
     "data": {
      "text/html": [
       "<div>\n",
       "<style scoped>\n",
       "    .dataframe tbody tr th:only-of-type {\n",
       "        vertical-align: middle;\n",
       "    }\n",
       "\n",
       "    .dataframe tbody tr th {\n",
       "        vertical-align: top;\n",
       "    }\n",
       "\n",
       "    .dataframe thead th {\n",
       "        text-align: right;\n",
       "    }\n",
       "</style>\n",
       "<table border=\"1\" class=\"dataframe\">\n",
       "  <thead>\n",
       "    <tr style=\"text-align: right;\">\n",
       "      <th></th>\n",
       "      <th>Zone</th>\n",
       "      <th>Année</th>\n",
       "      <th>Population</th>\n",
       "    </tr>\n",
       "  </thead>\n",
       "  <tbody>\n",
       "    <tr>\n",
       "      <th>1300</th>\n",
       "      <td>Tchad</td>\n",
       "      <td>2017</td>\n",
       "      <td>15.016753</td>\n",
       "    </tr>\n",
       "    <tr>\n",
       "      <th>1306</th>\n",
       "      <td>Tchéquie</td>\n",
       "      <td>2017</td>\n",
       "      <td>10.641034</td>\n",
       "    </tr>\n",
       "  </tbody>\n",
       "</table>\n",
       "</div>"
      ],
      "text/plain": [
       "          Zone  Année  Population\n",
       "1300     Tchad   2017   15.016753\n",
       "1306  Tchéquie   2017   10.641034"
      ]
     },
     "execution_count": 49,
     "metadata": {},
     "output_type": "execute_result"
    }
   ],
   "source": [
    "Recherche_valeur = Population_2017[Population_2017['Zone'].str.contains('Tch')]\n",
    "Recherche_valeur.head(2)"
   ]
  },
  {
   "cell_type": "code",
   "execution_count": 50,
   "id": "fcd6f9c7",
   "metadata": {},
   "outputs": [
    {
     "data": {
      "text/plain": [
       "'Tchéquie'"
      ]
     },
     "execution_count": 50,
     "metadata": {},
     "output_type": "execute_result"
    }
   ],
   "source": [
    "Population_2017.loc[1306,'Zone']"
   ]
  },
  {
   "cell_type": "code",
   "execution_count": 171,
   "id": "3c4d09fd",
   "metadata": {},
   "outputs": [],
   "source": [
    "Population_2017.loc[1306,'Zone']=\"Tchéquie (la)\""
   ]
  },
  {
   "cell_type": "code",
   "execution_count": 52,
   "id": "0dbc951c",
   "metadata": {},
   "outputs": [
    {
     "data": {
      "text/plain": [
       "'Tchéquie (la)'"
      ]
     },
     "execution_count": 52,
     "metadata": {},
     "output_type": "execute_result"
    }
   ],
   "source": [
    "Population_2017.loc[1306,'Zone']"
   ]
  },
  {
   "cell_type": "code",
   "execution_count": 53,
   "id": "1aa26e49",
   "metadata": {},
   "outputs": [
    {
     "data": {
      "text/html": [
       "<div>\n",
       "<style scoped>\n",
       "    .dataframe tbody tr th:only-of-type {\n",
       "        vertical-align: middle;\n",
       "    }\n",
       "\n",
       "    .dataframe tbody tr th {\n",
       "        vertical-align: top;\n",
       "    }\n",
       "\n",
       "    .dataframe thead th {\n",
       "        text-align: right;\n",
       "    }\n",
       "</style>\n",
       "<table border=\"1\" class=\"dataframe\">\n",
       "  <thead>\n",
       "    <tr style=\"text-align: right;\">\n",
       "      <th></th>\n",
       "      <th>Zone</th>\n",
       "      <th>animale</th>\n",
       "      <th>vegetale</th>\n",
       "      <th>All</th>\n",
       "      <th>Année</th>\n",
       "      <th>Population</th>\n",
       "    </tr>\n",
       "  </thead>\n",
       "  <tbody>\n",
       "    <tr>\n",
       "      <th>0</th>\n",
       "      <td>Afghanistan</td>\n",
       "      <td>216</td>\n",
       "      <td>1871</td>\n",
       "      <td>2087.0</td>\n",
       "      <td>2017</td>\n",
       "      <td>36.296113</td>\n",
       "    </tr>\n",
       "    <tr>\n",
       "      <th>1</th>\n",
       "      <td>Afrique du Sud</td>\n",
       "      <td>487</td>\n",
       "      <td>2533</td>\n",
       "      <td>3020.0</td>\n",
       "      <td>2017</td>\n",
       "      <td>57.009756</td>\n",
       "    </tr>\n",
       "    <tr>\n",
       "      <th>2</th>\n",
       "      <td>Albanie</td>\n",
       "      <td>985</td>\n",
       "      <td>2203</td>\n",
       "      <td>3188.0</td>\n",
       "      <td>2017</td>\n",
       "      <td>2.884169</td>\n",
       "    </tr>\n",
       "    <tr>\n",
       "      <th>3</th>\n",
       "      <td>Algérie</td>\n",
       "      <td>378</td>\n",
       "      <td>2915</td>\n",
       "      <td>3293.0</td>\n",
       "      <td>2017</td>\n",
       "      <td>41.389189</td>\n",
       "    </tr>\n",
       "    <tr>\n",
       "      <th>4</th>\n",
       "      <td>Allemagne</td>\n",
       "      <td>1042</td>\n",
       "      <td>2461</td>\n",
       "      <td>3503.0</td>\n",
       "      <td>2017</td>\n",
       "      <td>82.658409</td>\n",
       "    </tr>\n",
       "    <tr>\n",
       "      <th>...</th>\n",
       "      <td>...</td>\n",
       "      <td>...</td>\n",
       "      <td>...</td>\n",
       "      <td>...</td>\n",
       "      <td>...</td>\n",
       "      <td>...</td>\n",
       "    </tr>\n",
       "    <tr>\n",
       "      <th>169</th>\n",
       "      <td>Émirats arabes unis</td>\n",
       "      <td>557</td>\n",
       "      <td>2718</td>\n",
       "      <td>3275.0</td>\n",
       "      <td>2017</td>\n",
       "      <td>9.487203</td>\n",
       "    </tr>\n",
       "    <tr>\n",
       "      <th>170</th>\n",
       "      <td>Équateur</td>\n",
       "      <td>614</td>\n",
       "      <td>1732</td>\n",
       "      <td>2346.0</td>\n",
       "      <td>2017</td>\n",
       "      <td>16.785361</td>\n",
       "    </tr>\n",
       "    <tr>\n",
       "      <th>171</th>\n",
       "      <td>États-Unis d'Amérique</td>\n",
       "      <td>984</td>\n",
       "      <td>2698</td>\n",
       "      <td>3682.0</td>\n",
       "      <td>2017</td>\n",
       "      <td>325.084756</td>\n",
       "    </tr>\n",
       "    <tr>\n",
       "      <th>172</th>\n",
       "      <td>Éthiopie</td>\n",
       "      <td>124</td>\n",
       "      <td>2005</td>\n",
       "      <td>2129.0</td>\n",
       "      <td>2017</td>\n",
       "      <td>106.399924</td>\n",
       "    </tr>\n",
       "    <tr>\n",
       "      <th>173</th>\n",
       "      <td>Îles Salomon</td>\n",
       "      <td>196</td>\n",
       "      <td>2187</td>\n",
       "      <td>2383.0</td>\n",
       "      <td>2017</td>\n",
       "      <td>0.636039</td>\n",
       "    </tr>\n",
       "  </tbody>\n",
       "</table>\n",
       "<p>174 rows × 6 columns</p>\n",
       "</div>"
      ],
      "text/plain": [
       "                      Zone  animale  vegetale     All  Année  Population\n",
       "0              Afghanistan      216      1871  2087.0   2017   36.296113\n",
       "1           Afrique du Sud      487      2533  3020.0   2017   57.009756\n",
       "2                  Albanie      985      2203  3188.0   2017    2.884169\n",
       "3                  Algérie      378      2915  3293.0   2017   41.389189\n",
       "4                Allemagne     1042      2461  3503.0   2017   82.658409\n",
       "..                     ...      ...       ...     ...    ...         ...\n",
       "169    Émirats arabes unis      557      2718  3275.0   2017    9.487203\n",
       "170               Équateur      614      1732  2346.0   2017   16.785361\n",
       "171  États-Unis d'Amérique      984      2698  3682.0   2017  325.084756\n",
       "172               Éthiopie      124      2005  2129.0   2017  106.399924\n",
       "173           Îles Salomon      196      2187  2383.0   2017    0.636039\n",
       "\n",
       "[174 rows x 6 columns]"
      ]
     },
     "execution_count": 53,
     "metadata": {},
     "output_type": "execute_result"
    }
   ],
   "source": [
    "# Tableau merge entre Disop_origine et Population_2017 avec inner pour pouvoir calculer la disponibilité végétale mondiale \n",
    "Dispo_Origine= pd.merge(origine_zone.reset_index(),Population_2017, on= ['Zone'], how= 'inner')\n",
    "Dispo_Origine"
   ]
  },
  {
   "cell_type": "code",
   "execution_count": 54,
   "id": "aeb5065f",
   "metadata": {},
   "outputs": [],
   "source": [
    "# Supprimer colonne All \n",
    "del Dispo_Origine['All']"
   ]
  },
  {
   "cell_type": "code",
   "execution_count": 55,
   "id": "7ca3b54c",
   "metadata": {},
   "outputs": [],
   "source": [
    "# Supprimer colonne animale \n",
    "del Dispo_Origine['animale']"
   ]
  },
  {
   "cell_type": "code",
   "execution_count": 56,
   "id": "2c39e47b",
   "metadata": {},
   "outputs": [
    {
     "data": {
      "text/html": [
       "<div>\n",
       "<style scoped>\n",
       "    .dataframe tbody tr th:only-of-type {\n",
       "        vertical-align: middle;\n",
       "    }\n",
       "\n",
       "    .dataframe tbody tr th {\n",
       "        vertical-align: top;\n",
       "    }\n",
       "\n",
       "    .dataframe thead th {\n",
       "        text-align: right;\n",
       "    }\n",
       "</style>\n",
       "<table border=\"1\" class=\"dataframe\">\n",
       "  <thead>\n",
       "    <tr style=\"text-align: right;\">\n",
       "      <th></th>\n",
       "      <th>Zone</th>\n",
       "      <th>vegetale</th>\n",
       "      <th>Année</th>\n",
       "      <th>Population</th>\n",
       "    </tr>\n",
       "  </thead>\n",
       "  <tbody>\n",
       "    <tr>\n",
       "      <th>0</th>\n",
       "      <td>Afghanistan</td>\n",
       "      <td>1871</td>\n",
       "      <td>2017</td>\n",
       "      <td>36.296113</td>\n",
       "    </tr>\n",
       "    <tr>\n",
       "      <th>1</th>\n",
       "      <td>Afrique du Sud</td>\n",
       "      <td>2533</td>\n",
       "      <td>2017</td>\n",
       "      <td>57.009756</td>\n",
       "    </tr>\n",
       "    <tr>\n",
       "      <th>2</th>\n",
       "      <td>Albanie</td>\n",
       "      <td>2203</td>\n",
       "      <td>2017</td>\n",
       "      <td>2.884169</td>\n",
       "    </tr>\n",
       "    <tr>\n",
       "      <th>3</th>\n",
       "      <td>Algérie</td>\n",
       "      <td>2915</td>\n",
       "      <td>2017</td>\n",
       "      <td>41.389189</td>\n",
       "    </tr>\n",
       "    <tr>\n",
       "      <th>4</th>\n",
       "      <td>Allemagne</td>\n",
       "      <td>2461</td>\n",
       "      <td>2017</td>\n",
       "      <td>82.658409</td>\n",
       "    </tr>\n",
       "    <tr>\n",
       "      <th>...</th>\n",
       "      <td>...</td>\n",
       "      <td>...</td>\n",
       "      <td>...</td>\n",
       "      <td>...</td>\n",
       "    </tr>\n",
       "    <tr>\n",
       "      <th>169</th>\n",
       "      <td>Émirats arabes unis</td>\n",
       "      <td>2718</td>\n",
       "      <td>2017</td>\n",
       "      <td>9.487203</td>\n",
       "    </tr>\n",
       "    <tr>\n",
       "      <th>170</th>\n",
       "      <td>Équateur</td>\n",
       "      <td>1732</td>\n",
       "      <td>2017</td>\n",
       "      <td>16.785361</td>\n",
       "    </tr>\n",
       "    <tr>\n",
       "      <th>171</th>\n",
       "      <td>États-Unis d'Amérique</td>\n",
       "      <td>2698</td>\n",
       "      <td>2017</td>\n",
       "      <td>325.084756</td>\n",
       "    </tr>\n",
       "    <tr>\n",
       "      <th>172</th>\n",
       "      <td>Éthiopie</td>\n",
       "      <td>2005</td>\n",
       "      <td>2017</td>\n",
       "      <td>106.399924</td>\n",
       "    </tr>\n",
       "    <tr>\n",
       "      <th>173</th>\n",
       "      <td>Îles Salomon</td>\n",
       "      <td>2187</td>\n",
       "      <td>2017</td>\n",
       "      <td>0.636039</td>\n",
       "    </tr>\n",
       "  </tbody>\n",
       "</table>\n",
       "<p>174 rows × 4 columns</p>\n",
       "</div>"
      ],
      "text/plain": [
       "                      Zone  vegetale  Année  Population\n",
       "0              Afghanistan      1871   2017   36.296113\n",
       "1           Afrique du Sud      2533   2017   57.009756\n",
       "2                  Albanie      2203   2017    2.884169\n",
       "3                  Algérie      2915   2017   41.389189\n",
       "4                Allemagne      2461   2017   82.658409\n",
       "..                     ...       ...    ...         ...\n",
       "169    Émirats arabes unis      2718   2017    9.487203\n",
       "170               Équateur      1732   2017   16.785361\n",
       "171  États-Unis d'Amérique      2698   2017  325.084756\n",
       "172               Éthiopie      2005   2017  106.399924\n",
       "173           Îles Salomon      2187   2017    0.636039\n",
       "\n",
       "[174 rows x 4 columns]"
      ]
     },
     "execution_count": 56,
     "metadata": {},
     "output_type": "execute_result"
    }
   ],
   "source": [
    "# Affichage du tableau ou on trouve les colonnes essentielles pour notre calcul\n",
    "Dispo_Origine"
   ]
  },
  {
   "cell_type": "code",
   "execution_count": 57,
   "id": "178193c2",
   "metadata": {},
   "outputs": [],
   "source": [
    "# Mettre en ordre les colonnes \n",
    "Dispo_Origine = Dispo_Origine[['Zone','Année','vegetale','Population']]"
   ]
  },
  {
   "cell_type": "code",
   "execution_count": 173,
   "id": "1c16161a",
   "metadata": {},
   "outputs": [
    {
     "name": "stderr",
     "output_type": "stream",
     "text": [
      "C:\\Users\\ibenz\\anaconda3\\lib\\site-packages\\pandas\\core\\indexing.py:1773: SettingWithCopyWarning: \n",
      "A value is trying to be set on a copy of a slice from a DataFrame.\n",
      "Try using .loc[row_indexer,col_indexer] = value instead\n",
      "\n",
      "See the caveats in the documentation: https://pandas.pydata.org/pandas-docs/stable/user_guide/indexing.html#returning-a-view-versus-a-copy\n",
      "  self._setitem_single_column(ilocs[0], value, pi)\n"
     ]
    },
    {
     "data": {
      "text/html": [
       "<div>\n",
       "<style scoped>\n",
       "    .dataframe tbody tr th:only-of-type {\n",
       "        vertical-align: middle;\n",
       "    }\n",
       "\n",
       "    .dataframe tbody tr th {\n",
       "        vertical-align: top;\n",
       "    }\n",
       "\n",
       "    .dataframe thead th {\n",
       "        text-align: right;\n",
       "    }\n",
       "</style>\n",
       "<table border=\"1\" class=\"dataframe\">\n",
       "  <thead>\n",
       "    <tr style=\"text-align: right;\">\n",
       "      <th></th>\n",
       "      <th>Zone</th>\n",
       "      <th>Année</th>\n",
       "      <th>vegetale</th>\n",
       "      <th>Population</th>\n",
       "      <th>disponibilité_végétale_totale</th>\n",
       "    </tr>\n",
       "  </thead>\n",
       "  <tbody>\n",
       "    <tr>\n",
       "      <th>0</th>\n",
       "      <td>Afghanistan</td>\n",
       "      <td>2017</td>\n",
       "      <td>1871</td>\n",
       "      <td>36.296113</td>\n",
       "      <td>67910.027423</td>\n",
       "    </tr>\n",
       "    <tr>\n",
       "      <th>1</th>\n",
       "      <td>Afrique du Sud</td>\n",
       "      <td>2017</td>\n",
       "      <td>2533</td>\n",
       "      <td>57.009756</td>\n",
       "      <td>144405.711948</td>\n",
       "    </tr>\n",
       "    <tr>\n",
       "      <th>2</th>\n",
       "      <td>Albanie</td>\n",
       "      <td>2017</td>\n",
       "      <td>2203</td>\n",
       "      <td>2.884169</td>\n",
       "      <td>6353.824307</td>\n",
       "    </tr>\n",
       "    <tr>\n",
       "      <th>3</th>\n",
       "      <td>Algérie</td>\n",
       "      <td>2017</td>\n",
       "      <td>2915</td>\n",
       "      <td>41.389189</td>\n",
       "      <td>120649.485935</td>\n",
       "    </tr>\n",
       "    <tr>\n",
       "      <th>4</th>\n",
       "      <td>Allemagne</td>\n",
       "      <td>2017</td>\n",
       "      <td>2461</td>\n",
       "      <td>82.658409</td>\n",
       "      <td>203422.344549</td>\n",
       "    </tr>\n",
       "    <tr>\n",
       "      <th>...</th>\n",
       "      <td>...</td>\n",
       "      <td>...</td>\n",
       "      <td>...</td>\n",
       "      <td>...</td>\n",
       "      <td>...</td>\n",
       "    </tr>\n",
       "    <tr>\n",
       "      <th>169</th>\n",
       "      <td>Émirats arabes unis</td>\n",
       "      <td>2017</td>\n",
       "      <td>2718</td>\n",
       "      <td>9.487203</td>\n",
       "      <td>25786.217754</td>\n",
       "    </tr>\n",
       "    <tr>\n",
       "      <th>170</th>\n",
       "      <td>Équateur</td>\n",
       "      <td>2017</td>\n",
       "      <td>1732</td>\n",
       "      <td>16.785361</td>\n",
       "      <td>29072.245252</td>\n",
       "    </tr>\n",
       "    <tr>\n",
       "      <th>171</th>\n",
       "      <td>États-Unis d'Amérique</td>\n",
       "      <td>2017</td>\n",
       "      <td>2698</td>\n",
       "      <td>325.084756</td>\n",
       "      <td>877078.671688</td>\n",
       "    </tr>\n",
       "    <tr>\n",
       "      <th>172</th>\n",
       "      <td>Éthiopie</td>\n",
       "      <td>2017</td>\n",
       "      <td>2005</td>\n",
       "      <td>106.399924</td>\n",
       "      <td>213331.847620</td>\n",
       "    </tr>\n",
       "    <tr>\n",
       "      <th>173</th>\n",
       "      <td>Îles Salomon</td>\n",
       "      <td>2017</td>\n",
       "      <td>2187</td>\n",
       "      <td>0.636039</td>\n",
       "      <td>1391.017293</td>\n",
       "    </tr>\n",
       "  </tbody>\n",
       "</table>\n",
       "<p>174 rows × 5 columns</p>\n",
       "</div>"
      ],
      "text/plain": [
       "                      Zone  Année  vegetale  Population  \\\n",
       "0              Afghanistan   2017      1871   36.296113   \n",
       "1           Afrique du Sud   2017      2533   57.009756   \n",
       "2                  Albanie   2017      2203    2.884169   \n",
       "3                  Algérie   2017      2915   41.389189   \n",
       "4                Allemagne   2017      2461   82.658409   \n",
       "..                     ...    ...       ...         ...   \n",
       "169    Émirats arabes unis   2017      2718    9.487203   \n",
       "170               Équateur   2017      1732   16.785361   \n",
       "171  États-Unis d'Amérique   2017      2698  325.084756   \n",
       "172               Éthiopie   2017      2005  106.399924   \n",
       "173           Îles Salomon   2017      2187    0.636039   \n",
       "\n",
       "     disponibilité_végétale_totale  \n",
       "0                     67910.027423  \n",
       "1                    144405.711948  \n",
       "2                      6353.824307  \n",
       "3                    120649.485935  \n",
       "4                    203422.344549  \n",
       "..                             ...  \n",
       "169                   25786.217754  \n",
       "170                   29072.245252  \n",
       "171                  877078.671688  \n",
       "172                  213331.847620  \n",
       "173                    1391.017293  \n",
       "\n",
       "[174 rows x 5 columns]"
      ]
     },
     "execution_count": 173,
     "metadata": {},
     "output_type": "execute_result"
    }
   ],
   "source": [
    "# Utiliser .loc et .multiplay pour parcourir tout le tableau et calculer la disponibilité végétale totale en multipliant les colonnes Population et vegetale\n",
    "Dispo_Origine.loc[:, 'disponibilité_végétale_totale']=Dispo_Origine[\"Population\"].multiply(Dispo_Origine[\"vegetale\"])\n",
    "Dispo_Origine"
   ]
  },
  {
   "cell_type": "code",
   "execution_count": 59,
   "id": "8495260d",
   "metadata": {},
   "outputs": [
    {
     "name": "stdout",
     "output_type": "stream",
     "text": [
      "7.55 milliards de personnes\n"
     ]
    }
   ],
   "source": [
    "# Calculer la somme du nombre de la population totale en 2017 pour calculer le pourcentage après\n",
    "Population_totale_2017 =Population_2017.Population.sum()/1000\n",
    "Population_totale_2017\n",
    "print( round (Population_totale_2017,2),'milliards de personnes')   "
   ]
  },
  {
   "cell_type": "markdown",
   "id": "45a3aa07",
   "metadata": {},
   "source": [
    "#### Réponse question 3) le nombre théorique de personnes qui pourraient être nourries à partir de la disponibilité des produits végétaux"
   ]
  },
  {
   "cell_type": "code",
   "execution_count": 60,
   "id": "b1e7234a",
   "metadata": {},
   "outputs": [
    {
     "name": "stdout",
     "output_type": "stream",
     "text": [
      "9.55 milliards de personnes\n"
     ]
    }
   ],
   "source": [
    "# Le nombre théorique de personnes qui pourraient être nourries à partir de la disponibilité des produits végétaux\n",
    "nb_theorique_personnes_nourris_végétal= ((Dispo_Origine[\"disponibilité_végétale_totale\"].sum())/1828)/1000\n",
    "nb_theorique_personnes_nourris_végétal\n",
    "print(round (nb_theorique_personnes_nourris_végétal,2),'milliards de personnes')"
   ]
  },
  {
   "cell_type": "code",
   "execution_count": 61,
   "id": "5cf06ce8",
   "metadata": {},
   "outputs": [
    {
     "data": {
      "text/html": [
       "<div>\n",
       "<style scoped>\n",
       "    .dataframe tbody tr th:only-of-type {\n",
       "        vertical-align: middle;\n",
       "    }\n",
       "\n",
       "    .dataframe tbody tr th {\n",
       "        vertical-align: top;\n",
       "    }\n",
       "\n",
       "    .dataframe thead th {\n",
       "        text-align: right;\n",
       "    }\n",
       "</style>\n",
       "<table border=\"1\" class=\"dataframe\">\n",
       "  <thead>\n",
       "    <tr style=\"text-align: right;\">\n",
       "      <th></th>\n",
       "      <th>Nature_pop</th>\n",
       "      <th>Nombre_pop</th>\n",
       "    </tr>\n",
       "  </thead>\n",
       "  <tbody>\n",
       "    <tr>\n",
       "      <th>0</th>\n",
       "      <td>population</td>\n",
       "      <td>7.55</td>\n",
       "    </tr>\n",
       "    <tr>\n",
       "      <th>1</th>\n",
       "      <td>pop_pourrait_être_nourrie_végétale</td>\n",
       "      <td>9.55</td>\n",
       "    </tr>\n",
       "    <tr>\n",
       "      <th>2</th>\n",
       "      <td>pop_mal_nourrie</td>\n",
       "      <td>0.53</td>\n",
       "    </tr>\n",
       "  </tbody>\n",
       "</table>\n",
       "</div>"
      ],
      "text/plain": [
       "                           Nature_pop  Nombre_pop\n",
       "0                          population        7.55\n",
       "1  pop_pourrait_être_nourrie_végétale        9.55\n",
       "2                     pop_mal_nourrie        0.53"
      ]
     },
     "execution_count": 61,
     "metadata": {},
     "output_type": "execute_result"
    }
   ],
   "source": [
    "# Préparer un tableau avec les colonnes nécessaires pour le graphique et l'analyse\n",
    "# initialize list of lists\n",
    "data2 = [['population', 7.55 ], ['pop_pourrait_être_nourrie_végétale', 9.55 ],['pop_mal_nourrie', 0.53 ]]\n",
    " \n",
    "# Create the pandas DataFrame\n",
    "df2 = pd.DataFrame(data2, columns = ['Nature_pop', 'Nombre_pop'])\n",
    " \n",
    "# print dataframe.\n",
    "df2"
   ]
  },
  {
   "cell_type": "code",
   "execution_count": 62,
   "id": "fad6082b",
   "metadata": {},
   "outputs": [
    {
     "data": {
      "image/png": "[encoded data removed]",
      "text/plain": [
       "<Figure size 720x144 with 1 Axes>"
      ]
     },
     "metadata": {
      "needs_background": "light"
     },
     "output_type": "display_data"
    }
   ],
   "source": [
    "# Un graphique pour montrer comparaison des populations en milliards\n",
    "population = df2['Nature_pop'].head(12)\n",
    "Nombre= df2['Nombre_pop'].head(12)\n",
    "  \n",
    "# Figure Size\n",
    "fig, ax = plt.subplots(figsize=(10, 2))\n",
    "  \n",
    "# Horizontal Bar Plot\n",
    "ax.bar(population, Nombre, color=['blue','cyan','red'])\n",
    "  \n",
    "# Remove axes splines\n",
    "for s in ['top', 'bottom', 'left', 'right']:\n",
    "    ax.spines[s].set_visible(False)\n",
    "  \n",
    "# Remove x, y Ticks\n",
    "ax.xaxis.set_ticks_position('none')\n",
    "ax.yaxis.set_ticks_position('none')\n",
    "  \n",
    "# Add padding between axes and labels\n",
    "ax.xaxis.set_tick_params(pad=5)\n",
    "ax.yaxis.set_tick_params(pad=10)\n",
    "  \n",
    "# Add x, y gridlines\n",
    "ax.grid(b=True, color='grey',\n",
    "        linestyle='-.', linewidth=0.5,\n",
    "        alpha=0.2)\n",
    "\n",
    "   \n",
    "# Add annotation to bars\n",
    "for bar in ax.patches:\n",
    "    plt.annotate(format(bar.get_height(), '.2f'),\n",
    "                   (bar.get_x() + bar.get_width() / 2,\n",
    "                    bar.get_height()), ha='center', va='center',\n",
    "                   size=10, xytext=(0, 8),\n",
    "                   textcoords='offset points')\n",
    "  \n",
    "# Add Plot Title\n",
    "ax.set_title('Comparaison des populations en milliards',\n",
    "             loc='left', )\n",
    " \n",
    "plt.show()"
   ]
  },
  {
   "cell_type": "markdown",
   "id": "89a42807",
   "metadata": {},
   "source": [
    "[source choix 1828 kcal](https://knoema.fr/FAOFSD2020/fao-food-security-data?tsId=1017640#:~:text=Minimum%20dietary%20energy%20requirement%20(MDER)%20of%20World%20increased%20from%201%2C806,average%20annual%20rate%20of%200.06%25.)"
   ]
  },
  {
   "cell_type": "markdown",
   "id": "18165b0a",
   "metadata": {},
   "source": [
    "### Pourcentage du nombre de personnes qui pourraient être nourries à partir de la disponibilité des produits végétaux par rapport à la population totale 2017"
   ]
  },
  {
   "cell_type": "code",
   "execution_count": 63,
   "id": "37678e88",
   "metadata": {},
   "outputs": [
    {
     "name": "stdout",
     "output_type": "stream",
     "text": [
      "126.46 %\n"
     ]
    }
   ],
   "source": [
    "# calculer le pourcentage des personnes qui pourraient être nourries à partir de la disponibilité des produits végétaux par rapport à la population totale 2017\n",
    "prop_pers_nourries_végétal= (nb_theorique_personnes_nourris_végétal /Population_totale_2017)*100\n",
    "print(round (prop_pers_nourries_végétal,2),'%')"
   ]
  },
  {
   "cell_type": "markdown",
   "id": "ee5f09d5",
   "metadata": {},
   "source": [
    "### Conclusion"
   ]
  },
  {
   "cell_type": "markdown",
   "id": "df30a324",
   "metadata": {},
   "source": [
    "#### Les produits végéteaux, en plus d'etre très bénéfiques pour la santé , leur coût de production beaucoup moins onéreux que la consommation animale fait de ce type de consommation une très bonne solution pour les pays en sous-nutrition.\n",
    "#### Uniquement avec les produits végétaux on peut nourrir 126,46% de la population mondiale si leur répartition est équitable.\n"
   ]
  },
  {
   "cell_type": "code",
   "execution_count": 64,
   "id": "49cdb32b",
   "metadata": {},
   "outputs": [
    {
     "data": {
      "text/html": [
       "<div>\n",
       "<style scoped>\n",
       "    .dataframe tbody tr th:only-of-type {\n",
       "        vertical-align: middle;\n",
       "    }\n",
       "\n",
       "    .dataframe tbody tr th {\n",
       "        vertical-align: top;\n",
       "    }\n",
       "\n",
       "    .dataframe thead th {\n",
       "        text-align: right;\n",
       "    }\n",
       "</style>\n",
       "<table border=\"1\" class=\"dataframe\">\n",
       "  <thead>\n",
       "    <tr style=\"text-align: right;\">\n",
       "      <th></th>\n",
       "      <th>Nature_pop</th>\n",
       "      <th>Nombre_pop</th>\n",
       "    </tr>\n",
       "  </thead>\n",
       "  <tbody>\n",
       "    <tr>\n",
       "      <th>0</th>\n",
       "      <td>population</td>\n",
       "      <td>7.29</td>\n",
       "    </tr>\n",
       "    <tr>\n",
       "      <th>1</th>\n",
       "      <td>pop_pourrait_être_nourrie</td>\n",
       "      <td>11.44</td>\n",
       "    </tr>\n",
       "    <tr>\n",
       "      <th>2</th>\n",
       "      <td>pop_pourrait_être_nourrie_végétale</td>\n",
       "      <td>9.55</td>\n",
       "    </tr>\n",
       "    <tr>\n",
       "      <th>3</th>\n",
       "      <td>pop_mal_nourrie</td>\n",
       "      <td>0.53</td>\n",
       "    </tr>\n",
       "  </tbody>\n",
       "</table>\n",
       "</div>"
      ],
      "text/plain": [
       "                           Nature_pop  Nombre_pop\n",
       "0                          population        7.29\n",
       "1           pop_pourrait_être_nourrie       11.44\n",
       "2  pop_pourrait_être_nourrie_végétale        9.55\n",
       "3                     pop_mal_nourrie        0.53"
      ]
     },
     "execution_count": 64,
     "metadata": {},
     "output_type": "execute_result"
    }
   ],
   "source": [
    "# initialize list of lists\n",
    "data = [['population', 7.29 ], ['pop_pourrait_être_nourrie',11.44 ], ['pop_pourrait_être_nourrie_végétale', 9.55 ],['pop_mal_nourrie', 0.53 ]]\n",
    " \n",
    "# Create the pandas DataFrame\n",
    "df = pd.DataFrame(data, columns = ['Nature_pop', 'Nombre_pop'])\n",
    " \n",
    "# print dataframe.\n",
    "df"
   ]
  },
  {
   "cell_type": "code",
   "execution_count": 65,
   "id": "1e3851fd",
   "metadata": {},
   "outputs": [
    {
     "data": {
      "image/png": "[encoded data removed]",
      "text/plain": [
       "<Figure size 720x144 with 1 Axes>"
      ]
     },
     "metadata": {
      "needs_background": "light"
     },
     "output_type": "display_data"
    }
   ],
   "source": [
    "# Un graphique qui montre les personnes qui pourraient être nourries \n",
    "# ( par ou non des produits végéteaux ) et les comparer avec la population totale \n",
    "#et la population mal-nourrie\n",
    "population = df['Nature_pop'].head(12)\n",
    "Nombre= df['Nombre_pop'].head(12)\n",
    "  \n",
    "# Figure Size\n",
    "fig, ax = plt.subplots(figsize=(10, 2))\n",
    "  \n",
    "# Horizontal Bar Plot\n",
    "ax.barh(population, Nombre)\n",
    "  \n",
    "# Remove axes splines\n",
    "for s in ['top', 'bottom', 'left', 'right']:\n",
    "    ax.spines[s].set_visible(False)\n",
    "  \n",
    "# Remove x, y Ticks\n",
    "ax.xaxis.set_ticks_position('none')\n",
    "ax.yaxis.set_ticks_position('none')\n",
    "  \n",
    "# Add padding between axes and labels\n",
    "ax.xaxis.set_tick_params(pad=5)\n",
    "ax.yaxis.set_tick_params(pad=10)\n",
    "  \n",
    "# Add x, y gridlines\n",
    "ax.grid(b=True, color='grey',\n",
    "        linestyle='-.', linewidth=0.5,\n",
    "        alpha=0.2)\n",
    "  \n",
    "# Show top values\n",
    "ax.invert_yaxis()\n",
    "  \n",
    "# Add annotation to bars\n",
    "for i in ax.patches:\n",
    "    plt.text(i.get_width()+0.2, i.get_y()+0.5,\n",
    "             str(round((i.get_width()), 2)),\n",
    "             fontsize=10, fontweight='bold',\n",
    "             color='black')\n",
    "  \n",
    "# Add Plot Title\n",
    "ax.set_title('Nombre en fonction de la nature de population',\n",
    "             loc='left', )\n",
    "  \n",
    "plt.show()"
   ]
  },
  {
   "cell_type": "markdown",
   "id": "09d45945",
   "metadata": {},
   "source": [
    "# Question 4) Calcul des parts à partir de la disponibilité intérieure qui est égale à: nourriture + alimentation animaux + pertes + semences + transformation + autre utilisation)"
   ]
  },
  {
   "cell_type": "code",
   "execution_count": 66,
   "id": "1e872331",
   "metadata": {},
   "outputs": [],
   "source": [
    "dispo= pd.read_csv('dispo_alimentaire.csv')"
   ]
  },
  {
   "cell_type": "code",
   "execution_count": 67,
   "id": "21b3afc7",
   "metadata": {},
   "outputs": [],
   "source": [
    "# Remplacer les NAN par 0 pour pouvoir faire le calcul après \n",
    "dispo['Aliments pour animaux']=dispo['Aliments pour animaux'].replace(np.nan, 0)\n",
    "dispo['Autres Utilisations']=dispo['Autres Utilisations'].replace(np.nan, 0)\n",
    "dispo['Disponibilité intérieure']=dispo['Disponibilité intérieure'].replace(np.nan, 0)\n",
    "dispo['Exportations - Quantité']=dispo['Exportations - Quantité'].replace(np.nan, 0)\n",
    "dispo['Importations - Quantité']=dispo['Importations - Quantité'].replace(np.nan, 0)\n",
    "dispo['Nourriture']=dispo['Nourriture'].replace(np.nan, 0)\n",
    "dispo['Pertes']=dispo['Pertes'].replace(np.nan, 0)\n",
    "dispo['Production']=dispo['Production'].replace(np.nan, 0)\n",
    "dispo['Semences']=dispo['Semences'].replace(np.nan, 0)\n",
    "dispo['Traitement']=dispo['Traitement'].replace(np.nan, 0)\n",
    "dispo['Variation de stock']=dispo['Variation de stock'].replace(np.nan, 0)\n"
   ]
  },
  {
   "cell_type": "code",
   "execution_count": 68,
   "id": "dbf75273",
   "metadata": {},
   "outputs": [
    {
     "name": "stdout",
     "output_type": "stream",
     "text": [
      "9858592 milliers de tonnes\n"
     ]
    }
   ],
   "source": [
    "# Calcul de la diponibilité intériuere en utilisant la fonctions df [''].sum\n",
    "total_dispo_int_a =(dispo['Semences'].sum() + dispo['Nourriture'].sum() + dispo['Pertes'].sum() + dispo['Traitement'].sum() + dispo['Autres Utilisations'].sum() + dispo['Aliments pour animaux'].sum())\n",
    "print(round(total_dispo_int_a),'milliers de tonnes')"
   ]
  },
  {
   "cell_type": "code",
   "execution_count": 176,
   "id": "7bb57206",
   "metadata": {},
   "outputs": [
    {
     "data": {
      "text/html": [
       "<div>\n",
       "<style scoped>\n",
       "    .dataframe tbody tr th:only-of-type {\n",
       "        vertical-align: middle;\n",
       "    }\n",
       "\n",
       "    .dataframe tbody tr th {\n",
       "        vertical-align: top;\n",
       "    }\n",
       "\n",
       "    .dataframe thead th {\n",
       "        text-align: right;\n",
       "    }\n",
       "</style>\n",
       "<table border=\"1\" class=\"dataframe\">\n",
       "  <thead>\n",
       "    <tr style=\"text-align: right;\">\n",
       "      <th></th>\n",
       "      <th>Zone</th>\n",
       "      <th>Produit</th>\n",
       "      <th>Origine</th>\n",
       "      <th>Aliments pour animaux</th>\n",
       "      <th>Autres Utilisations</th>\n",
       "      <th>Disponibilité alimentaire (Kcal/personne/jour)</th>\n",
       "      <th>Disponibilité alimentaire en quantité (kg/personne/an)</th>\n",
       "      <th>Disponibilité de matière grasse en quantité (g/personne/jour)</th>\n",
       "      <th>Disponibilité de protéines en quantité (g/personne/jour)</th>\n",
       "      <th>Disponibilité intérieure</th>\n",
       "      <th>Exportations - Quantité</th>\n",
       "      <th>Importations - Quantité</th>\n",
       "      <th>Nourriture</th>\n",
       "      <th>Pertes</th>\n",
       "      <th>Production</th>\n",
       "      <th>Semences</th>\n",
       "      <th>Traitement</th>\n",
       "      <th>Variation de stock</th>\n",
       "    </tr>\n",
       "  </thead>\n",
       "  <tbody>\n",
       "    <tr>\n",
       "      <th>0</th>\n",
       "      <td>Afghanistan</td>\n",
       "      <td>Abats Comestible</td>\n",
       "      <td>animale</td>\n",
       "      <td>NaN</td>\n",
       "      <td>NaN</td>\n",
       "      <td>5.0</td>\n",
       "      <td>1.72</td>\n",
       "      <td>0.20</td>\n",
       "      <td>0.77</td>\n",
       "      <td>53.0</td>\n",
       "      <td>NaN</td>\n",
       "      <td>NaN</td>\n",
       "      <td>53.0</td>\n",
       "      <td>NaN</td>\n",
       "      <td>53.0</td>\n",
       "      <td>NaN</td>\n",
       "      <td>NaN</td>\n",
       "      <td>NaN</td>\n",
       "    </tr>\n",
       "    <tr>\n",
       "      <th>1</th>\n",
       "      <td>Afghanistan</td>\n",
       "      <td>Agrumes, Autres</td>\n",
       "      <td>vegetale</td>\n",
       "      <td>NaN</td>\n",
       "      <td>NaN</td>\n",
       "      <td>1.0</td>\n",
       "      <td>1.29</td>\n",
       "      <td>0.01</td>\n",
       "      <td>0.02</td>\n",
       "      <td>41.0</td>\n",
       "      <td>2.0</td>\n",
       "      <td>40.0</td>\n",
       "      <td>39.0</td>\n",
       "      <td>2.0</td>\n",
       "      <td>3.0</td>\n",
       "      <td>NaN</td>\n",
       "      <td>NaN</td>\n",
       "      <td>NaN</td>\n",
       "    </tr>\n",
       "    <tr>\n",
       "      <th>2</th>\n",
       "      <td>Afghanistan</td>\n",
       "      <td>Aliments pour enfants</td>\n",
       "      <td>vegetale</td>\n",
       "      <td>NaN</td>\n",
       "      <td>NaN</td>\n",
       "      <td>1.0</td>\n",
       "      <td>0.06</td>\n",
       "      <td>0.01</td>\n",
       "      <td>0.03</td>\n",
       "      <td>2.0</td>\n",
       "      <td>NaN</td>\n",
       "      <td>2.0</td>\n",
       "      <td>2.0</td>\n",
       "      <td>NaN</td>\n",
       "      <td>NaN</td>\n",
       "      <td>NaN</td>\n",
       "      <td>NaN</td>\n",
       "      <td>NaN</td>\n",
       "    </tr>\n",
       "    <tr>\n",
       "      <th>3</th>\n",
       "      <td>Afghanistan</td>\n",
       "      <td>Ananas</td>\n",
       "      <td>vegetale</td>\n",
       "      <td>NaN</td>\n",
       "      <td>NaN</td>\n",
       "      <td>0.0</td>\n",
       "      <td>0.00</td>\n",
       "      <td>NaN</td>\n",
       "      <td>NaN</td>\n",
       "      <td>0.0</td>\n",
       "      <td>NaN</td>\n",
       "      <td>0.0</td>\n",
       "      <td>0.0</td>\n",
       "      <td>NaN</td>\n",
       "      <td>NaN</td>\n",
       "      <td>NaN</td>\n",
       "      <td>NaN</td>\n",
       "      <td>NaN</td>\n",
       "    </tr>\n",
       "    <tr>\n",
       "      <th>4</th>\n",
       "      <td>Afghanistan</td>\n",
       "      <td>Bananes</td>\n",
       "      <td>vegetale</td>\n",
       "      <td>NaN</td>\n",
       "      <td>NaN</td>\n",
       "      <td>4.0</td>\n",
       "      <td>2.70</td>\n",
       "      <td>0.02</td>\n",
       "      <td>0.05</td>\n",
       "      <td>82.0</td>\n",
       "      <td>NaN</td>\n",
       "      <td>82.0</td>\n",
       "      <td>82.0</td>\n",
       "      <td>NaN</td>\n",
       "      <td>NaN</td>\n",
       "      <td>NaN</td>\n",
       "      <td>NaN</td>\n",
       "      <td>NaN</td>\n",
       "    </tr>\n",
       "  </tbody>\n",
       "</table>\n",
       "</div>"
      ],
      "text/plain": [
       "          Zone                Produit   Origine  Aliments pour animaux  \\\n",
       "0  Afghanistan       Abats Comestible   animale                    NaN   \n",
       "1  Afghanistan        Agrumes, Autres  vegetale                    NaN   \n",
       "2  Afghanistan  Aliments pour enfants  vegetale                    NaN   \n",
       "3  Afghanistan                 Ananas  vegetale                    NaN   \n",
       "4  Afghanistan                Bananes  vegetale                    NaN   \n",
       "\n",
       "   Autres Utilisations  Disponibilité alimentaire (Kcal/personne/jour)  \\\n",
       "0                  NaN                                             5.0   \n",
       "1                  NaN                                             1.0   \n",
       "2                  NaN                                             1.0   \n",
       "3                  NaN                                             0.0   \n",
       "4                  NaN                                             4.0   \n",
       "\n",
       "   Disponibilité alimentaire en quantité (kg/personne/an)  \\\n",
       "0                                               1.72        \n",
       "1                                               1.29        \n",
       "2                                               0.06        \n",
       "3                                               0.00        \n",
       "4                                               2.70        \n",
       "\n",
       "   Disponibilité de matière grasse en quantité (g/personne/jour)  \\\n",
       "0                                               0.20               \n",
       "1                                               0.01               \n",
       "2                                               0.01               \n",
       "3                                                NaN               \n",
       "4                                               0.02               \n",
       "\n",
       "   Disponibilité de protéines en quantité (g/personne/jour)  \\\n",
       "0                                               0.77          \n",
       "1                                               0.02          \n",
       "2                                               0.03          \n",
       "3                                                NaN          \n",
       "4                                               0.05          \n",
       "\n",
       "   Disponibilité intérieure  Exportations - Quantité  Importations - Quantité  \\\n",
       "0                      53.0                      NaN                      NaN   \n",
       "1                      41.0                      2.0                     40.0   \n",
       "2                       2.0                      NaN                      2.0   \n",
       "3                       0.0                      NaN                      0.0   \n",
       "4                      82.0                      NaN                     82.0   \n",
       "\n",
       "   Nourriture  Pertes  Production  Semences  Traitement  Variation de stock  \n",
       "0        53.0     NaN        53.0       NaN         NaN                 NaN  \n",
       "1        39.0     2.0         3.0       NaN         NaN                 NaN  \n",
       "2         2.0     NaN         NaN       NaN         NaN                 NaN  \n",
       "3         0.0     NaN         NaN       NaN         NaN                 NaN  \n",
       "4        82.0     NaN         NaN       NaN         NaN                 NaN  "
      ]
     },
     "execution_count": 176,
     "metadata": {},
     "output_type": "execute_result"
    }
   ],
   "source": [
    "dispo.head(5)"
   ]
  },
  {
   "cell_type": "markdown",
   "id": "c6ed9258",
   "metadata": {},
   "source": [
    "## a) la part qui est attribuée à l’alimentation animale"
   ]
  },
  {
   "cell_type": "code",
   "execution_count": 177,
   "id": "68027f4a",
   "metadata": {},
   "outputs": [
    {
     "name": "stdout",
     "output_type": "stream",
     "text": [
      "1304245 milliers de tonnes\n"
     ]
    }
   ],
   "source": [
    "# somme de la disponibilité des aliments pour animaux \n",
    "total_alimentation_animal= dispo[\"Aliments pour animaux\"].sum()\n",
    "print(round (total_alimentation_animal),'milliers de tonnes')"
   ]
  },
  {
   "cell_type": "code",
   "execution_count": 178,
   "id": "b4b7c4fd",
   "metadata": {},
   "outputs": [
    {
     "name": "stdout",
     "output_type": "stream",
     "text": [
      "13.23 %\n"
     ]
    }
   ],
   "source": [
    "#Calculer la part qui est attribuée à l'alimentation animale\n",
    "part_animal_a= ( total_alimentation_animal/total_dispo_int_a)*100\n",
    "print(round (part_animal_a,2),'%')"
   ]
  },
  {
   "cell_type": "markdown",
   "id": "e1a1eabb",
   "metadata": {},
   "source": [
    "## b) La part qui est perdue"
   ]
  },
  {
   "cell_type": "code",
   "execution_count": 179,
   "id": "bd2f29c6",
   "metadata": {},
   "outputs": [
    {
     "name": "stdout",
     "output_type": "stream",
     "text": [
      "453698 milliers de tonnes\n"
     ]
    }
   ],
   "source": [
    "# Somme de la perte totale \n",
    "total_perte= dispo [\"Pertes\"].sum()\n",
    "print(round (total_perte),'milliers de tonnes')"
   ]
  },
  {
   "cell_type": "code",
   "execution_count": 180,
   "id": "210b8214",
   "metadata": {},
   "outputs": [
    {
     "name": "stdout",
     "output_type": "stream",
     "text": [
      "4.6 %\n"
     ]
    }
   ],
   "source": [
    "#Calculer la part qui est attribuée à la part perdue \n",
    "part_perte_a= (total_perte/total_dispo_int_a)*100\n",
    "print(round (part_perte_a,2),'%')"
   ]
  },
  {
   "cell_type": "markdown",
   "id": "bc865c9c",
   "metadata": {},
   "source": [
    "## c) la part qui est concrètement utilisée pour l'alimentation humaine"
   ]
  },
  {
   "cell_type": "code",
   "execution_count": 181,
   "id": "abe40716",
   "metadata": {},
   "outputs": [
    {
     "name": "stdout",
     "output_type": "stream",
     "text": [
      "4876258 milliers de tonnes\n"
     ]
    }
   ],
   "source": [
    "# Somme de nourritre qui est utilisée pour l'alimentation humaine\n",
    "total_nourriture= dispo [\"Nourriture\"].sum()\n",
    "print(round (total_nourriture),'milliers de tonnes')"
   ]
  },
  {
   "cell_type": "code",
   "execution_count": 182,
   "id": "5d25c38e",
   "metadata": {},
   "outputs": [
    {
     "name": "stdout",
     "output_type": "stream",
     "text": [
      "49.46 %\n"
     ]
    }
   ],
   "source": [
    "#Calculer la part qui est attribuée à l'alimentation humaine\n",
    "part_humaine_a= (total_nourriture/total_dispo_int_a)*100\n",
    "print(round(part_humaine_a,2),'%')"
   ]
  },
  {
   "cell_type": "markdown",
   "id": "320543d4",
   "metadata": {},
   "source": [
    "## d) la part qui est concrètement utilisée pour traitements"
   ]
  },
  {
   "cell_type": "code",
   "execution_count": 183,
   "id": "33324ee1",
   "metadata": {},
   "outputs": [
    {
     "name": "stdout",
     "output_type": "stream",
     "text": [
      "2204687 milliers de tonnes\n"
     ]
    }
   ],
   "source": [
    "# somme des traitements\n",
    "total_traitements= dispo[\"Traitement\"].sum()\n",
    "print(round (total_traitements),'milliers de tonnes')"
   ]
  },
  {
   "cell_type": "code",
   "execution_count": 184,
   "id": "026d01b4",
   "metadata": {},
   "outputs": [
    {
     "name": "stdout",
     "output_type": "stream",
     "text": [
      "22.36 %\n"
     ]
    }
   ],
   "source": [
    "#Calculer la part qui est attribuée aux traitements\n",
    "part_traitements_a= (total_traitements/total_dispo_int_a)*100\n",
    "print(round(part_traitements_a,2),'%')"
   ]
  },
  {
   "cell_type": "markdown",
   "id": "d1e63d67",
   "metadata": {},
   "source": [
    "## e) la part qui est concrètement utilisée pour les semences"
   ]
  },
  {
   "cell_type": "code",
   "execution_count": 185,
   "id": "ff4f1612",
   "metadata": {},
   "outputs": [
    {
     "name": "stdout",
     "output_type": "stream",
     "text": [
      "154681 milliers de tonnes\n"
     ]
    }
   ],
   "source": [
    "# Somme de nourritre qui est utilisée pour l'alimentation humaine\n",
    "total_semences= dispo [\"Semences\"].sum()\n",
    "print(round (total_semences),'milliers de tonnes')"
   ]
  },
  {
   "cell_type": "code",
   "execution_count": 186,
   "id": "837c4f3a",
   "metadata": {},
   "outputs": [
    {
     "name": "stdout",
     "output_type": "stream",
     "text": [
      "1.57 %\n"
     ]
    }
   ],
   "source": [
    "#Calculer la part qui est attribuée aux semences\n",
    "part_semences_a= (total_semences/total_dispo_int_a)*100\n",
    "print(round(part_semences_a,2),'%')"
   ]
  },
  {
   "cell_type": "markdown",
   "id": "ce952097",
   "metadata": {},
   "source": [
    "## f) la part qui est concrètement utilisée pour les autres utilisations"
   ]
  },
  {
   "cell_type": "code",
   "execution_count": 187,
   "id": "2a485692",
   "metadata": {},
   "outputs": [
    {
     "name": "stdout",
     "output_type": "stream",
     "text": [
      "865023 milliers de tonnes\n"
     ]
    }
   ],
   "source": [
    "# Somme de nourritre qui est utilisée pour l'alimentation humaine\n",
    "total_autres= dispo [\"Autres Utilisations\"].sum()\n",
    "print(round (total_autres),'milliers de tonnes')"
   ]
  },
  {
   "cell_type": "code",
   "execution_count": 188,
   "id": "8fe24d56",
   "metadata": {},
   "outputs": [
    {
     "name": "stdout",
     "output_type": "stream",
     "text": [
      "8.77 %\n"
     ]
    }
   ],
   "source": [
    "#Calculer la part qui est attribuée pour les autres utilisations\n",
    "part_autres_a= (total_autres/total_dispo_int_a)*100\n",
    "print(round(part_autres_a,2),'%')"
   ]
  },
  {
   "cell_type": "markdown",
   "id": "ba0d2470",
   "metadata": {},
   "source": [
    "### g) Graphique en Camembert "
   ]
  },
  {
   "cell_type": "code",
   "execution_count": 75,
   "id": "91f1a5dc",
   "metadata": {},
   "outputs": [
    {
     "data": {
      "text/plain": [
       "<matplotlib.legend.Legend at 0x28ea91478b0>"
      ]
     },
     "execution_count": 75,
     "metadata": {},
     "output_type": "execute_result"
    },
    {
     "data": {
      "image/png": "[encoded data removed]",
      "text/plain": [
       "<Figure size 720x504 with 1 Axes>"
      ]
     },
     "metadata": {},
     "output_type": "display_data"
    }
   ],
   "source": [
    "plt.figure(figsize = (10, 7))\n",
    "dispo = [13.23, 4.60, 49.46,8.77,1.57,22.36] \n",
    "plt.pie(dispo, labels = ['Part_animale_a', 'Part_perte_a', 'Part_humaine_a','Part-autre_a','Part_semences','Part_traitements'],\n",
    "           colors = ['red', 'yellow', 'green','blue','purple','grey'],\n",
    "           explode = [0, 0, 0.05, 0,0,0],\n",
    "           autopct = lambda dispo: str(round(dispo, 2)) + '%',\n",
    "           pctdistance = 0.7, labeldistance = 1.4,\n",
    "           shadow = True)\n",
    "plt.legend()"
   ]
  },
  {
   "cell_type": "markdown",
   "id": "b36af3ff",
   "metadata": {},
   "source": [
    "# Demandes de Mélanie "
   ]
  },
  {
   "cell_type": "markdown",
   "id": "5fc342d0",
   "metadata": {},
   "source": [
    "## A) Les pays pour lequels la proportion de personnes sous-alimentées est plus forte en 2017"
   ]
  },
  {
   "cell_type": "code",
   "execution_count": 76,
   "id": "387dc43a",
   "metadata": {},
   "outputs": [],
   "source": [
    "# Mise à jour de la dataframe pop avec les modifications sur la colonne valeur et l'unité de la colonne population\n",
    "pop=pd.read_csv('population.csv')\n",
    "pop = pop. rename(columns={'Valeur':'Population'})\n",
    "pop['Population'] =  pop['Population'].astype(float)/1000"
   ]
  },
  {
   "cell_type": "code",
   "execution_count": 77,
   "id": "0ea60c40",
   "metadata": {},
   "outputs": [],
   "source": [
    "# Filter l'année 2017 dans le tabelau sous_nut_2017\n",
    "sous_nut_2017 = sous_nut [sous_nut['Année'] == 2017 ]"
   ]
  },
  {
   "cell_type": "code",
   "execution_count": 78,
   "id": "fda295f2",
   "metadata": {},
   "outputs": [
    {
     "data": {
      "text/html": [
       "<div>\n",
       "<style scoped>\n",
       "    .dataframe tbody tr th:only-of-type {\n",
       "        vertical-align: middle;\n",
       "    }\n",
       "\n",
       "    .dataframe tbody tr th {\n",
       "        vertical-align: top;\n",
       "    }\n",
       "\n",
       "    .dataframe thead th {\n",
       "        text-align: right;\n",
       "    }\n",
       "</style>\n",
       "<table border=\"1\" class=\"dataframe\">\n",
       "  <thead>\n",
       "    <tr style=\"text-align: right;\">\n",
       "      <th></th>\n",
       "      <th>Zone</th>\n",
       "      <th>Année</th>\n",
       "      <th>Population</th>\n",
       "    </tr>\n",
       "  </thead>\n",
       "  <tbody>\n",
       "    <tr>\n",
       "      <th>4</th>\n",
       "      <td>Afghanistan</td>\n",
       "      <td>2017</td>\n",
       "      <td>36.296113</td>\n",
       "    </tr>\n",
       "    <tr>\n",
       "      <th>10</th>\n",
       "      <td>Afrique du Sud</td>\n",
       "      <td>2017</td>\n",
       "      <td>57.009756</td>\n",
       "    </tr>\n",
       "  </tbody>\n",
       "</table>\n",
       "</div>"
      ],
      "text/plain": [
       "              Zone  Année  Population\n",
       "4      Afghanistan   2017   36.296113\n",
       "10  Afrique du Sud   2017   57.009756"
      ]
     },
     "execution_count": 78,
     "metadata": {},
     "output_type": "execute_result"
    }
   ],
   "source": [
    "# Affichage du tableau Popoulation_2017 \n",
    "Population_année= pop.groupby(\"Année\")\n",
    "Population_2017= Population_année.get_group(2017)\n",
    "Population_2017.head(2)"
   ]
  },
  {
   "cell_type": "code",
   "execution_count": 79,
   "id": "08b21855",
   "metadata": {},
   "outputs": [
    {
     "data": {
      "text/html": [
       "<div>\n",
       "<style scoped>\n",
       "    .dataframe tbody tr th:only-of-type {\n",
       "        vertical-align: middle;\n",
       "    }\n",
       "\n",
       "    .dataframe tbody tr th {\n",
       "        vertical-align: top;\n",
       "    }\n",
       "\n",
       "    .dataframe thead th {\n",
       "        text-align: right;\n",
       "    }\n",
       "</style>\n",
       "<table border=\"1\" class=\"dataframe\">\n",
       "  <thead>\n",
       "    <tr style=\"text-align: right;\">\n",
       "      <th></th>\n",
       "      <th>index</th>\n",
       "      <th>Zone</th>\n",
       "      <th>Année_x</th>\n",
       "      <th>Nombre_en_million_en_sous_nutrition</th>\n",
       "      <th>Année_y</th>\n",
       "      <th>Population</th>\n",
       "    </tr>\n",
       "  </thead>\n",
       "  <tbody>\n",
       "    <tr>\n",
       "      <th>0</th>\n",
       "      <td>4</td>\n",
       "      <td>Afghanistan</td>\n",
       "      <td>2017</td>\n",
       "      <td>10.5</td>\n",
       "      <td>2017</td>\n",
       "      <td>36.296113</td>\n",
       "    </tr>\n",
       "    <tr>\n",
       "      <th>1</th>\n",
       "      <td>10</td>\n",
       "      <td>Afrique du Sud</td>\n",
       "      <td>2017</td>\n",
       "      <td>3.1</td>\n",
       "      <td>2017</td>\n",
       "      <td>57.009756</td>\n",
       "    </tr>\n",
       "    <tr>\n",
       "      <th>2</th>\n",
       "      <td>16</td>\n",
       "      <td>Albanie</td>\n",
       "      <td>2017</td>\n",
       "      <td>0.1</td>\n",
       "      <td>2017</td>\n",
       "      <td>2.884169</td>\n",
       "    </tr>\n",
       "    <tr>\n",
       "      <th>3</th>\n",
       "      <td>22</td>\n",
       "      <td>Algérie</td>\n",
       "      <td>2017</td>\n",
       "      <td>1.3</td>\n",
       "      <td>2017</td>\n",
       "      <td>41.389189</td>\n",
       "    </tr>\n",
       "    <tr>\n",
       "      <th>4</th>\n",
       "      <td>28</td>\n",
       "      <td>Allemagne</td>\n",
       "      <td>2017</td>\n",
       "      <td>NaN</td>\n",
       "      <td>2017</td>\n",
       "      <td>82.658409</td>\n",
       "    </tr>\n",
       "    <tr>\n",
       "      <th>...</th>\n",
       "      <td>...</td>\n",
       "      <td>...</td>\n",
       "      <td>...</td>\n",
       "      <td>...</td>\n",
       "      <td>...</td>\n",
       "      <td>...</td>\n",
       "    </tr>\n",
       "    <tr>\n",
       "      <th>198</th>\n",
       "      <td>1192</td>\n",
       "      <td>Venezuela (République bolivarienne du)</td>\n",
       "      <td>2017</td>\n",
       "      <td>8.0</td>\n",
       "      <td>2017</td>\n",
       "      <td>29.402484</td>\n",
       "    </tr>\n",
       "    <tr>\n",
       "      <th>199</th>\n",
       "      <td>1198</td>\n",
       "      <td>Viet Nam</td>\n",
       "      <td>2017</td>\n",
       "      <td>6.5</td>\n",
       "      <td>2017</td>\n",
       "      <td>94.600648</td>\n",
       "    </tr>\n",
       "    <tr>\n",
       "      <th>200</th>\n",
       "      <td>1204</td>\n",
       "      <td>Yémen</td>\n",
       "      <td>2017</td>\n",
       "      <td>NaN</td>\n",
       "      <td>2017</td>\n",
       "      <td>27.834819</td>\n",
       "    </tr>\n",
       "    <tr>\n",
       "      <th>201</th>\n",
       "      <td>1210</td>\n",
       "      <td>Zambie</td>\n",
       "      <td>2017</td>\n",
       "      <td>NaN</td>\n",
       "      <td>2017</td>\n",
       "      <td>16.853599</td>\n",
       "    </tr>\n",
       "    <tr>\n",
       "      <th>202</th>\n",
       "      <td>1216</td>\n",
       "      <td>Zimbabwe</td>\n",
       "      <td>2017</td>\n",
       "      <td>NaN</td>\n",
       "      <td>2017</td>\n",
       "      <td>14.236595</td>\n",
       "    </tr>\n",
       "  </tbody>\n",
       "</table>\n",
       "<p>203 rows × 6 columns</p>\n",
       "</div>"
      ],
      "text/plain": [
       "     index                                    Zone  Année_x  \\\n",
       "0        4                             Afghanistan     2017   \n",
       "1       10                          Afrique du Sud     2017   \n",
       "2       16                                 Albanie     2017   \n",
       "3       22                                 Algérie     2017   \n",
       "4       28                               Allemagne     2017   \n",
       "..     ...                                     ...      ...   \n",
       "198   1192  Venezuela (République bolivarienne du)     2017   \n",
       "199   1198                                Viet Nam     2017   \n",
       "200   1204                                   Yémen     2017   \n",
       "201   1210                                  Zambie     2017   \n",
       "202   1216                                Zimbabwe     2017   \n",
       "\n",
       "     Nombre_en_million_en_sous_nutrition  Année_y  Population  \n",
       "0                                   10.5     2017   36.296113  \n",
       "1                                    3.1     2017   57.009756  \n",
       "2                                    0.1     2017    2.884169  \n",
       "3                                    1.3     2017   41.389189  \n",
       "4                                    NaN     2017   82.658409  \n",
       "..                                   ...      ...         ...  \n",
       "198                                  8.0     2017   29.402484  \n",
       "199                                  6.5     2017   94.600648  \n",
       "200                                  NaN     2017   27.834819  \n",
       "201                                  NaN     2017   16.853599  \n",
       "202                                  NaN     2017   14.236595  \n",
       "\n",
       "[203 rows x 6 columns]"
      ]
     },
     "execution_count": 79,
     "metadata": {},
     "output_type": "execute_result"
    }
   ],
   "source": [
    "# Fusionner les deux tableaux sous_nut_2017 et Population_2017 par la fonction merge et inner pour la jointure\n",
    "sous_pop_2017= pd.merge(sous_nut_2017.reset_index(),Population_2017, on= ['Zone'], how= 'inner')\n",
    "sous_pop_2017"
   ]
  },
  {
   "cell_type": "code",
   "execution_count": 80,
   "id": "2926c6a1",
   "metadata": {},
   "outputs": [
    {
     "data": {
      "text/html": [
       "<div>\n",
       "<style scoped>\n",
       "    .dataframe tbody tr th:only-of-type {\n",
       "        vertical-align: middle;\n",
       "    }\n",
       "\n",
       "    .dataframe tbody tr th {\n",
       "        vertical-align: top;\n",
       "    }\n",
       "\n",
       "    .dataframe thead th {\n",
       "        text-align: right;\n",
       "    }\n",
       "</style>\n",
       "<table border=\"1\" class=\"dataframe\">\n",
       "  <thead>\n",
       "    <tr style=\"text-align: right;\">\n",
       "      <th></th>\n",
       "      <th>Zone</th>\n",
       "      <th>Nombre_en_million_en_sous_nutrition</th>\n",
       "      <th>Population</th>\n",
       "    </tr>\n",
       "  </thead>\n",
       "  <tbody>\n",
       "    <tr>\n",
       "      <th>0</th>\n",
       "      <td>Afghanistan</td>\n",
       "      <td>10.5</td>\n",
       "      <td>36.296113</td>\n",
       "    </tr>\n",
       "    <tr>\n",
       "      <th>1</th>\n",
       "      <td>Afrique du Sud</td>\n",
       "      <td>3.1</td>\n",
       "      <td>57.009756</td>\n",
       "    </tr>\n",
       "    <tr>\n",
       "      <th>2</th>\n",
       "      <td>Albanie</td>\n",
       "      <td>0.1</td>\n",
       "      <td>2.884169</td>\n",
       "    </tr>\n",
       "    <tr>\n",
       "      <th>3</th>\n",
       "      <td>Algérie</td>\n",
       "      <td>1.3</td>\n",
       "      <td>41.389189</td>\n",
       "    </tr>\n",
       "    <tr>\n",
       "      <th>4</th>\n",
       "      <td>Allemagne</td>\n",
       "      <td>NaN</td>\n",
       "      <td>82.658409</td>\n",
       "    </tr>\n",
       "    <tr>\n",
       "      <th>...</th>\n",
       "      <td>...</td>\n",
       "      <td>...</td>\n",
       "      <td>...</td>\n",
       "    </tr>\n",
       "    <tr>\n",
       "      <th>198</th>\n",
       "      <td>Venezuela (République bolivarienne du)</td>\n",
       "      <td>8.0</td>\n",
       "      <td>29.402484</td>\n",
       "    </tr>\n",
       "    <tr>\n",
       "      <th>199</th>\n",
       "      <td>Viet Nam</td>\n",
       "      <td>6.5</td>\n",
       "      <td>94.600648</td>\n",
       "    </tr>\n",
       "    <tr>\n",
       "      <th>200</th>\n",
       "      <td>Yémen</td>\n",
       "      <td>NaN</td>\n",
       "      <td>27.834819</td>\n",
       "    </tr>\n",
       "    <tr>\n",
       "      <th>201</th>\n",
       "      <td>Zambie</td>\n",
       "      <td>NaN</td>\n",
       "      <td>16.853599</td>\n",
       "    </tr>\n",
       "    <tr>\n",
       "      <th>202</th>\n",
       "      <td>Zimbabwe</td>\n",
       "      <td>NaN</td>\n",
       "      <td>14.236595</td>\n",
       "    </tr>\n",
       "  </tbody>\n",
       "</table>\n",
       "<p>203 rows × 3 columns</p>\n",
       "</div>"
      ],
      "text/plain": [
       "                                       Zone  \\\n",
       "0                               Afghanistan   \n",
       "1                            Afrique du Sud   \n",
       "2                                   Albanie   \n",
       "3                                   Algérie   \n",
       "4                                 Allemagne   \n",
       "..                                      ...   \n",
       "198  Venezuela (République bolivarienne du)   \n",
       "199                                Viet Nam   \n",
       "200                                   Yémen   \n",
       "201                                  Zambie   \n",
       "202                                Zimbabwe   \n",
       "\n",
       "     Nombre_en_million_en_sous_nutrition  Population  \n",
       "0                                   10.5   36.296113  \n",
       "1                                    3.1   57.009756  \n",
       "2                                    0.1    2.884169  \n",
       "3                                    1.3   41.389189  \n",
       "4                                    NaN   82.658409  \n",
       "..                                   ...         ...  \n",
       "198                                  8.0   29.402484  \n",
       "199                                  6.5   94.600648  \n",
       "200                                  NaN   27.834819  \n",
       "201                                  NaN   16.853599  \n",
       "202                                  NaN   14.236595  \n",
       "\n",
       "[203 rows x 3 columns]"
      ]
     },
     "execution_count": 80,
     "metadata": {},
     "output_type": "execute_result"
    }
   ],
   "source": [
    "# utiliser iloc pour afficher les colonnes nécessaire pour le calcul de la proportion des personnes sous-alimentées \n",
    "Zone_2017=sous_pop_2017.iloc [0:203,[1,3,5]]\n",
    "Zone_2017"
   ]
  },
  {
   "cell_type": "code",
   "execution_count": 81,
   "id": "e48c2149",
   "metadata": {},
   "outputs": [],
   "source": [
    "# remplacer les NAN par O\n",
    "Zone_2017 = Zone_2017.fillna(0)"
   ]
  },
  {
   "cell_type": "code",
   "execution_count": 82,
   "id": "dc4dc097",
   "metadata": {},
   "outputs": [
    {
     "data": {
      "text/html": [
       "<div>\n",
       "<style scoped>\n",
       "    .dataframe tbody tr th:only-of-type {\n",
       "        vertical-align: middle;\n",
       "    }\n",
       "\n",
       "    .dataframe tbody tr th {\n",
       "        vertical-align: top;\n",
       "    }\n",
       "\n",
       "    .dataframe thead th {\n",
       "        text-align: right;\n",
       "    }\n",
       "</style>\n",
       "<table border=\"1\" class=\"dataframe\">\n",
       "  <thead>\n",
       "    <tr style=\"text-align: right;\">\n",
       "      <th></th>\n",
       "      <th>Zone</th>\n",
       "      <th>Nombre_en_million_en_sous_nutrition</th>\n",
       "      <th>Population</th>\n",
       "      <th>proportion_pers_sous_alimentées_2017</th>\n",
       "    </tr>\n",
       "  </thead>\n",
       "  <tbody>\n",
       "    <tr>\n",
       "      <th>0</th>\n",
       "      <td>Afghanistan</td>\n",
       "      <td>10.5</td>\n",
       "      <td>36.296113</td>\n",
       "      <td>28.928718</td>\n",
       "    </tr>\n",
       "    <tr>\n",
       "      <th>1</th>\n",
       "      <td>Afrique du Sud</td>\n",
       "      <td>3.1</td>\n",
       "      <td>57.009756</td>\n",
       "      <td>5.437666</td>\n",
       "    </tr>\n",
       "    <tr>\n",
       "      <th>2</th>\n",
       "      <td>Albanie</td>\n",
       "      <td>0.1</td>\n",
       "      <td>2.884169</td>\n",
       "      <td>3.467203</td>\n",
       "    </tr>\n",
       "    <tr>\n",
       "      <th>3</th>\n",
       "      <td>Algérie</td>\n",
       "      <td>1.3</td>\n",
       "      <td>41.389189</td>\n",
       "      <td>3.140917</td>\n",
       "    </tr>\n",
       "    <tr>\n",
       "      <th>4</th>\n",
       "      <td>Allemagne</td>\n",
       "      <td>0.0</td>\n",
       "      <td>82.658409</td>\n",
       "      <td>0.000000</td>\n",
       "    </tr>\n",
       "    <tr>\n",
       "      <th>...</th>\n",
       "      <td>...</td>\n",
       "      <td>...</td>\n",
       "      <td>...</td>\n",
       "      <td>...</td>\n",
       "    </tr>\n",
       "    <tr>\n",
       "      <th>198</th>\n",
       "      <td>Venezuela (République bolivarienne du)</td>\n",
       "      <td>8.0</td>\n",
       "      <td>29.402484</td>\n",
       "      <td>27.208586</td>\n",
       "    </tr>\n",
       "    <tr>\n",
       "      <th>199</th>\n",
       "      <td>Viet Nam</td>\n",
       "      <td>6.5</td>\n",
       "      <td>94.600648</td>\n",
       "      <td>6.870989</td>\n",
       "    </tr>\n",
       "    <tr>\n",
       "      <th>200</th>\n",
       "      <td>Yémen</td>\n",
       "      <td>0.0</td>\n",
       "      <td>27.834819</td>\n",
       "      <td>0.000000</td>\n",
       "    </tr>\n",
       "    <tr>\n",
       "      <th>201</th>\n",
       "      <td>Zambie</td>\n",
       "      <td>0.0</td>\n",
       "      <td>16.853599</td>\n",
       "      <td>0.000000</td>\n",
       "    </tr>\n",
       "    <tr>\n",
       "      <th>202</th>\n",
       "      <td>Zimbabwe</td>\n",
       "      <td>0.0</td>\n",
       "      <td>14.236595</td>\n",
       "      <td>0.000000</td>\n",
       "    </tr>\n",
       "  </tbody>\n",
       "</table>\n",
       "<p>203 rows × 4 columns</p>\n",
       "</div>"
      ],
      "text/plain": [
       "                                       Zone  \\\n",
       "0                               Afghanistan   \n",
       "1                            Afrique du Sud   \n",
       "2                                   Albanie   \n",
       "3                                   Algérie   \n",
       "4                                 Allemagne   \n",
       "..                                      ...   \n",
       "198  Venezuela (République bolivarienne du)   \n",
       "199                                Viet Nam   \n",
       "200                                   Yémen   \n",
       "201                                  Zambie   \n",
       "202                                Zimbabwe   \n",
       "\n",
       "     Nombre_en_million_en_sous_nutrition  Population  \\\n",
       "0                                   10.5   36.296113   \n",
       "1                                    3.1   57.009756   \n",
       "2                                    0.1    2.884169   \n",
       "3                                    1.3   41.389189   \n",
       "4                                    0.0   82.658409   \n",
       "..                                   ...         ...   \n",
       "198                                  8.0   29.402484   \n",
       "199                                  6.5   94.600648   \n",
       "200                                  0.0   27.834819   \n",
       "201                                  0.0   16.853599   \n",
       "202                                  0.0   14.236595   \n",
       "\n",
       "     proportion_pers_sous_alimentées_2017  \n",
       "0                               28.928718  \n",
       "1                                5.437666  \n",
       "2                                3.467203  \n",
       "3                                3.140917  \n",
       "4                                0.000000  \n",
       "..                                    ...  \n",
       "198                             27.208586  \n",
       "199                              6.870989  \n",
       "200                              0.000000  \n",
       "201                              0.000000  \n",
       "202                              0.000000  \n",
       "\n",
       "[203 rows x 4 columns]"
      ]
     },
     "execution_count": 82,
     "metadata": {},
     "output_type": "execute_result"
    }
   ],
   "source": [
    "#la proportion des personnes sous-alimentées en 2017\n",
    "Zone_2017 ['proportion_pers_sous_alimentées_2017']= (Zone_2017 ['Nombre_en_million_en_sous_nutrition'] / Zone_2017 ['Population'])*100\n",
    "Zone_2017"
   ]
  },
  {
   "cell_type": "markdown",
   "id": "aa0b5cbd",
   "metadata": {},
   "source": [
    "#### Réponse question A) Les pays pour lequels la proportion de personnes sous-alimentées est plus forte en 2017"
   ]
  },
  {
   "cell_type": "code",
   "execution_count": 83,
   "id": "e9889d9a",
   "metadata": {},
   "outputs": [],
   "source": [
    "# Utiliser sort_values, ascending pour montrer les pays pour lequels\n",
    "#la proportion de personnes sous-alimentées est plus forte en 2017\n",
    "Zone_2017=Zone_2017.sort_values(by='proportion_pers_sous_alimentées_2017', ascending=False)"
   ]
  },
  {
   "cell_type": "code",
   "execution_count": 84,
   "id": "9ae104f5",
   "metadata": {
    "scrolled": true
   },
   "outputs": [
    {
     "data": {
      "text/html": [
       "<div>\n",
       "<style scoped>\n",
       "    .dataframe tbody tr th:only-of-type {\n",
       "        vertical-align: middle;\n",
       "    }\n",
       "\n",
       "    .dataframe tbody tr th {\n",
       "        vertical-align: top;\n",
       "    }\n",
       "\n",
       "    .dataframe thead th {\n",
       "        text-align: right;\n",
       "    }\n",
       "</style>\n",
       "<table border=\"1\" class=\"dataframe\">\n",
       "  <thead>\n",
       "    <tr style=\"text-align: right;\">\n",
       "      <th></th>\n",
       "      <th>Zone</th>\n",
       "      <th>Nombre_en_million_en_sous_nutrition</th>\n",
       "      <th>Population</th>\n",
       "      <th>proportion_pers_sous_alimentées_2017</th>\n",
       "    </tr>\n",
       "  </thead>\n",
       "  <tbody>\n",
       "    <tr>\n",
       "      <th>51</th>\n",
       "      <td>Dominique</td>\n",
       "      <td>0.05</td>\n",
       "      <td>0.071458</td>\n",
       "      <td>69.971172</td>\n",
       "    </tr>\n",
       "    <tr>\n",
       "      <th>78</th>\n",
       "      <td>Haïti</td>\n",
       "      <td>5.30</td>\n",
       "      <td>10.982366</td>\n",
       "      <td>48.259182</td>\n",
       "    </tr>\n",
       "    <tr>\n",
       "      <th>157</th>\n",
       "      <td>République populaire démocratique de Corée</td>\n",
       "      <td>12.00</td>\n",
       "      <td>25.429825</td>\n",
       "      <td>47.188685</td>\n",
       "    </tr>\n",
       "    <tr>\n",
       "      <th>164</th>\n",
       "      <td>Saint-Vincent-et-les Grenadines</td>\n",
       "      <td>0.05</td>\n",
       "      <td>0.109827</td>\n",
       "      <td>45.526146</td>\n",
       "    </tr>\n",
       "    <tr>\n",
       "      <th>98</th>\n",
       "      <td>Kiribati</td>\n",
       "      <td>0.05</td>\n",
       "      <td>0.114158</td>\n",
       "      <td>43.798945</td>\n",
       "    </tr>\n",
       "    <tr>\n",
       "      <th>108</th>\n",
       "      <td>Madagascar</td>\n",
       "      <td>10.50</td>\n",
       "      <td>25.570512</td>\n",
       "      <td>41.062924</td>\n",
       "    </tr>\n",
       "    <tr>\n",
       "      <th>103</th>\n",
       "      <td>Libéria</td>\n",
       "      <td>1.80</td>\n",
       "      <td>4.702226</td>\n",
       "      <td>38.279742</td>\n",
       "    </tr>\n",
       "    <tr>\n",
       "      <th>100</th>\n",
       "      <td>Lesotho</td>\n",
       "      <td>0.80</td>\n",
       "      <td>2.091534</td>\n",
       "      <td>38.249438</td>\n",
       "    </tr>\n",
       "    <tr>\n",
       "      <th>183</th>\n",
       "      <td>Tchad</td>\n",
       "      <td>5.70</td>\n",
       "      <td>15.016753</td>\n",
       "      <td>37.957606</td>\n",
       "    </tr>\n",
       "    <tr>\n",
       "      <th>161</th>\n",
       "      <td>Rwanda</td>\n",
       "      <td>4.20</td>\n",
       "      <td>11.980961</td>\n",
       "      <td>35.055619</td>\n",
       "    </tr>\n",
       "  </tbody>\n",
       "</table>\n",
       "</div>"
      ],
      "text/plain": [
       "                                           Zone  \\\n",
       "51                                    Dominique   \n",
       "78                                        Haïti   \n",
       "157  République populaire démocratique de Corée   \n",
       "164             Saint-Vincent-et-les Grenadines   \n",
       "98                                     Kiribati   \n",
       "108                                  Madagascar   \n",
       "103                                     Libéria   \n",
       "100                                     Lesotho   \n",
       "183                                       Tchad   \n",
       "161                                      Rwanda   \n",
       "\n",
       "     Nombre_en_million_en_sous_nutrition  Population  \\\n",
       "51                                  0.05    0.071458   \n",
       "78                                  5.30   10.982366   \n",
       "157                                12.00   25.429825   \n",
       "164                                 0.05    0.109827   \n",
       "98                                  0.05    0.114158   \n",
       "108                                10.50   25.570512   \n",
       "103                                 1.80    4.702226   \n",
       "100                                 0.80    2.091534   \n",
       "183                                 5.70   15.016753   \n",
       "161                                 4.20   11.980961   \n",
       "\n",
       "     proportion_pers_sous_alimentées_2017  \n",
       "51                              69.971172  \n",
       "78                              48.259182  \n",
       "157                             47.188685  \n",
       "164                             45.526146  \n",
       "98                              43.798945  \n",
       "108                             41.062924  \n",
       "103                             38.279742  \n",
       "100                             38.249438  \n",
       "183                             37.957606  \n",
       "161                             35.055619  "
      ]
     },
     "execution_count": 84,
     "metadata": {},
     "output_type": "execute_result"
    }
   ],
   "source": [
    "Zone_2017.head(10)"
   ]
  },
  {
   "cell_type": "markdown",
   "id": "d680ee92",
   "metadata": {},
   "source": [
    "#### Un graphique qui présente l'ordre décroissant des dix pays en  sous nutrition en 2017 "
   ]
  },
  {
   "cell_type": "code",
   "execution_count": 85,
   "id": "005e7be4",
   "metadata": {},
   "outputs": [],
   "source": [
    "Zone_2017_graph= Zone_2017[['Zone', 'proportion_pers_sous_alimentées_2017']]"
   ]
  },
  {
   "cell_type": "code",
   "execution_count": 86,
   "id": "1891ea3a",
   "metadata": {},
   "outputs": [
    {
     "data": {
      "image/png": "[encoded data removed]",
      "text/plain": [
       "<Figure size 1152x648 with 1 Axes>"
      ]
     },
     "metadata": {
      "needs_background": "light"
     },
     "output_type": "display_data"
    }
   ],
   "source": [
    "Zone = Zone_2017_graph['Zone'].head(12)\n",
    "Proportion = Zone_2017_graph['proportion_pers_sous_alimentées_2017'].head(12)\n",
    "  \n",
    "# Figure Size\n",
    "fig, ax = plt.subplots(figsize=(16, 9))\n",
    "  \n",
    "# Horizontal Bar Plot\n",
    "ax.barh(Zone, Proportion)\n",
    "  \n",
    "# Remove axes splines\n",
    "for s in ['top', 'bottom', 'left', 'right']:\n",
    "    ax.spines[s].set_visible(False)\n",
    "  \n",
    "# Remove x, y Ticks\n",
    "ax.xaxis.set_ticks_position('none')\n",
    "ax.yaxis.set_ticks_position('none')\n",
    "  \n",
    "# Add padding between axes and labels\n",
    "ax.xaxis.set_tick_params(pad=5)\n",
    "ax.yaxis.set_tick_params(pad=10)\n",
    "  \n",
    "# Add x, y gridlines\n",
    "ax.grid(b=True, color='grey',\n",
    "        linestyle='-.', linewidth=0.5,\n",
    "        alpha=0.2)\n",
    "  \n",
    "# Show top values\n",
    "ax.invert_yaxis()\n",
    "  \n",
    "# Add annotation to bars\n",
    "for i in ax.patches:\n",
    "    plt.text(i.get_width()+0.2, i.get_y()+0.5,\n",
    "             str(round((i.get_width()), 2)),\n",
    "             fontsize=10, fontweight='bold',\n",
    "             color='red')\n",
    "  \n",
    "# Add Plot Title\n",
    "ax.set_title(' Ordre décroissant en pourcentage des dix pays en sous-nutrition en 2017',\n",
    "             loc='left', )\n",
    "  \n",
    "\n",
    "plt.show()"
   ]
  },
  {
   "cell_type": "markdown",
   "id": "d5d0ec4c",
   "metadata": {},
   "source": [
    "## B) Les pays qui ont le plus bénéficié d’aide depuis 2013"
   ]
  },
  {
   "cell_type": "code",
   "execution_count": 87,
   "id": "dea50704",
   "metadata": {},
   "outputs": [],
   "source": [
    "aide= pd.read_csv('aide_alimentaire.csv')"
   ]
  },
  {
   "cell_type": "code",
   "execution_count": 88,
   "id": "9c5b1c9b",
   "metadata": {},
   "outputs": [],
   "source": [
    "# Renommer la colonne Valeur par Valeur_aide\n",
    "aide = aide. rename(columns={'Valeur':'Valeur_aide'})"
   ]
  },
  {
   "cell_type": "code",
   "execution_count": 89,
   "id": "677daed9",
   "metadata": {},
   "outputs": [
    {
     "data": {
      "text/html": [
       "<div>\n",
       "<style scoped>\n",
       "    .dataframe tbody tr th:only-of-type {\n",
       "        vertical-align: middle;\n",
       "    }\n",
       "\n",
       "    .dataframe tbody tr th {\n",
       "        vertical-align: top;\n",
       "    }\n",
       "\n",
       "    .dataframe thead th {\n",
       "        text-align: right;\n",
       "    }\n",
       "</style>\n",
       "<table border=\"1\" class=\"dataframe\">\n",
       "  <thead>\n",
       "    <tr style=\"text-align: right;\">\n",
       "      <th></th>\n",
       "      <th>Pays bénéficiaire</th>\n",
       "      <th>Année</th>\n",
       "      <th>Produit</th>\n",
       "      <th>Valeur_aide</th>\n",
       "    </tr>\n",
       "  </thead>\n",
       "  <tbody>\n",
       "    <tr>\n",
       "      <th>0</th>\n",
       "      <td>Afghanistan</td>\n",
       "      <td>2013</td>\n",
       "      <td>Autres non-céréales</td>\n",
       "      <td>682</td>\n",
       "    </tr>\n",
       "    <tr>\n",
       "      <th>1</th>\n",
       "      <td>Afghanistan</td>\n",
       "      <td>2014</td>\n",
       "      <td>Autres non-céréales</td>\n",
       "      <td>335</td>\n",
       "    </tr>\n",
       "    <tr>\n",
       "      <th>2</th>\n",
       "      <td>Afghanistan</td>\n",
       "      <td>2013</td>\n",
       "      <td>Blé et Farin</td>\n",
       "      <td>39224</td>\n",
       "    </tr>\n",
       "    <tr>\n",
       "      <th>3</th>\n",
       "      <td>Afghanistan</td>\n",
       "      <td>2014</td>\n",
       "      <td>Blé et Farin</td>\n",
       "      <td>15160</td>\n",
       "    </tr>\n",
       "    <tr>\n",
       "      <th>4</th>\n",
       "      <td>Afghanistan</td>\n",
       "      <td>2013</td>\n",
       "      <td>Céréales</td>\n",
       "      <td>40504</td>\n",
       "    </tr>\n",
       "    <tr>\n",
       "      <th>...</th>\n",
       "      <td>...</td>\n",
       "      <td>...</td>\n",
       "      <td>...</td>\n",
       "      <td>...</td>\n",
       "    </tr>\n",
       "    <tr>\n",
       "      <th>1470</th>\n",
       "      <td>Zimbabwe</td>\n",
       "      <td>2015</td>\n",
       "      <td>Mélanges et préparations</td>\n",
       "      <td>96</td>\n",
       "    </tr>\n",
       "    <tr>\n",
       "      <th>1471</th>\n",
       "      <td>Zimbabwe</td>\n",
       "      <td>2013</td>\n",
       "      <td>Non-céréales</td>\n",
       "      <td>5022</td>\n",
       "    </tr>\n",
       "    <tr>\n",
       "      <th>1472</th>\n",
       "      <td>Zimbabwe</td>\n",
       "      <td>2014</td>\n",
       "      <td>Non-céréales</td>\n",
       "      <td>2310</td>\n",
       "    </tr>\n",
       "    <tr>\n",
       "      <th>1473</th>\n",
       "      <td>Zimbabwe</td>\n",
       "      <td>2015</td>\n",
       "      <td>Non-céréales</td>\n",
       "      <td>306</td>\n",
       "    </tr>\n",
       "    <tr>\n",
       "      <th>1474</th>\n",
       "      <td>Zimbabwe</td>\n",
       "      <td>2013</td>\n",
       "      <td>Riz, total</td>\n",
       "      <td>64</td>\n",
       "    </tr>\n",
       "  </tbody>\n",
       "</table>\n",
       "<p>1475 rows × 4 columns</p>\n",
       "</div>"
      ],
      "text/plain": [
       "     Pays bénéficiaire  Année                   Produit  Valeur_aide\n",
       "0          Afghanistan   2013       Autres non-céréales          682\n",
       "1          Afghanistan   2014       Autres non-céréales          335\n",
       "2          Afghanistan   2013              Blé et Farin        39224\n",
       "3          Afghanistan   2014              Blé et Farin        15160\n",
       "4          Afghanistan   2013                  Céréales        40504\n",
       "...                ...    ...                       ...          ...\n",
       "1470          Zimbabwe   2015  Mélanges et préparations           96\n",
       "1471          Zimbabwe   2013              Non-céréales         5022\n",
       "1472          Zimbabwe   2014              Non-céréales         2310\n",
       "1473          Zimbabwe   2015              Non-céréales          306\n",
       "1474          Zimbabwe   2013                Riz, total           64\n",
       "\n",
       "[1475 rows x 4 columns]"
      ]
     },
     "execution_count": 89,
     "metadata": {},
     "output_type": "execute_result"
    }
   ],
   "source": [
    "# Filtrer les années >= 2013\n",
    "aide_a_partir_de_2013= aide [ aide ['Année'] >= 2013]\n",
    "aide_a_partir_de_2013"
   ]
  },
  {
   "cell_type": "code",
   "execution_count": 90,
   "id": "d380fcc1",
   "metadata": {},
   "outputs": [],
   "source": [
    "#Utiliser groupby .sum() pour calculer la somme dans colonne Valeur_aide en fonction des pays à partir de 2013\n",
    "aide_par_zone_a_partir_de_2013 = aide_a_partir_de_2013.groupby(['Pays bénéficiaire'])['Valeur_aide'].sum()"
   ]
  },
  {
   "cell_type": "code",
   "execution_count": 91,
   "id": "1b808621",
   "metadata": {},
   "outputs": [
    {
     "data": {
      "text/html": [
       "<div>\n",
       "<style scoped>\n",
       "    .dataframe tbody tr th:only-of-type {\n",
       "        vertical-align: middle;\n",
       "    }\n",
       "\n",
       "    .dataframe tbody tr th {\n",
       "        vertical-align: top;\n",
       "    }\n",
       "\n",
       "    .dataframe thead th {\n",
       "        text-align: right;\n",
       "    }\n",
       "</style>\n",
       "<table border=\"1\" class=\"dataframe\">\n",
       "  <thead>\n",
       "    <tr style=\"text-align: right;\">\n",
       "      <th></th>\n",
       "      <th>Valeur_aide</th>\n",
       "    </tr>\n",
       "    <tr>\n",
       "      <th>Pays bénéficiaire</th>\n",
       "      <th></th>\n",
       "    </tr>\n",
       "  </thead>\n",
       "  <tbody>\n",
       "    <tr>\n",
       "      <th>Afghanistan</th>\n",
       "      <td>185452</td>\n",
       "    </tr>\n",
       "    <tr>\n",
       "      <th>Algérie</th>\n",
       "      <td>81114</td>\n",
       "    </tr>\n",
       "    <tr>\n",
       "      <th>Angola</th>\n",
       "      <td>5014</td>\n",
       "    </tr>\n",
       "    <tr>\n",
       "      <th>Bangladesh</th>\n",
       "      <td>348188</td>\n",
       "    </tr>\n",
       "    <tr>\n",
       "      <th>Bhoutan</th>\n",
       "      <td>2666</td>\n",
       "    </tr>\n",
       "    <tr>\n",
       "      <th>...</th>\n",
       "      <td>...</td>\n",
       "    </tr>\n",
       "    <tr>\n",
       "      <th>Zambie</th>\n",
       "      <td>3026</td>\n",
       "    </tr>\n",
       "    <tr>\n",
       "      <th>Zimbabwe</th>\n",
       "      <td>62570</td>\n",
       "    </tr>\n",
       "    <tr>\n",
       "      <th>Égypte</th>\n",
       "      <td>1122</td>\n",
       "    </tr>\n",
       "    <tr>\n",
       "      <th>Équateur</th>\n",
       "      <td>1362</td>\n",
       "    </tr>\n",
       "    <tr>\n",
       "      <th>Éthiopie</th>\n",
       "      <td>1381294</td>\n",
       "    </tr>\n",
       "  </tbody>\n",
       "</table>\n",
       "<p>76 rows × 1 columns</p>\n",
       "</div>"
      ],
      "text/plain": [
       "                   Valeur_aide\n",
       "Pays bénéficiaire             \n",
       "Afghanistan             185452\n",
       "Algérie                  81114\n",
       "Angola                    5014\n",
       "Bangladesh              348188\n",
       "Bhoutan                   2666\n",
       "...                        ...\n",
       "Zambie                    3026\n",
       "Zimbabwe                 62570\n",
       "Égypte                    1122\n",
       "Équateur                  1362\n",
       "Éthiopie               1381294\n",
       "\n",
       "[76 rows x 1 columns]"
      ]
     },
     "execution_count": 91,
     "metadata": {},
     "output_type": "execute_result"
    }
   ],
   "source": [
    "aide_par_zone_a_partir_de_2013=aide_par_zone_a_partir_de_2013.to_frame()\n",
    "aide_par_zone_a_partir_de_2013"
   ]
  },
  {
   "cell_type": "code",
   "execution_count": 92,
   "id": "fe78b7f9",
   "metadata": {},
   "outputs": [],
   "source": [
    "# réenitialiser l'index \n",
    "aide_par_zone_a_partir_de_2013.reset_index()\n",
    "aide_par_zone_a_partir_de_2013=aide_par_zone_a_partir_de_2013.reset_index()"
   ]
  },
  {
   "cell_type": "markdown",
   "id": "926d4e55",
   "metadata": {},
   "source": [
    "####  Réponse question B) Les pays qui ont le plus bénéficié d’aide depuis 2013"
   ]
  },
  {
   "cell_type": "code",
   "execution_count": 93,
   "id": "5f8eba68",
   "metadata": {},
   "outputs": [
    {
     "data": {
      "text/html": [
       "<div>\n",
       "<style scoped>\n",
       "    .dataframe tbody tr th:only-of-type {\n",
       "        vertical-align: middle;\n",
       "    }\n",
       "\n",
       "    .dataframe tbody tr th {\n",
       "        vertical-align: top;\n",
       "    }\n",
       "\n",
       "    .dataframe thead th {\n",
       "        text-align: right;\n",
       "    }\n",
       "</style>\n",
       "<table border=\"1\" class=\"dataframe\">\n",
       "  <thead>\n",
       "    <tr style=\"text-align: right;\">\n",
       "      <th></th>\n",
       "      <th>Pays bénéficiaire</th>\n",
       "      <th>Valeur_aide</th>\n",
       "    </tr>\n",
       "  </thead>\n",
       "  <tbody>\n",
       "    <tr>\n",
       "      <th>50</th>\n",
       "      <td>République arabe syrienne</td>\n",
       "      <td>1858943</td>\n",
       "    </tr>\n",
       "    <tr>\n",
       "      <th>75</th>\n",
       "      <td>Éthiopie</td>\n",
       "      <td>1381294</td>\n",
       "    </tr>\n",
       "    <tr>\n",
       "      <th>70</th>\n",
       "      <td>Yémen</td>\n",
       "      <td>1206484</td>\n",
       "    </tr>\n",
       "    <tr>\n",
       "      <th>61</th>\n",
       "      <td>Soudan du Sud</td>\n",
       "      <td>695248</td>\n",
       "    </tr>\n",
       "    <tr>\n",
       "      <th>60</th>\n",
       "      <td>Soudan</td>\n",
       "      <td>669784</td>\n",
       "    </tr>\n",
       "    <tr>\n",
       "      <th>30</th>\n",
       "      <td>Kenya</td>\n",
       "      <td>552836</td>\n",
       "    </tr>\n",
       "    <tr>\n",
       "      <th>3</th>\n",
       "      <td>Bangladesh</td>\n",
       "      <td>348188</td>\n",
       "    </tr>\n",
       "    <tr>\n",
       "      <th>59</th>\n",
       "      <td>Somalie</td>\n",
       "      <td>292678</td>\n",
       "    </tr>\n",
       "    <tr>\n",
       "      <th>53</th>\n",
       "      <td>République démocratique du Congo</td>\n",
       "      <td>288502</td>\n",
       "    </tr>\n",
       "    <tr>\n",
       "      <th>43</th>\n",
       "      <td>Niger</td>\n",
       "      <td>276344</td>\n",
       "    </tr>\n",
       "  </tbody>\n",
       "</table>\n",
       "</div>"
      ],
      "text/plain": [
       "                   Pays bénéficiaire  Valeur_aide\n",
       "50         République arabe syrienne      1858943\n",
       "75                          Éthiopie      1381294\n",
       "70                             Yémen      1206484\n",
       "61                     Soudan du Sud       695248\n",
       "60                            Soudan       669784\n",
       "30                             Kenya       552836\n",
       "3                         Bangladesh       348188\n",
       "59                           Somalie       292678\n",
       "53  République démocratique du Congo       288502\n",
       "43                             Niger       276344"
      ]
     },
     "execution_count": 93,
     "metadata": {},
     "output_type": "execute_result"
    }
   ],
   "source": [
    "# Utiliser sort_values by ascending pour mettre en ordre descendant les pays qui ont le plus bénéficié d’aides depuis 2013\n",
    "aide_par_zone_a_partir_de_2013= aide_par_zone_a_partir_de_2013.sort_values (by='Valeur_aide', ascending=False)\n",
    "aide_par_zone_a_partir_de_2013.head(10)"
   ]
  },
  {
   "cell_type": "code",
   "execution_count": 94,
   "id": "72df4c37",
   "metadata": {},
   "outputs": [
    {
     "data": {
      "image/png": "[encoded data removed]",
      "text/plain": [
       "<Figure size 1152x648 with 1 Axes>"
      ]
     },
     "metadata": {
      "needs_background": "light"
     },
     "output_type": "display_data"
    }
   ],
   "source": [
    "# un Graphique en histogramme pour tirer des conclusions\n",
    "pays = aide_par_zone_a_partir_de_2013['Pays bénéficiaire'].head(12)\n",
    "valeur = aide_par_zone_a_partir_de_2013['Valeur_aide'].head(12)\n",
    "  \n",
    "# Figure Size\n",
    "fig, ax = plt.subplots(figsize=(16, 9))\n",
    "  \n",
    "# Horizontal Bar Plot\n",
    "ax.barh(pays, valeur)\n",
    "  \n",
    "# Remove axes splines\n",
    "for s in ['top', 'bottom', 'left', 'right']:\n",
    "    ax.spines[s].set_visible(False)\n",
    "  \n",
    "# Remove x, y Ticks\n",
    "ax.xaxis.set_ticks_position('none')\n",
    "ax.yaxis.set_ticks_position('none')\n",
    "  \n",
    "# Add padding between axes and labels\n",
    "ax.xaxis.set_tick_params(pad=5)\n",
    "ax.yaxis.set_tick_params(pad=10)\n",
    "  \n",
    "# Add x, y gridlines\n",
    "ax.grid(b=True, color='grey',\n",
    "        linestyle='-.', linewidth=0.5,\n",
    "        alpha=0.2)\n",
    "  \n",
    "# Show top values\n",
    "ax.invert_yaxis()\n",
    "  \n",
    "# Add annotation to bars\n",
    "for i in ax.patches:\n",
    "    plt.text(i.get_width()+0.2, i.get_y()+0.5,\n",
    "             str(round((i.get_width()), 2)),\n",
    "             fontsize=10, fontweight='bold',\n",
    "             color='green')\n",
    "  \n",
    "# Add Plot Title\n",
    "ax.set_title('Les pays qui ont le plus bénéficié d’aide depuis 2013',\n",
    "             loc='left', )\n",
    "plt.show()"
   ]
  },
  {
   "cell_type": "markdown",
   "id": "8b8f6c39",
   "metadata": {},
   "source": [
    "####  Mise en évidence de entre le montant de l'aide et la proportion de personnes sous-alimentées"
   ]
  },
  {
   "cell_type": "code",
   "execution_count": 95,
   "id": "052a0910",
   "metadata": {},
   "outputs": [],
   "source": [
    "# Renommer la colonne pays bénéficiaire par zone pour pouvoir merger on zone après\n",
    "aide_a_partir_de_2013 =aide_a_partir_de_2013.rename(columns={'Pays bénéficiaire':'Zone'})"
   ]
  },
  {
   "cell_type": "code",
   "execution_count": 96,
   "id": "df382cff",
   "metadata": {},
   "outputs": [],
   "source": [
    "# Créer une variable aide à partir de 2013 par pays ôu on renommer la colonne par zone \n",
    "aide_a_partir_de_2013_par_pays=aide_a_partir_de_2013.groupby(['Zone']) ['Valeur_aide'].sum()"
   ]
  },
  {
   "cell_type": "code",
   "execution_count": 97,
   "id": "9844e200",
   "metadata": {},
   "outputs": [
    {
     "data": {
      "text/plain": [
       "0      185452\n",
       "1       81114\n",
       "2        5014\n",
       "3      348188\n",
       "4        2666\n",
       "       ...   \n",
       "71       3026\n",
       "72      62570\n",
       "73       1122\n",
       "74       1362\n",
       "75    1381294\n",
       "Name: Valeur_aide, Length: 76, dtype: int64"
      ]
     },
     "execution_count": 97,
     "metadata": {},
     "output_type": "execute_result"
    }
   ],
   "source": [
    "# réenitialiser l'index\n",
    "aide_a_partir_de_2013_par_pays_reset= aide_a_partir_de_2013_par_pays.reset_index(drop=True)\n",
    "aide_a_partir_de_2013_par_pays_reset"
   ]
  },
  {
   "cell_type": "code",
   "execution_count": 98,
   "id": "1e2cddfc",
   "metadata": {},
   "outputs": [],
   "source": [
    "# mise à jour du type de la colonne Année pour pouvoir l'utiliser en numeric\n",
    "sous_nut[\"Année\"]= pd.to_numeric ( sous_nut[\"Année\"])"
   ]
  },
  {
   "cell_type": "code",
   "execution_count": 99,
   "id": "6fcdf8c6",
   "metadata": {
    "scrolled": true
   },
   "outputs": [],
   "source": [
    "# filtrer les année dans la data sous nutrition à partir de 2013\n",
    "sous_nut_a_partir_de_2013= sous_nut [ sous_nut ['Année'] >= 2013]"
   ]
  },
  {
   "cell_type": "code",
   "execution_count": 100,
   "id": "afa66873",
   "metadata": {},
   "outputs": [],
   "source": [
    "# renommer la colonne Nombre en million par Nombre en million sous nut \n",
    "sous_nut_a_partir_de_2013 = sous_nut_a_partir_de_2013. rename(columns={'Nombre_en_million':'Nombre_en_million_sous_nut'})"
   ]
  },
  {
   "cell_type": "code",
   "execution_count": 101,
   "id": "60c3bb9e",
   "metadata": {},
   "outputs": [],
   "source": [
    "# merge entre sous nut et population à partir de 2013\n",
    "sous_nut_population_2013= pd.merge(sous_nut_a_partir_de_2013.reset_index(drop=True),pop, on= ['Zone','Année'], how= 'inner')"
   ]
  },
  {
   "cell_type": "code",
   "execution_count": 102,
   "id": "85aab554",
   "metadata": {},
   "outputs": [],
   "source": [
    "# ajouter une colonne pour calculer la proportion entre la population en sous nutrition et la population à partir de 2013\n",
    "sous_nut_population_2013[\"prop_sous_nut_pop_%\"]= sous_nut_population_2013[\"Nombre_en_million_en_sous_nutrition\"] / sous_nut_population_2013[\"Population\"]*100"
   ]
  },
  {
   "cell_type": "code",
   "execution_count": 103,
   "id": "d0ce24c9",
   "metadata": {
    "scrolled": true
   },
   "outputs": [],
   "source": [
    "# merge entre sous nut population  et aide à partir de 2013 on zone by inner\n",
    "sous_nut_population_aide=pd.merge(sous_nut_population_2013,aide_a_partir_de_2013_par_pays,on= ['Zone'], how= 'inner')"
   ]
  },
  {
   "cell_type": "code",
   "execution_count": 104,
   "id": "18ca6860",
   "metadata": {},
   "outputs": [],
   "source": [
    "# changer en unité \n",
    "sous_nut_population_aide[\"Population\"]=sous_nut_population_aide[\"Population\"]*1000000"
   ]
  },
  {
   "cell_type": "code",
   "execution_count": 105,
   "id": "663bdf82",
   "metadata": {},
   "outputs": [],
   "source": [
    "# changer en unité\n",
    "sous_nut_population_aide[\"Valeur_aide\"]= sous_nut_population_aide[\"Valeur_aide\"]*1000"
   ]
  },
  {
   "cell_type": "code",
   "execution_count": 106,
   "id": "5cf5f589",
   "metadata": {},
   "outputs": [
    {
     "data": {
      "text/html": [
       "<div>\n",
       "<style scoped>\n",
       "    .dataframe tbody tr th:only-of-type {\n",
       "        vertical-align: middle;\n",
       "    }\n",
       "\n",
       "    .dataframe tbody tr th {\n",
       "        vertical-align: top;\n",
       "    }\n",
       "\n",
       "    .dataframe thead th {\n",
       "        text-align: right;\n",
       "    }\n",
       "</style>\n",
       "<table border=\"1\" class=\"dataframe\">\n",
       "  <thead>\n",
       "    <tr style=\"text-align: right;\">\n",
       "      <th></th>\n",
       "      <th>Zone</th>\n",
       "      <th>Année</th>\n",
       "      <th>Nombre_en_million_en_sous_nutrition</th>\n",
       "      <th>Population</th>\n",
       "      <th>prop_sous_nut_pop_%</th>\n",
       "      <th>Valeur_aide</th>\n",
       "      <th>Valeur_aide_par_habitant</th>\n",
       "    </tr>\n",
       "  </thead>\n",
       "  <tbody>\n",
       "    <tr>\n",
       "      <th>0</th>\n",
       "      <td>Afghanistan</td>\n",
       "      <td>2013</td>\n",
       "      <td>8.6</td>\n",
       "      <td>32269589.0</td>\n",
       "      <td>26.650479</td>\n",
       "      <td>185452000</td>\n",
       "      <td>5.75</td>\n",
       "    </tr>\n",
       "    <tr>\n",
       "      <th>1</th>\n",
       "      <td>Afghanistan</td>\n",
       "      <td>2014</td>\n",
       "      <td>8.8</td>\n",
       "      <td>33370794.0</td>\n",
       "      <td>26.370364</td>\n",
       "      <td>185452000</td>\n",
       "      <td>5.56</td>\n",
       "    </tr>\n",
       "    <tr>\n",
       "      <th>2</th>\n",
       "      <td>Afghanistan</td>\n",
       "      <td>2015</td>\n",
       "      <td>8.9</td>\n",
       "      <td>34413603.0</td>\n",
       "      <td>25.861866</td>\n",
       "      <td>185452000</td>\n",
       "      <td>5.39</td>\n",
       "    </tr>\n",
       "    <tr>\n",
       "      <th>3</th>\n",
       "      <td>Afghanistan</td>\n",
       "      <td>2016</td>\n",
       "      <td>9.7</td>\n",
       "      <td>35383032.0</td>\n",
       "      <td>27.414270</td>\n",
       "      <td>185452000</td>\n",
       "      <td>5.24</td>\n",
       "    </tr>\n",
       "    <tr>\n",
       "      <th>4</th>\n",
       "      <td>Afghanistan</td>\n",
       "      <td>2017</td>\n",
       "      <td>10.5</td>\n",
       "      <td>36296113.0</td>\n",
       "      <td>28.928718</td>\n",
       "      <td>185452000</td>\n",
       "      <td>5.11</td>\n",
       "    </tr>\n",
       "    <tr>\n",
       "      <th>...</th>\n",
       "      <td>...</td>\n",
       "      <td>...</td>\n",
       "      <td>...</td>\n",
       "      <td>...</td>\n",
       "      <td>...</td>\n",
       "      <td>...</td>\n",
       "      <td>...</td>\n",
       "    </tr>\n",
       "    <tr>\n",
       "      <th>445</th>\n",
       "      <td>Zimbabwe</td>\n",
       "      <td>2014</td>\n",
       "      <td>NaN</td>\n",
       "      <td>13586707.0</td>\n",
       "      <td>NaN</td>\n",
       "      <td>62570000</td>\n",
       "      <td>4.61</td>\n",
       "    </tr>\n",
       "    <tr>\n",
       "      <th>446</th>\n",
       "      <td>Zimbabwe</td>\n",
       "      <td>2015</td>\n",
       "      <td>NaN</td>\n",
       "      <td>13814629.0</td>\n",
       "      <td>NaN</td>\n",
       "      <td>62570000</td>\n",
       "      <td>4.53</td>\n",
       "    </tr>\n",
       "    <tr>\n",
       "      <th>447</th>\n",
       "      <td>Zimbabwe</td>\n",
       "      <td>2016</td>\n",
       "      <td>NaN</td>\n",
       "      <td>14030331.0</td>\n",
       "      <td>NaN</td>\n",
       "      <td>62570000</td>\n",
       "      <td>4.46</td>\n",
       "    </tr>\n",
       "    <tr>\n",
       "      <th>448</th>\n",
       "      <td>Zimbabwe</td>\n",
       "      <td>2017</td>\n",
       "      <td>NaN</td>\n",
       "      <td>14236595.0</td>\n",
       "      <td>NaN</td>\n",
       "      <td>62570000</td>\n",
       "      <td>4.40</td>\n",
       "    </tr>\n",
       "    <tr>\n",
       "      <th>449</th>\n",
       "      <td>Zimbabwe</td>\n",
       "      <td>2018</td>\n",
       "      <td>NaN</td>\n",
       "      <td>14438802.0</td>\n",
       "      <td>NaN</td>\n",
       "      <td>62570000</td>\n",
       "      <td>4.33</td>\n",
       "    </tr>\n",
       "  </tbody>\n",
       "</table>\n",
       "<p>450 rows × 7 columns</p>\n",
       "</div>"
      ],
      "text/plain": [
       "            Zone  Année  Nombre_en_million_en_sous_nutrition  Population  \\\n",
       "0    Afghanistan   2013                                  8.6  32269589.0   \n",
       "1    Afghanistan   2014                                  8.8  33370794.0   \n",
       "2    Afghanistan   2015                                  8.9  34413603.0   \n",
       "3    Afghanistan   2016                                  9.7  35383032.0   \n",
       "4    Afghanistan   2017                                 10.5  36296113.0   \n",
       "..           ...    ...                                  ...         ...   \n",
       "445     Zimbabwe   2014                                  NaN  13586707.0   \n",
       "446     Zimbabwe   2015                                  NaN  13814629.0   \n",
       "447     Zimbabwe   2016                                  NaN  14030331.0   \n",
       "448     Zimbabwe   2017                                  NaN  14236595.0   \n",
       "449     Zimbabwe   2018                                  NaN  14438802.0   \n",
       "\n",
       "     prop_sous_nut_pop_%  Valeur_aide  Valeur_aide_par_habitant  \n",
       "0              26.650479    185452000                      5.75  \n",
       "1              26.370364    185452000                      5.56  \n",
       "2              25.861866    185452000                      5.39  \n",
       "3              27.414270    185452000                      5.24  \n",
       "4              28.928718    185452000                      5.11  \n",
       "..                   ...          ...                       ...  \n",
       "445                  NaN     62570000                      4.61  \n",
       "446                  NaN     62570000                      4.53  \n",
       "447                  NaN     62570000                      4.46  \n",
       "448                  NaN     62570000                      4.40  \n",
       "449                  NaN     62570000                      4.33  \n",
       "\n",
       "[450 rows x 7 columns]"
      ]
     },
     "execution_count": 106,
     "metadata": {},
     "output_type": "execute_result"
    }
   ],
   "source": [
    "# Calculer valeur aide par habitant\n",
    "sous_nut_population_aide[\"Valeur_aide_par_habitant\"]= round(sous_nut_population_aide[\"Valeur_aide\"]/sous_nut_population_aide[\"Population\"],2)\n",
    "sous_nut_population_aide"
   ]
  },
  {
   "cell_type": "code",
   "execution_count": 107,
   "id": "48000bae",
   "metadata": {},
   "outputs": [],
   "source": [
    "del sous_nut_population_aide['Nombre_en_million_en_sous_nutrition']"
   ]
  },
  {
   "cell_type": "code",
   "execution_count": 108,
   "id": "f716d131",
   "metadata": {},
   "outputs": [],
   "source": [
    "del sous_nut_population_aide['Population']"
   ]
  },
  {
   "cell_type": "code",
   "execution_count": 109,
   "id": "b7b5375a",
   "metadata": {},
   "outputs": [
    {
     "data": {
      "text/html": [
       "<div>\n",
       "<style scoped>\n",
       "    .dataframe tbody tr th:only-of-type {\n",
       "        vertical-align: middle;\n",
       "    }\n",
       "\n",
       "    .dataframe tbody tr th {\n",
       "        vertical-align: top;\n",
       "    }\n",
       "\n",
       "    .dataframe thead th {\n",
       "        text-align: right;\n",
       "    }\n",
       "</style>\n",
       "<table border=\"1\" class=\"dataframe\">\n",
       "  <thead>\n",
       "    <tr style=\"text-align: right;\">\n",
       "      <th></th>\n",
       "      <th>Zone</th>\n",
       "      <th>prop_sous_nut_pop_%</th>\n",
       "      <th>Valeur_aide_par_habitant</th>\n",
       "      <th>Valeur_aide</th>\n",
       "    </tr>\n",
       "  </thead>\n",
       "  <tbody>\n",
       "    <tr>\n",
       "      <th>0</th>\n",
       "      <td>Afghanistan</td>\n",
       "      <td>27.514491</td>\n",
       "      <td>5.340000</td>\n",
       "      <td>1.854520e+08</td>\n",
       "    </tr>\n",
       "    <tr>\n",
       "      <th>1</th>\n",
       "      <td>Algérie</td>\n",
       "      <td>3.201502</td>\n",
       "      <td>2.021667</td>\n",
       "      <td>8.111400e+07</td>\n",
       "    </tr>\n",
       "    <tr>\n",
       "      <th>2</th>\n",
       "      <td>Angola</td>\n",
       "      <td>21.433540</td>\n",
       "      <td>0.176667</td>\n",
       "      <td>5.014000e+06</td>\n",
       "    </tr>\n",
       "    <tr>\n",
       "      <th>3</th>\n",
       "      <td>Bangladesh</td>\n",
       "      <td>14.024052</td>\n",
       "      <td>2.216667</td>\n",
       "      <td>3.481880e+08</td>\n",
       "    </tr>\n",
       "    <tr>\n",
       "      <th>4</th>\n",
       "      <td>Bhoutan</td>\n",
       "      <td>NaN</td>\n",
       "      <td>3.641667</td>\n",
       "      <td>2.666000e+06</td>\n",
       "    </tr>\n",
       "    <tr>\n",
       "      <th>...</th>\n",
       "      <td>...</td>\n",
       "      <td>...</td>\n",
       "      <td>...</td>\n",
       "      <td>...</td>\n",
       "    </tr>\n",
       "    <tr>\n",
       "      <th>70</th>\n",
       "      <td>Zambie</td>\n",
       "      <td>NaN</td>\n",
       "      <td>0.186667</td>\n",
       "      <td>3.026000e+06</td>\n",
       "    </tr>\n",
       "    <tr>\n",
       "      <th>71</th>\n",
       "      <td>Zimbabwe</td>\n",
       "      <td>NaN</td>\n",
       "      <td>4.503333</td>\n",
       "      <td>6.257000e+07</td>\n",
       "    </tr>\n",
       "    <tr>\n",
       "      <th>72</th>\n",
       "      <td>Égypte</td>\n",
       "      <td>4.747290</td>\n",
       "      <td>0.010000</td>\n",
       "      <td>1.122000e+06</td>\n",
       "    </tr>\n",
       "    <tr>\n",
       "      <th>73</th>\n",
       "      <td>Équateur</td>\n",
       "      <td>10.333543</td>\n",
       "      <td>0.083333</td>\n",
       "      <td>1.362000e+06</td>\n",
       "    </tr>\n",
       "    <tr>\n",
       "      <th>74</th>\n",
       "      <td>Éthiopie</td>\n",
       "      <td>22.305657</td>\n",
       "      <td>13.536667</td>\n",
       "      <td>1.381294e+09</td>\n",
       "    </tr>\n",
       "  </tbody>\n",
       "</table>\n",
       "<p>75 rows × 4 columns</p>\n",
       "</div>"
      ],
      "text/plain": [
       "           Zone  prop_sous_nut_pop_%  Valeur_aide_par_habitant   Valeur_aide\n",
       "0   Afghanistan            27.514491                  5.340000  1.854520e+08\n",
       "1       Algérie             3.201502                  2.021667  8.111400e+07\n",
       "2        Angola            21.433540                  0.176667  5.014000e+06\n",
       "3    Bangladesh            14.024052                  2.216667  3.481880e+08\n",
       "4       Bhoutan                  NaN                  3.641667  2.666000e+06\n",
       "..          ...                  ...                       ...           ...\n",
       "70       Zambie                  NaN                  0.186667  3.026000e+06\n",
       "71     Zimbabwe                  NaN                  4.503333  6.257000e+07\n",
       "72       Égypte             4.747290                  0.010000  1.122000e+06\n",
       "73     Équateur            10.333543                  0.083333  1.362000e+06\n",
       "74     Éthiopie            22.305657                 13.536667  1.381294e+09\n",
       "\n",
       "[75 rows x 4 columns]"
      ]
     },
     "execution_count": 109,
     "metadata": {},
     "output_type": "execute_result"
    }
   ],
   "source": [
    "# utiliser groupby .mean pour calculer les moyennes dans chaque colonne\n",
    "sous_nut_population_aide_group = sous_nut_population_aide.groupby (['Zone']).agg({'prop_sous_nut_pop_%':'mean','Valeur_aide_par_habitant':'mean','Valeur_aide':'mean'}).reset_index()\n",
    "sous_nut_population_aide_group"
   ]
  },
  {
   "cell_type": "code",
   "execution_count": 110,
   "id": "f49da25c",
   "metadata": {},
   "outputs": [
    {
     "data": {
      "text/html": [
       "<div>\n",
       "<style scoped>\n",
       "    .dataframe tbody tr th:only-of-type {\n",
       "        vertical-align: middle;\n",
       "    }\n",
       "\n",
       "    .dataframe tbody tr th {\n",
       "        vertical-align: top;\n",
       "    }\n",
       "\n",
       "    .dataframe thead th {\n",
       "        text-align: right;\n",
       "    }\n",
       "</style>\n",
       "<table border=\"1\" class=\"dataframe\">\n",
       "  <thead>\n",
       "    <tr style=\"text-align: right;\">\n",
       "      <th></th>\n",
       "      <th>Zone</th>\n",
       "      <th>prop_sous_nut_pop_%</th>\n",
       "      <th>Valeur_aide_par_habitant</th>\n",
       "      <th>Valeur_aide</th>\n",
       "    </tr>\n",
       "  </thead>\n",
       "  <tbody>\n",
       "    <tr>\n",
       "      <th>0</th>\n",
       "      <td>Afghanistan</td>\n",
       "      <td>27.514491</td>\n",
       "      <td>5.340000</td>\n",
       "      <td>1.854520e+08</td>\n",
       "    </tr>\n",
       "    <tr>\n",
       "      <th>1</th>\n",
       "      <td>Algérie</td>\n",
       "      <td>3.201502</td>\n",
       "      <td>2.021667</td>\n",
       "      <td>8.111400e+07</td>\n",
       "    </tr>\n",
       "    <tr>\n",
       "      <th>2</th>\n",
       "      <td>Angola</td>\n",
       "      <td>21.433540</td>\n",
       "      <td>0.176667</td>\n",
       "      <td>5.014000e+06</td>\n",
       "    </tr>\n",
       "    <tr>\n",
       "      <th>3</th>\n",
       "      <td>Bangladesh</td>\n",
       "      <td>14.024052</td>\n",
       "      <td>2.216667</td>\n",
       "      <td>3.481880e+08</td>\n",
       "    </tr>\n",
       "    <tr>\n",
       "      <th>5</th>\n",
       "      <td>Bolivie (État plurinational de)</td>\n",
       "      <td>16.621647</td>\n",
       "      <td>0.000000</td>\n",
       "      <td>6.000000e+03</td>\n",
       "    </tr>\n",
       "    <tr>\n",
       "      <th>6</th>\n",
       "      <td>Burkina Faso</td>\n",
       "      <td>18.280697</td>\n",
       "      <td>3.535000</td>\n",
       "      <td>6.481200e+07</td>\n",
       "    </tr>\n",
       "    <tr>\n",
       "      <th>8</th>\n",
       "      <td>Bénin</td>\n",
       "      <td>7.470030</td>\n",
       "      <td>2.075000</td>\n",
       "      <td>2.222400e+07</td>\n",
       "    </tr>\n",
       "    <tr>\n",
       "      <th>9</th>\n",
       "      <td>Cambodge</td>\n",
       "      <td>14.913113</td>\n",
       "      <td>1.651667</td>\n",
       "      <td>2.578000e+07</td>\n",
       "    </tr>\n",
       "    <tr>\n",
       "      <th>10</th>\n",
       "      <td>Cameroun</td>\n",
       "      <td>6.636709</td>\n",
       "      <td>2.183333</td>\n",
       "      <td>5.147800e+07</td>\n",
       "    </tr>\n",
       "    <tr>\n",
       "      <th>12</th>\n",
       "      <td>Colombie</td>\n",
       "      <td>6.486627</td>\n",
       "      <td>0.683333</td>\n",
       "      <td>3.274600e+07</td>\n",
       "    </tr>\n",
       "    <tr>\n",
       "      <th>14</th>\n",
       "      <td>Congo</td>\n",
       "      <td>27.070608</td>\n",
       "      <td>4.668333</td>\n",
       "      <td>2.295000e+07</td>\n",
       "    </tr>\n",
       "    <tr>\n",
       "      <th>16</th>\n",
       "      <td>Côte d'Ivoire</td>\n",
       "      <td>20.192231</td>\n",
       "      <td>2.293333</td>\n",
       "      <td>5.393800e+07</td>\n",
       "    </tr>\n",
       "    <tr>\n",
       "      <th>18</th>\n",
       "      <td>El Salvador</td>\n",
       "      <td>10.255797</td>\n",
       "      <td>0.790000</td>\n",
       "      <td>5.012000e+06</td>\n",
       "    </tr>\n",
       "    <tr>\n",
       "      <th>19</th>\n",
       "      <td>Gambie</td>\n",
       "      <td>11.720275</td>\n",
       "      <td>6.210000</td>\n",
       "      <td>1.312600e+07</td>\n",
       "    </tr>\n",
       "    <tr>\n",
       "      <th>20</th>\n",
       "      <td>Ghana</td>\n",
       "      <td>7.169804</td>\n",
       "      <td>0.558333</td>\n",
       "      <td>1.567600e+07</td>\n",
       "    </tr>\n",
       "    <tr>\n",
       "      <th>21</th>\n",
       "      <td>Guatemala</td>\n",
       "      <td>16.980842</td>\n",
       "      <td>6.033333</td>\n",
       "      <td>9.892600e+07</td>\n",
       "    </tr>\n",
       "    <tr>\n",
       "      <th>24</th>\n",
       "      <td>Géorgie</td>\n",
       "      <td>5.804167</td>\n",
       "      <td>0.020000</td>\n",
       "      <td>7.000000e+04</td>\n",
       "    </tr>\n",
       "    <tr>\n",
       "      <th>25</th>\n",
       "      <td>Haïti</td>\n",
       "      <td>48.306924</td>\n",
       "      <td>10.823333</td>\n",
       "      <td>1.164500e+08</td>\n",
       "    </tr>\n",
       "    <tr>\n",
       "      <th>26</th>\n",
       "      <td>Honduras</td>\n",
       "      <td>15.467102</td>\n",
       "      <td>5.958333</td>\n",
       "      <td>5.473200e+07</td>\n",
       "    </tr>\n",
       "    <tr>\n",
       "      <th>27</th>\n",
       "      <td>Iran (République islamique d')</td>\n",
       "      <td>4.825942</td>\n",
       "      <td>0.060000</td>\n",
       "      <td>4.686000e+06</td>\n",
       "    </tr>\n",
       "    <tr>\n",
       "      <th>28</th>\n",
       "      <td>Iraq</td>\n",
       "      <td>23.329514</td>\n",
       "      <td>0.100000</td>\n",
       "      <td>3.598000e+06</td>\n",
       "    </tr>\n",
       "    <tr>\n",
       "      <th>29</th>\n",
       "      <td>Jordanie</td>\n",
       "      <td>8.762227</td>\n",
       "      <td>2.608333</td>\n",
       "      <td>2.427600e+07</td>\n",
       "    </tr>\n",
       "    <tr>\n",
       "      <th>30</th>\n",
       "      <td>Kenya</td>\n",
       "      <td>22.675012</td>\n",
       "      <td>11.428333</td>\n",
       "      <td>5.528360e+08</td>\n",
       "    </tr>\n",
       "    <tr>\n",
       "      <th>31</th>\n",
       "      <td>Kirghizistan</td>\n",
       "      <td>6.654695</td>\n",
       "      <td>0.688333</td>\n",
       "      <td>4.138000e+06</td>\n",
       "    </tr>\n",
       "    <tr>\n",
       "      <th>32</th>\n",
       "      <td>Lesotho</td>\n",
       "      <td>31.352616</td>\n",
       "      <td>5.140000</td>\n",
       "      <td>1.062400e+07</td>\n",
       "    </tr>\n",
       "    <tr>\n",
       "      <th>33</th>\n",
       "      <td>Liban</td>\n",
       "      <td>7.533151</td>\n",
       "      <td>1.290000</td>\n",
       "      <td>8.374000e+06</td>\n",
       "    </tr>\n",
       "    <tr>\n",
       "      <th>35</th>\n",
       "      <td>Libéria</td>\n",
       "      <td>37.482829</td>\n",
       "      <td>4.388333</td>\n",
       "      <td>1.984600e+07</td>\n",
       "    </tr>\n",
       "    <tr>\n",
       "      <th>36</th>\n",
       "      <td>Madagascar</td>\n",
       "      <td>39.054761</td>\n",
       "      <td>3.940000</td>\n",
       "      <td>9.667800e+07</td>\n",
       "    </tr>\n",
       "    <tr>\n",
       "      <th>37</th>\n",
       "      <td>Malawi</td>\n",
       "      <td>17.535027</td>\n",
       "      <td>5.373333</td>\n",
       "      <td>9.102200e+07</td>\n",
       "    </tr>\n",
       "    <tr>\n",
       "      <th>38</th>\n",
       "      <td>Mali</td>\n",
       "      <td>5.567701</td>\n",
       "      <td>8.458333</td>\n",
       "      <td>1.495860e+08</td>\n",
       "    </tr>\n",
       "    <tr>\n",
       "      <th>39</th>\n",
       "      <td>Mauritanie</td>\n",
       "      <td>10.069222</td>\n",
       "      <td>13.955000</td>\n",
       "      <td>5.718200e+07</td>\n",
       "    </tr>\n",
       "    <tr>\n",
       "      <th>40</th>\n",
       "      <td>Mozambique</td>\n",
       "      <td>29.865101</td>\n",
       "      <td>2.140000</td>\n",
       "      <td>5.861200e+07</td>\n",
       "    </tr>\n",
       "    <tr>\n",
       "      <th>41</th>\n",
       "      <td>Myanmar</td>\n",
       "      <td>13.626261</td>\n",
       "      <td>0.351667</td>\n",
       "      <td>1.855000e+07</td>\n",
       "    </tr>\n",
       "    <tr>\n",
       "      <th>42</th>\n",
       "      <td>Nicaragua</td>\n",
       "      <td>18.108881</td>\n",
       "      <td>18.421667</td>\n",
       "      <td>1.153320e+08</td>\n",
       "    </tr>\n",
       "    <tr>\n",
       "      <th>44</th>\n",
       "      <td>Népal</td>\n",
       "      <td>6.228319</td>\n",
       "      <td>1.105000</td>\n",
       "      <td>3.015600e+07</td>\n",
       "    </tr>\n",
       "    <tr>\n",
       "      <th>46</th>\n",
       "      <td>Pakistan</td>\n",
       "      <td>13.316126</td>\n",
       "      <td>1.146667</td>\n",
       "      <td>2.310720e+08</td>\n",
       "    </tr>\n",
       "    <tr>\n",
       "      <th>48</th>\n",
       "      <td>Philippines</td>\n",
       "      <td>15.125725</td>\n",
       "      <td>1.671667</td>\n",
       "      <td>1.717220e+08</td>\n",
       "    </tr>\n",
       "    <tr>\n",
       "      <th>49</th>\n",
       "      <td>Rwanda</td>\n",
       "      <td>32.655682</td>\n",
       "      <td>0.991667</td>\n",
       "      <td>1.140800e+07</td>\n",
       "    </tr>\n",
       "    <tr>\n",
       "      <th>52</th>\n",
       "      <td>République dominicaine</td>\n",
       "      <td>7.279449</td>\n",
       "      <td>8.176667</td>\n",
       "      <td>8.450600e+07</td>\n",
       "    </tr>\n",
       "    <tr>\n",
       "      <th>55</th>\n",
       "      <td>République populaire démocratique de Corée</td>\n",
       "      <td>44.944119</td>\n",
       "      <td>7.426667</td>\n",
       "      <td>1.874120e+08</td>\n",
       "    </tr>\n",
       "    <tr>\n",
       "      <th>56</th>\n",
       "      <td>République-Unie de Tanzanie</td>\n",
       "      <td>25.531222</td>\n",
       "      <td>3.295000</td>\n",
       "      <td>1.720220e+08</td>\n",
       "    </tr>\n",
       "    <tr>\n",
       "      <th>57</th>\n",
       "      <td>Sao Tomé-et-Principe</td>\n",
       "      <td>24.847939</td>\n",
       "      <td>9.076667</td>\n",
       "      <td>1.826000e+06</td>\n",
       "    </tr>\n",
       "    <tr>\n",
       "      <th>58</th>\n",
       "      <td>Sierra Leone</td>\n",
       "      <td>28.334210</td>\n",
       "      <td>3.581667</td>\n",
       "      <td>2.594200e+07</td>\n",
       "    </tr>\n",
       "    <tr>\n",
       "      <th>60</th>\n",
       "      <td>Soudan</td>\n",
       "      <td>12.898407</td>\n",
       "      <td>17.028333</td>\n",
       "      <td>6.697840e+08</td>\n",
       "    </tr>\n",
       "    <tr>\n",
       "      <th>62</th>\n",
       "      <td>Sri Lanka</td>\n",
       "      <td>8.195979</td>\n",
       "      <td>0.885000</td>\n",
       "      <td>1.855000e+07</td>\n",
       "    </tr>\n",
       "    <tr>\n",
       "      <th>63</th>\n",
       "      <td>Sénégal</td>\n",
       "      <td>10.383348</td>\n",
       "      <td>6.078333</td>\n",
       "      <td>8.976200e+07</td>\n",
       "    </tr>\n",
       "    <tr>\n",
       "      <th>65</th>\n",
       "      <td>Tchad</td>\n",
       "      <td>37.142824</td>\n",
       "      <td>18.736667</td>\n",
       "      <td>2.679660e+08</td>\n",
       "    </tr>\n",
       "    <tr>\n",
       "      <th>66</th>\n",
       "      <td>Timor-Leste</td>\n",
       "      <td>33.117922</td>\n",
       "      <td>0.096667</td>\n",
       "      <td>1.160000e+05</td>\n",
       "    </tr>\n",
       "    <tr>\n",
       "      <th>67</th>\n",
       "      <td>Togo</td>\n",
       "      <td>21.133406</td>\n",
       "      <td>3.348333</td>\n",
       "      <td>2.480400e+07</td>\n",
       "    </tr>\n",
       "    <tr>\n",
       "      <th>68</th>\n",
       "      <td>Vanuatu</td>\n",
       "      <td>18.238668</td>\n",
       "      <td>2.926667</td>\n",
       "      <td>8.020000e+05</td>\n",
       "    </tr>\n",
       "    <tr>\n",
       "      <th>72</th>\n",
       "      <td>Égypte</td>\n",
       "      <td>4.747290</td>\n",
       "      <td>0.010000</td>\n",
       "      <td>1.122000e+06</td>\n",
       "    </tr>\n",
       "    <tr>\n",
       "      <th>73</th>\n",
       "      <td>Équateur</td>\n",
       "      <td>10.333543</td>\n",
       "      <td>0.083333</td>\n",
       "      <td>1.362000e+06</td>\n",
       "    </tr>\n",
       "    <tr>\n",
       "      <th>74</th>\n",
       "      <td>Éthiopie</td>\n",
       "      <td>22.305657</td>\n",
       "      <td>13.536667</td>\n",
       "      <td>1.381294e+09</td>\n",
       "    </tr>\n",
       "  </tbody>\n",
       "</table>\n",
       "</div>"
      ],
      "text/plain": [
       "                                          Zone  prop_sous_nut_pop_%  \\\n",
       "0                                  Afghanistan            27.514491   \n",
       "1                                      Algérie             3.201502   \n",
       "2                                       Angola            21.433540   \n",
       "3                                   Bangladesh            14.024052   \n",
       "5              Bolivie (État plurinational de)            16.621647   \n",
       "6                                 Burkina Faso            18.280697   \n",
       "8                                        Bénin             7.470030   \n",
       "9                                     Cambodge            14.913113   \n",
       "10                                    Cameroun             6.636709   \n",
       "12                                    Colombie             6.486627   \n",
       "14                                       Congo            27.070608   \n",
       "16                               Côte d'Ivoire            20.192231   \n",
       "18                                 El Salvador            10.255797   \n",
       "19                                      Gambie            11.720275   \n",
       "20                                       Ghana             7.169804   \n",
       "21                                   Guatemala            16.980842   \n",
       "24                                     Géorgie             5.804167   \n",
       "25                                       Haïti            48.306924   \n",
       "26                                    Honduras            15.467102   \n",
       "27              Iran (République islamique d')             4.825942   \n",
       "28                                        Iraq            23.329514   \n",
       "29                                    Jordanie             8.762227   \n",
       "30                                       Kenya            22.675012   \n",
       "31                                Kirghizistan             6.654695   \n",
       "32                                     Lesotho            31.352616   \n",
       "33                                       Liban             7.533151   \n",
       "35                                     Libéria            37.482829   \n",
       "36                                  Madagascar            39.054761   \n",
       "37                                      Malawi            17.535027   \n",
       "38                                        Mali             5.567701   \n",
       "39                                  Mauritanie            10.069222   \n",
       "40                                  Mozambique            29.865101   \n",
       "41                                     Myanmar            13.626261   \n",
       "42                                   Nicaragua            18.108881   \n",
       "44                                       Népal             6.228319   \n",
       "46                                    Pakistan            13.316126   \n",
       "48                                 Philippines            15.125725   \n",
       "49                                      Rwanda            32.655682   \n",
       "52                      République dominicaine             7.279449   \n",
       "55  République populaire démocratique de Corée            44.944119   \n",
       "56                 République-Unie de Tanzanie            25.531222   \n",
       "57                        Sao Tomé-et-Principe            24.847939   \n",
       "58                                Sierra Leone            28.334210   \n",
       "60                                      Soudan            12.898407   \n",
       "62                                   Sri Lanka             8.195979   \n",
       "63                                     Sénégal            10.383348   \n",
       "65                                       Tchad            37.142824   \n",
       "66                                 Timor-Leste            33.117922   \n",
       "67                                        Togo            21.133406   \n",
       "68                                     Vanuatu            18.238668   \n",
       "72                                      Égypte             4.747290   \n",
       "73                                    Équateur            10.333543   \n",
       "74                                    Éthiopie            22.305657   \n",
       "\n",
       "    Valeur_aide_par_habitant   Valeur_aide  \n",
       "0                   5.340000  1.854520e+08  \n",
       "1                   2.021667  8.111400e+07  \n",
       "2                   0.176667  5.014000e+06  \n",
       "3                   2.216667  3.481880e+08  \n",
       "5                   0.000000  6.000000e+03  \n",
       "6                   3.535000  6.481200e+07  \n",
       "8                   2.075000  2.222400e+07  \n",
       "9                   1.651667  2.578000e+07  \n",
       "10                  2.183333  5.147800e+07  \n",
       "12                  0.683333  3.274600e+07  \n",
       "14                  4.668333  2.295000e+07  \n",
       "16                  2.293333  5.393800e+07  \n",
       "18                  0.790000  5.012000e+06  \n",
       "19                  6.210000  1.312600e+07  \n",
       "20                  0.558333  1.567600e+07  \n",
       "21                  6.033333  9.892600e+07  \n",
       "24                  0.020000  7.000000e+04  \n",
       "25                 10.823333  1.164500e+08  \n",
       "26                  5.958333  5.473200e+07  \n",
       "27                  0.060000  4.686000e+06  \n",
       "28                  0.100000  3.598000e+06  \n",
       "29                  2.608333  2.427600e+07  \n",
       "30                 11.428333  5.528360e+08  \n",
       "31                  0.688333  4.138000e+06  \n",
       "32                  5.140000  1.062400e+07  \n",
       "33                  1.290000  8.374000e+06  \n",
       "35                  4.388333  1.984600e+07  \n",
       "36                  3.940000  9.667800e+07  \n",
       "37                  5.373333  9.102200e+07  \n",
       "38                  8.458333  1.495860e+08  \n",
       "39                 13.955000  5.718200e+07  \n",
       "40                  2.140000  5.861200e+07  \n",
       "41                  0.351667  1.855000e+07  \n",
       "42                 18.421667  1.153320e+08  \n",
       "44                  1.105000  3.015600e+07  \n",
       "46                  1.146667  2.310720e+08  \n",
       "48                  1.671667  1.717220e+08  \n",
       "49                  0.991667  1.140800e+07  \n",
       "52                  8.176667  8.450600e+07  \n",
       "55                  7.426667  1.874120e+08  \n",
       "56                  3.295000  1.720220e+08  \n",
       "57                  9.076667  1.826000e+06  \n",
       "58                  3.581667  2.594200e+07  \n",
       "60                 17.028333  6.697840e+08  \n",
       "62                  0.885000  1.855000e+07  \n",
       "63                  6.078333  8.976200e+07  \n",
       "65                 18.736667  2.679660e+08  \n",
       "66                  0.096667  1.160000e+05  \n",
       "67                  3.348333  2.480400e+07  \n",
       "68                  2.926667  8.020000e+05  \n",
       "72                  0.010000  1.122000e+06  \n",
       "73                  0.083333  1.362000e+06  \n",
       "74                 13.536667  1.381294e+09  "
      ]
     },
     "execution_count": 110,
     "metadata": {},
     "output_type": "execute_result"
    }
   ],
   "source": [
    "sous_nut_population_aide_group.dropna()"
   ]
  },
  {
   "cell_type": "code",
   "execution_count": 111,
   "id": "c1296e17",
   "metadata": {},
   "outputs": [],
   "source": [
    "import numpy as np\n",
    "import matplotlib.pyplot as plt"
   ]
  },
  {
   "cell_type": "code",
   "execution_count": 112,
   "id": "93f654d3",
   "metadata": {},
   "outputs": [
    {
     "data": {
      "image/png": "[encoded data removed]",
      "text/plain": [
       "<Figure size 432x288 with 1 Axes>"
      ]
     },
     "metadata": {
      "needs_background": "light"
     },
     "output_type": "display_data"
    }
   ],
   "source": [
    "# un graphique en nuage de points pour visualiser l'aide en fonction de la sous nutrition\n",
    "sous_nut_population_aide_group.plot(x='prop_sous_nut_pop_%', y='Valeur_aide_par_habitant', style='o')\n",
    "\n",
    "plt.savefig(\"pandas_scatter_plot_01.png\", bbox_inches='tight', dpi=100)"
   ]
  },
  {
   "cell_type": "code",
   "execution_count": 113,
   "id": "3d1cd7de",
   "metadata": {},
   "outputs": [],
   "source": [
    "# Utiliser Sort.values pour un ordre décroissant des pays qui ont les plus grandes valeur d'aide par habitant\n",
    "sous_nut_population_aide_group=sous_nut_population_aide_group.sort_values(by='Valeur_aide_par_habitant', ascending=False)"
   ]
  },
  {
   "cell_type": "code",
   "execution_count": 114,
   "id": "8825b7a8",
   "metadata": {},
   "outputs": [],
   "source": [
    "# Utiliser Sort.values pour un ordre croissant des pays qui ont les plus petites valeur d'aide par habitant\n",
    "sous_nut_population_aide_group=sous_nut_population_aide_group.sort_values(by='Valeur_aide_par_habitant', ascending=True)"
   ]
  },
  {
   "cell_type": "code",
   "execution_count": 115,
   "id": "255a29aa",
   "metadata": {},
   "outputs": [
    {
     "data": {
      "text/html": [
       "<div>\n",
       "<style scoped>\n",
       "    .dataframe tbody tr th:only-of-type {\n",
       "        vertical-align: middle;\n",
       "    }\n",
       "\n",
       "    .dataframe tbody tr th {\n",
       "        vertical-align: top;\n",
       "    }\n",
       "\n",
       "    .dataframe thead th {\n",
       "        text-align: right;\n",
       "    }\n",
       "</style>\n",
       "<table border=\"1\" class=\"dataframe\">\n",
       "  <thead>\n",
       "    <tr style=\"text-align: right;\">\n",
       "      <th></th>\n",
       "      <th>prop_sous_nut_pop_%</th>\n",
       "      <th>Valeur_aide_par_habitant</th>\n",
       "      <th>Valeur_aide</th>\n",
       "    </tr>\n",
       "  </thead>\n",
       "  <tbody>\n",
       "    <tr>\n",
       "      <th>count</th>\n",
       "      <td>53.000000</td>\n",
       "      <td>75.000000</td>\n",
       "      <td>7.500000e+01</td>\n",
       "    </tr>\n",
       "    <tr>\n",
       "      <th>mean</th>\n",
       "      <td>17.976470</td>\n",
       "      <td>8.478756</td>\n",
       "      <td>1.469383e+08</td>\n",
       "    </tr>\n",
       "    <tr>\n",
       "      <th>std</th>\n",
       "      <td>11.179228</td>\n",
       "      <td>15.835613</td>\n",
       "      <td>3.127039e+08</td>\n",
       "    </tr>\n",
       "    <tr>\n",
       "      <th>min</th>\n",
       "      <td>3.201502</td>\n",
       "      <td>0.000000</td>\n",
       "      <td>6.000000e+03</td>\n",
       "    </tr>\n",
       "    <tr>\n",
       "      <th>25%</th>\n",
       "      <td>8.195979</td>\n",
       "      <td>1.048333</td>\n",
       "      <td>9.581000e+06</td>\n",
       "    </tr>\n",
       "    <tr>\n",
       "      <th>50%</th>\n",
       "      <td>15.467102</td>\n",
       "      <td>3.581667</td>\n",
       "      <td>4.129600e+07</td>\n",
       "    </tr>\n",
       "    <tr>\n",
       "      <th>75%</th>\n",
       "      <td>24.847939</td>\n",
       "      <td>8.317500</td>\n",
       "      <td>1.158910e+08</td>\n",
       "    </tr>\n",
       "    <tr>\n",
       "      <th>max</th>\n",
       "      <td>48.306924</td>\n",
       "      <td>103.743333</td>\n",
       "      <td>1.858943e+09</td>\n",
       "    </tr>\n",
       "  </tbody>\n",
       "</table>\n",
       "</div>"
      ],
      "text/plain": [
       "       prop_sous_nut_pop_%  Valeur_aide_par_habitant   Valeur_aide\n",
       "count            53.000000                 75.000000  7.500000e+01\n",
       "mean             17.976470                  8.478756  1.469383e+08\n",
       "std              11.179228                 15.835613  3.127039e+08\n",
       "min               3.201502                  0.000000  6.000000e+03\n",
       "25%               8.195979                  1.048333  9.581000e+06\n",
       "50%              15.467102                  3.581667  4.129600e+07\n",
       "75%              24.847939                  8.317500  1.158910e+08\n",
       "max              48.306924                103.743333  1.858943e+09"
      ]
     },
     "execution_count": 115,
     "metadata": {},
     "output_type": "execute_result"
    }
   ],
   "source": [
    "sous_nut_population_aide_group.describe()"
   ]
  },
  {
   "cell_type": "code",
   "execution_count": 116,
   "id": "c9d0e012",
   "metadata": {},
   "outputs": [
    {
     "data": {
      "image/png": "[encoded data removed]",
      "text/plain": [
       "<Figure size 432x432 with 3 Axes>"
      ]
     },
     "metadata": {
      "needs_background": "light"
     },
     "output_type": "display_data"
    }
   ],
   "source": [
    "import seaborn as sns\n",
    "sns.jointplot(x=sous_nut_population_aide_group[\"prop_sous_nut_pop_%\"], y=sous_nut_population_aide_group[\"Valeur_aide\"], kind='scatter')\n",
    "plt.show()"
   ]
  },
  {
   "cell_type": "code",
   "execution_count": 117,
   "id": "638211b4",
   "metadata": {},
   "outputs": [
    {
     "data": {
      "image/png": "[encoded data removed]",
      "text/plain": [
       "<Figure size 1152x648 with 1 Axes>"
      ]
     },
     "metadata": {
      "needs_background": "light"
     },
     "output_type": "display_data"
    }
   ],
   "source": [
    "\n",
    "Zone = sous_nut_population_aide_group['Zone'].head(12)\n",
    "aide= sous_nut_population_aide_group['Valeur_aide_par_habitant'].head(12)\n",
    "  \n",
    "# Figure Size\n",
    "fig, ax = plt.subplots(figsize=(16, 9))\n",
    "  \n",
    "# Horizontal Bar Plot\n",
    "ax.barh(Zone, aide)\n",
    "  \n",
    "# Remove axes splines\n",
    "for s in ['top', 'bottom', 'left', 'right']:\n",
    "    ax.spines[s].set_visible(False)\n",
    "  \n",
    "# Remove x, y Ticks\n",
    "ax.xaxis.set_ticks_position('none')\n",
    "ax.yaxis.set_ticks_position('none')\n",
    "  \n",
    "# Add padding between axes and labels\n",
    "ax.xaxis.set_tick_params(pad=5)\n",
    "ax.yaxis.set_tick_params(pad=10)\n",
    "  \n",
    "# Add x, y gridlines\n",
    "ax.grid(b=True, color='grey',\n",
    "        linestyle='-.', linewidth=0.5,\n",
    "        alpha=0.2)\n",
    "  \n",
    "# Show top values\n",
    "ax.invert_yaxis()\n",
    "  \n",
    "# Add annotation to bars\n",
    "for i in ax.patches:\n",
    "    plt.text(i.get_width()+0.2, i.get_y()+0.5,\n",
    "             str(round((i.get_width()), 2)),\n",
    "             fontsize=10, fontweight='bold',\n",
    "             color='black')\n",
    "  \n",
    "# Add Plot Title\n",
    "ax.set_title('Valeur de l aide par habitant en fonction de la zone',\n",
    "             loc='left', )\n",
    "  \n",
    "\n",
    "plt.show()"
   ]
  },
  {
   "cell_type": "code",
   "execution_count": 118,
   "id": "a280d138",
   "metadata": {},
   "outputs": [
    {
     "data": {
      "text/html": [
       "<div>\n",
       "<style scoped>\n",
       "    .dataframe tbody tr th:only-of-type {\n",
       "        vertical-align: middle;\n",
       "    }\n",
       "\n",
       "    .dataframe tbody tr th {\n",
       "        vertical-align: top;\n",
       "    }\n",
       "\n",
       "    .dataframe thead th {\n",
       "        text-align: right;\n",
       "    }\n",
       "</style>\n",
       "<table border=\"1\" class=\"dataframe\">\n",
       "  <thead>\n",
       "    <tr style=\"text-align: right;\">\n",
       "      <th></th>\n",
       "      <th>index</th>\n",
       "      <th>Zone</th>\n",
       "      <th>prop_sous_nut_pop_%</th>\n",
       "      <th>Valeur_aide_par_habitant</th>\n",
       "      <th>Valeur_aide</th>\n",
       "    </tr>\n",
       "  </thead>\n",
       "  <tbody>\n",
       "    <tr>\n",
       "      <th>0</th>\n",
       "      <td>25</td>\n",
       "      <td>Haïti</td>\n",
       "      <td>48.306924</td>\n",
       "      <td>10.823333</td>\n",
       "      <td>1.164500e+08</td>\n",
       "    </tr>\n",
       "    <tr>\n",
       "      <th>1</th>\n",
       "      <td>55</td>\n",
       "      <td>République populaire démocratique de Corée</td>\n",
       "      <td>44.944119</td>\n",
       "      <td>7.426667</td>\n",
       "      <td>1.874120e+08</td>\n",
       "    </tr>\n",
       "    <tr>\n",
       "      <th>2</th>\n",
       "      <td>36</td>\n",
       "      <td>Madagascar</td>\n",
       "      <td>39.054761</td>\n",
       "      <td>3.940000</td>\n",
       "      <td>9.667800e+07</td>\n",
       "    </tr>\n",
       "    <tr>\n",
       "      <th>3</th>\n",
       "      <td>35</td>\n",
       "      <td>Libéria</td>\n",
       "      <td>37.482829</td>\n",
       "      <td>4.388333</td>\n",
       "      <td>1.984600e+07</td>\n",
       "    </tr>\n",
       "    <tr>\n",
       "      <th>4</th>\n",
       "      <td>65</td>\n",
       "      <td>Tchad</td>\n",
       "      <td>37.142824</td>\n",
       "      <td>18.736667</td>\n",
       "      <td>2.679660e+08</td>\n",
       "    </tr>\n",
       "    <tr>\n",
       "      <th>...</th>\n",
       "      <td>...</td>\n",
       "      <td>...</td>\n",
       "      <td>...</td>\n",
       "      <td>...</td>\n",
       "      <td>...</td>\n",
       "    </tr>\n",
       "    <tr>\n",
       "      <th>70</th>\n",
       "      <td>47</td>\n",
       "      <td>Palestine</td>\n",
       "      <td>NaN</td>\n",
       "      <td>37.028333</td>\n",
       "      <td>1.696840e+08</td>\n",
       "    </tr>\n",
       "    <tr>\n",
       "      <th>71</th>\n",
       "      <td>17</td>\n",
       "      <td>Djibouti</td>\n",
       "      <td>NaN</td>\n",
       "      <td>44.855000</td>\n",
       "      <td>4.129600e+07</td>\n",
       "    </tr>\n",
       "    <tr>\n",
       "      <th>72</th>\n",
       "      <td>69</td>\n",
       "      <td>Yémen</td>\n",
       "      <td>NaN</td>\n",
       "      <td>45.051667</td>\n",
       "      <td>1.206484e+09</td>\n",
       "    </tr>\n",
       "    <tr>\n",
       "      <th>73</th>\n",
       "      <td>61</td>\n",
       "      <td>Soudan du Sud</td>\n",
       "      <td>NaN</td>\n",
       "      <td>64.855000</td>\n",
       "      <td>6.952480e+08</td>\n",
       "    </tr>\n",
       "    <tr>\n",
       "      <th>74</th>\n",
       "      <td>50</td>\n",
       "      <td>République arabe syrienne</td>\n",
       "      <td>NaN</td>\n",
       "      <td>103.743333</td>\n",
       "      <td>1.858943e+09</td>\n",
       "    </tr>\n",
       "  </tbody>\n",
       "</table>\n",
       "<p>75 rows × 5 columns</p>\n",
       "</div>"
      ],
      "text/plain": [
       "    index                                        Zone  prop_sous_nut_pop_%  \\\n",
       "0      25                                       Haïti            48.306924   \n",
       "1      55  République populaire démocratique de Corée            44.944119   \n",
       "2      36                                  Madagascar            39.054761   \n",
       "3      35                                     Libéria            37.482829   \n",
       "4      65                                       Tchad            37.142824   \n",
       "..    ...                                         ...                  ...   \n",
       "70     47                                   Palestine                  NaN   \n",
       "71     17                                    Djibouti                  NaN   \n",
       "72     69                                       Yémen                  NaN   \n",
       "73     61                               Soudan du Sud                  NaN   \n",
       "74     50                   République arabe syrienne                  NaN   \n",
       "\n",
       "    Valeur_aide_par_habitant   Valeur_aide  \n",
       "0                  10.823333  1.164500e+08  \n",
       "1                   7.426667  1.874120e+08  \n",
       "2                   3.940000  9.667800e+07  \n",
       "3                   4.388333  1.984600e+07  \n",
       "4                  18.736667  2.679660e+08  \n",
       "..                       ...           ...  \n",
       "70                 37.028333  1.696840e+08  \n",
       "71                 44.855000  4.129600e+07  \n",
       "72                 45.051667  1.206484e+09  \n",
       "73                 64.855000  6.952480e+08  \n",
       "74                103.743333  1.858943e+09  \n",
       "\n",
       "[75 rows x 5 columns]"
      ]
     },
     "execution_count": 118,
     "metadata": {},
     "output_type": "execute_result"
    }
   ],
   "source": [
    " # classer par ordre décroissant les zones avec la proportion de la sous nutrition\n",
    "sous_nut_population_aide_group=sous_nut_population_aide_group.sort_values(by='prop_sous_nut_pop_%',ascending=False)\n",
    "sous_nut_population_aide_group.reset_index()"
   ]
  },
  {
   "cell_type": "code",
   "execution_count": 119,
   "id": "2fbbd66d",
   "metadata": {},
   "outputs": [
    {
     "data": {
      "image/png": "[encoded data removed]",
      "text/plain": [
       "<Figure size 1152x648 with 1 Axes>"
      ]
     },
     "metadata": {
      "needs_background": "light"
     },
     "output_type": "display_data"
    }
   ],
   "source": [
    "\n",
    "Zone = sous_nut_population_aide_group['Zone'].head(12)\n",
    "mal_nourrie= sous_nut_population_aide_group['prop_sous_nut_pop_%'].head(12)\n",
    "  \n",
    "# Figure Size\n",
    "fig, ax = plt.subplots(figsize=(16, 9))\n",
    "  \n",
    "# Horizontal Bar Plot\n",
    "ax.barh(Zone, mal_nourrie)\n",
    "  \n",
    "# Remove axes splines\n",
    "for s in ['top', 'bottom', 'left', 'right']:\n",
    "    ax.spines[s].set_visible(False)\n",
    "  \n",
    "# Remove x, y Ticks\n",
    "ax.xaxis.set_ticks_position('none')\n",
    "ax.yaxis.set_ticks_position('none')\n",
    "  \n",
    "# Add padding between axes and labels\n",
    "ax.xaxis.set_tick_params(pad=5)\n",
    "ax.yaxis.set_tick_params(pad=10)\n",
    "  \n",
    "# Add x, y gridlines\n",
    "ax.grid(b=True, color='grey',\n",
    "        linestyle='-.', linewidth=0.5,\n",
    "        alpha=0.2)\n",
    "  \n",
    "# Show top values\n",
    "ax.invert_yaxis()\n",
    "  \n",
    "# Add annotation to bars\n",
    "for i in ax.patches:\n",
    "    plt.text(i.get_width()+0.2, i.get_y()+0.5,\n",
    "             str(round((i.get_width()), 2)),\n",
    "             fontsize=10, fontweight='bold',\n",
    "             color='black')\n",
    "  \n",
    "# Add Plot Title\n",
    "ax.set_title('proportion des mals nourris par rapport à la zone',\n",
    "             loc='left', )\n",
    "\n",
    "plt.show()"
   ]
  },
  {
   "cell_type": "markdown",
   "id": "8102bd90",
   "metadata": {},
   "source": [
    "## C) les pays ayants le plus/le moins de disponibilité/habitant"
   ]
  },
  {
   "cell_type": "code",
   "execution_count": 120,
   "id": "19a682e2",
   "metadata": {},
   "outputs": [],
   "source": [
    "dispo= pd.read_csv('dispo_alimentaire.csv')"
   ]
  },
  {
   "cell_type": "code",
   "execution_count": 121,
   "id": "cb550b2e",
   "metadata": {},
   "outputs": [],
   "source": [
    "# groupby pour calculer la somme de disponibilité alimentaire (Kcal/personne/jour) en fonction des zones\n",
    "disponibilité_par_zone = dispo.groupby (['Zone']) ['Disponibilité alimentaire (Kcal/personne/jour)'].sum()"
   ]
  },
  {
   "cell_type": "code",
   "execution_count": 122,
   "id": "db713234",
   "metadata": {},
   "outputs": [],
   "source": [
    "disponibilité_par_zone=disponibilité_par_zone.to_frame()"
   ]
  },
  {
   "cell_type": "markdown",
   "id": "22352a46",
   "metadata": {},
   "source": [
    "#### Réponse question C) les pays ayants le plus/le moins de disponibilité/habitant"
   ]
  },
  {
   "cell_type": "code",
   "execution_count": 123,
   "id": "5751d890",
   "metadata": {
    "scrolled": true
   },
   "outputs": [
    {
     "data": {
      "text/html": [
       "<div>\n",
       "<style scoped>\n",
       "    .dataframe tbody tr th:only-of-type {\n",
       "        vertical-align: middle;\n",
       "    }\n",
       "\n",
       "    .dataframe tbody tr th {\n",
       "        vertical-align: top;\n",
       "    }\n",
       "\n",
       "    .dataframe thead th {\n",
       "        text-align: right;\n",
       "    }\n",
       "</style>\n",
       "<table border=\"1\" class=\"dataframe\">\n",
       "  <thead>\n",
       "    <tr style=\"text-align: right;\">\n",
       "      <th></th>\n",
       "      <th>Zone</th>\n",
       "      <th>Disponibilité alimentaire (Kcal/personne/jour)</th>\n",
       "    </tr>\n",
       "  </thead>\n",
       "  <tbody>\n",
       "    <tr>\n",
       "      <th>0</th>\n",
       "      <td>Autriche</td>\n",
       "      <td>3770.0</td>\n",
       "    </tr>\n",
       "    <tr>\n",
       "      <th>1</th>\n",
       "      <td>Belgique</td>\n",
       "      <td>3737.0</td>\n",
       "    </tr>\n",
       "    <tr>\n",
       "      <th>2</th>\n",
       "      <td>Turquie</td>\n",
       "      <td>3708.0</td>\n",
       "    </tr>\n",
       "    <tr>\n",
       "      <th>3</th>\n",
       "      <td>États-Unis d'Amérique</td>\n",
       "      <td>3682.0</td>\n",
       "    </tr>\n",
       "    <tr>\n",
       "      <th>4</th>\n",
       "      <td>Israël</td>\n",
       "      <td>3610.0</td>\n",
       "    </tr>\n",
       "    <tr>\n",
       "      <th>...</th>\n",
       "      <td>...</td>\n",
       "      <td>...</td>\n",
       "    </tr>\n",
       "    <tr>\n",
       "      <th>169</th>\n",
       "      <td>Haïti</td>\n",
       "      <td>2089.0</td>\n",
       "    </tr>\n",
       "    <tr>\n",
       "      <th>170</th>\n",
       "      <td>Afghanistan</td>\n",
       "      <td>2087.0</td>\n",
       "    </tr>\n",
       "    <tr>\n",
       "      <th>171</th>\n",
       "      <td>Madagascar</td>\n",
       "      <td>2056.0</td>\n",
       "    </tr>\n",
       "    <tr>\n",
       "      <th>172</th>\n",
       "      <td>Zambie</td>\n",
       "      <td>1924.0</td>\n",
       "    </tr>\n",
       "    <tr>\n",
       "      <th>173</th>\n",
       "      <td>République centrafricaine</td>\n",
       "      <td>1879.0</td>\n",
       "    </tr>\n",
       "  </tbody>\n",
       "</table>\n",
       "<p>174 rows × 2 columns</p>\n",
       "</div>"
      ],
      "text/plain": [
       "                          Zone  Disponibilité alimentaire (Kcal/personne/jour)\n",
       "0                     Autriche                                          3770.0\n",
       "1                     Belgique                                          3737.0\n",
       "2                      Turquie                                          3708.0\n",
       "3        États-Unis d'Amérique                                          3682.0\n",
       "4                       Israël                                          3610.0\n",
       "..                         ...                                             ...\n",
       "169                      Haïti                                          2089.0\n",
       "170                Afghanistan                                          2087.0\n",
       "171                 Madagascar                                          2056.0\n",
       "172                     Zambie                                          1924.0\n",
       "173  République centrafricaine                                          1879.0\n",
       "\n",
       "[174 rows x 2 columns]"
      ]
     },
     "execution_count": 123,
     "metadata": {},
     "output_type": "execute_result"
    }
   ],
   "source": [
    "disponibilité_par_zone=disponibilité_par_zone.sort_values(by='Disponibilité alimentaire (Kcal/personne/jour)',ascending=False)\n",
    "disponibilité_par_zone.reset_index()"
   ]
  },
  {
   "cell_type": "code",
   "execution_count": 124,
   "id": "9c7cc269",
   "metadata": {},
   "outputs": [],
   "source": [
    "disponibilité_par_zone=disponibilité_par_zone.reset_index()"
   ]
  },
  {
   "cell_type": "code",
   "execution_count": 125,
   "id": "3eb7be55",
   "metadata": {},
   "outputs": [
    {
     "data": {
      "image/png": "[encoded data removed]",
      "text/plain": [
       "<Figure size 1152x648 with 1 Axes>"
      ]
     },
     "metadata": {
      "needs_background": "light"
     },
     "output_type": "display_data"
    }
   ],
   "source": [
    "Zone = disponibilité_par_zone['Zone'].head(12)\n",
    "Disponibilité= disponibilité_par_zone['Disponibilité alimentaire (Kcal/personne/jour)'].head(12)\n",
    "  \n",
    "# Figure Size\n",
    "fig, ax = plt.subplots(figsize=(16, 9))\n",
    "  \n",
    "# Horizontal Bar Plot\n",
    "ax.barh(Zone, Disponibilité)\n",
    "  \n",
    "# Remove axes splines\n",
    "for s in ['top', 'bottom', 'left', 'right']:\n",
    "    ax.spines[s].set_visible(False)\n",
    "  \n",
    "# Remove x, y Ticks\n",
    "ax.xaxis.set_ticks_position('none')\n",
    "ax.yaxis.set_ticks_position('none')\n",
    "  \n",
    "# Add padding between axes and labels\n",
    "ax.xaxis.set_tick_params(pad=5)\n",
    "ax.yaxis.set_tick_params(pad=10)\n",
    "  \n",
    "# Add x, y gridlines\n",
    "ax.grid(b=True, color='grey',\n",
    "        linestyle='-.', linewidth=0.5,\n",
    "        alpha=0.2)\n",
    "  \n",
    "# Show top values\n",
    "ax.invert_yaxis()\n",
    "  \n",
    "# Add annotation to bars\n",
    "for i in ax.patches:\n",
    "    plt.text(i.get_width()+0.2, i.get_y()+0.5,\n",
    "             str(round((i.get_width()), 2)),\n",
    "             fontsize=10, fontweight='bold',\n",
    "             color='black')\n",
    "  \n",
    "# Add Plot Title\n",
    "ax.set_title(' les pays ayants le plus de disponibilité_alimentaire/habitant',\n",
    "             loc='left', )\n",
    "  \n",
    "\n",
    "plt.show()"
   ]
  },
  {
   "cell_type": "code",
   "execution_count": 126,
   "id": "80372813",
   "metadata": {},
   "outputs": [
    {
     "data": {
      "text/html": [
       "<div>\n",
       "<style scoped>\n",
       "    .dataframe tbody tr th:only-of-type {\n",
       "        vertical-align: middle;\n",
       "    }\n",
       "\n",
       "    .dataframe tbody tr th {\n",
       "        vertical-align: top;\n",
       "    }\n",
       "\n",
       "    .dataframe thead th {\n",
       "        text-align: right;\n",
       "    }\n",
       "</style>\n",
       "<table border=\"1\" class=\"dataframe\">\n",
       "  <thead>\n",
       "    <tr style=\"text-align: right;\">\n",
       "      <th></th>\n",
       "      <th>index</th>\n",
       "      <th>Zone</th>\n",
       "      <th>Disponibilité alimentaire (Kcal/personne/jour)</th>\n",
       "    </tr>\n",
       "  </thead>\n",
       "  <tbody>\n",
       "    <tr>\n",
       "      <th>0</th>\n",
       "      <td>173</td>\n",
       "      <td>République centrafricaine</td>\n",
       "      <td>1879.0</td>\n",
       "    </tr>\n",
       "    <tr>\n",
       "      <th>1</th>\n",
       "      <td>172</td>\n",
       "      <td>Zambie</td>\n",
       "      <td>1924.0</td>\n",
       "    </tr>\n",
       "    <tr>\n",
       "      <th>2</th>\n",
       "      <td>171</td>\n",
       "      <td>Madagascar</td>\n",
       "      <td>2056.0</td>\n",
       "    </tr>\n",
       "    <tr>\n",
       "      <th>3</th>\n",
       "      <td>170</td>\n",
       "      <td>Afghanistan</td>\n",
       "      <td>2087.0</td>\n",
       "    </tr>\n",
       "    <tr>\n",
       "      <th>4</th>\n",
       "      <td>169</td>\n",
       "      <td>Haïti</td>\n",
       "      <td>2089.0</td>\n",
       "    </tr>\n",
       "    <tr>\n",
       "      <th>...</th>\n",
       "      <td>...</td>\n",
       "      <td>...</td>\n",
       "      <td>...</td>\n",
       "    </tr>\n",
       "    <tr>\n",
       "      <th>169</th>\n",
       "      <td>4</td>\n",
       "      <td>Israël</td>\n",
       "      <td>3610.0</td>\n",
       "    </tr>\n",
       "    <tr>\n",
       "      <th>170</th>\n",
       "      <td>3</td>\n",
       "      <td>États-Unis d'Amérique</td>\n",
       "      <td>3682.0</td>\n",
       "    </tr>\n",
       "    <tr>\n",
       "      <th>171</th>\n",
       "      <td>2</td>\n",
       "      <td>Turquie</td>\n",
       "      <td>3708.0</td>\n",
       "    </tr>\n",
       "    <tr>\n",
       "      <th>172</th>\n",
       "      <td>1</td>\n",
       "      <td>Belgique</td>\n",
       "      <td>3737.0</td>\n",
       "    </tr>\n",
       "    <tr>\n",
       "      <th>173</th>\n",
       "      <td>0</td>\n",
       "      <td>Autriche</td>\n",
       "      <td>3770.0</td>\n",
       "    </tr>\n",
       "  </tbody>\n",
       "</table>\n",
       "<p>174 rows × 3 columns</p>\n",
       "</div>"
      ],
      "text/plain": [
       "     index                       Zone  \\\n",
       "0      173  République centrafricaine   \n",
       "1      172                     Zambie   \n",
       "2      171                 Madagascar   \n",
       "3      170                Afghanistan   \n",
       "4      169                      Haïti   \n",
       "..     ...                        ...   \n",
       "169      4                     Israël   \n",
       "170      3      États-Unis d'Amérique   \n",
       "171      2                    Turquie   \n",
       "172      1                   Belgique   \n",
       "173      0                   Autriche   \n",
       "\n",
       "     Disponibilité alimentaire (Kcal/personne/jour)  \n",
       "0                                            1879.0  \n",
       "1                                            1924.0  \n",
       "2                                            2056.0  \n",
       "3                                            2087.0  \n",
       "4                                            2089.0  \n",
       "..                                              ...  \n",
       "169                                          3610.0  \n",
       "170                                          3682.0  \n",
       "171                                          3708.0  \n",
       "172                                          3737.0  \n",
       "173                                          3770.0  \n",
       "\n",
       "[174 rows x 3 columns]"
      ]
     },
     "execution_count": 126,
     "metadata": {},
     "output_type": "execute_result"
    }
   ],
   "source": [
    "disponibilité_par_zone=disponibilité_par_zone.sort_values(by='Disponibilité alimentaire (Kcal/personne/jour)',ascending=True)\n",
    "disponibilité_par_zone.reset_index()"
   ]
  },
  {
   "cell_type": "code",
   "execution_count": 127,
   "id": "261b1543",
   "metadata": {},
   "outputs": [],
   "source": [
    "disponibilité_par_zone=disponibilité_par_zone.reset_index()"
   ]
  },
  {
   "cell_type": "code",
   "execution_count": 128,
   "id": "356e8b6a",
   "metadata": {},
   "outputs": [
    {
     "data": {
      "image/png": "[encoded data removed]",
      "text/plain": [
       "<Figure size 1152x648 with 1 Axes>"
      ]
     },
     "metadata": {
      "needs_background": "light"
     },
     "output_type": "display_data"
    }
   ],
   "source": [
    "Zone = disponibilité_par_zone['Zone'].head(12)\n",
    "Disponibilité= disponibilité_par_zone['Disponibilité alimentaire (Kcal/personne/jour)'].head(12)\n",
    "  \n",
    "# Figure Size\n",
    "fig, ax = plt.subplots(figsize=(16, 9))\n",
    "  \n",
    "# Horizontal Bar Plot\n",
    "ax.barh(Zone, Disponibilité)\n",
    "  \n",
    "# Remove axes splines\n",
    "for s in ['top', 'bottom', 'left', 'right']:\n",
    "    ax.spines[s].set_visible(False)\n",
    "  \n",
    "# Remove x, y Ticks\n",
    "ax.xaxis.set_ticks_position('none')\n",
    "ax.yaxis.set_ticks_position('none')\n",
    "  \n",
    "# Add padding between axes and labels\n",
    "ax.xaxis.set_tick_params(pad=5)\n",
    "ax.yaxis.set_tick_params(pad=10)\n",
    "  \n",
    "# Add x, y gridlines\n",
    "ax.grid(b=True, color='grey',\n",
    "        linestyle='-.', linewidth=0.5,\n",
    "        alpha=0.2)\n",
    "  \n",
    "# Show top values\n",
    "ax.invert_yaxis()\n",
    "  \n",
    "# Add annotation to bars\n",
    "for i in ax.patches:\n",
    "    plt.text(i.get_width()+0.2, i.get_y()+0.5,\n",
    "             str(round((i.get_width()), 2)),\n",
    "             fontsize=10, fontweight='bold',\n",
    "             color='black')\n",
    "  \n",
    "# Add Plot Title\n",
    "ax.set_title(' les pays ayants le moins de disponibilité_alimentaire/habitant',\n",
    "             loc='left', )\n",
    "  \n",
    "\n",
    "plt.show()"
   ]
  },
  {
   "cell_type": "markdown",
   "id": "58aab8ac",
   "metadata": {},
   "source": [
    "# D) Analyse supplémentaires des pays en difficulté"
   ]
  },
  {
   "cell_type": "markdown",
   "id": "7f8283b8",
   "metadata": {},
   "source": [
    "### Proportion des exports par rapport à la production."
   ]
  },
  {
   "cell_type": "code",
   "execution_count": 129,
   "id": "3e20939b",
   "metadata": {},
   "outputs": [],
   "source": [
    "# mise à jour de la dataframe dispo\n",
    "dispo= pd.read_csv('dispo_alimentaire.csv')"
   ]
  },
  {
   "cell_type": "code",
   "execution_count": 130,
   "id": "5b3aafcb",
   "metadata": {
    "scrolled": false
   },
   "outputs": [],
   "source": [
    "# selectionner les colonnes nécessaires pour le calcul après\n",
    "colonnes_selectionnees = dispo[[\"Zone\",\"Produit\",\"Production\",\"Exportations - Quantité\",\"Importations - Quantité\",\"Variation de stock\"]].copy()\n",
    "pd_production_export = colonnes_selectionnees.copy()\n",
    "# supprimer les  NAN \n",
    "pd_production_export=pd_production_export.dropna()"
   ]
  },
  {
   "cell_type": "code",
   "execution_count": 131,
   "id": "0f74cf6b",
   "metadata": {},
   "outputs": [],
   "source": [
    "pd_production_export = pd_production_export.groupby (['Zone']).agg({'Production':'sum','Exportations - Quantité':'sum','Importations - Quantité':'sum','Variation de stock':'sum'}).reset_index()"
   ]
  },
  {
   "cell_type": "code",
   "execution_count": 132,
   "id": "50b78adc",
   "metadata": {},
   "outputs": [],
   "source": [
    "pd_production_export['prop_exp_prod']=round((pd_production_export ['Exportations - Quantité'] / pd_production_export ['Production'])*100,2)"
   ]
  },
  {
   "cell_type": "code",
   "execution_count": 133,
   "id": "2a4dcc10",
   "metadata": {},
   "outputs": [],
   "source": [
    "# utiliser l'équation:production+importation-exportation+variationde stock pour calculer la disponibilité intérieure\n",
    "pd_production_export['disponibilité_intérieure_calculée']=round((pd_production_export ['Production']+ pd_production_export ['Importations - Quantité']-pd_production_export ['Exportations - Quantité']+pd_production_export ['Variation de stock']),2)"
   ]
  },
  {
   "cell_type": "code",
   "execution_count": 134,
   "id": "20ebce99",
   "metadata": {},
   "outputs": [],
   "source": [
    "# utiliser merge pour fusionner les deux datas zone_2017 et pd_production_export\n",
    "Analyse_sous_nutrition= pd.merge(Zone_2017,pd_production_export, on= ['Zone'], how= 'inner')"
   ]
  },
  {
   "cell_type": "code",
   "execution_count": 135,
   "id": "02cd3a32",
   "metadata": {},
   "outputs": [
    {
     "data": {
      "text/html": [
       "<div>\n",
       "<style scoped>\n",
       "    .dataframe tbody tr th:only-of-type {\n",
       "        vertical-align: middle;\n",
       "    }\n",
       "\n",
       "    .dataframe tbody tr th {\n",
       "        vertical-align: top;\n",
       "    }\n",
       "\n",
       "    .dataframe thead th {\n",
       "        text-align: right;\n",
       "    }\n",
       "</style>\n",
       "<table border=\"1\" class=\"dataframe\">\n",
       "  <thead>\n",
       "    <tr style=\"text-align: right;\">\n",
       "      <th></th>\n",
       "      <th>Zone</th>\n",
       "      <th>proportion_pers_sous_alimentées_2017</th>\n",
       "      <th>prop_exp_prod</th>\n",
       "      <th>disponibilité_intérieure_calculée</th>\n",
       "    </tr>\n",
       "  </thead>\n",
       "  <tbody>\n",
       "    <tr>\n",
       "      <th>0</th>\n",
       "      <td>Dominique</td>\n",
       "      <td>69.971172</td>\n",
       "      <td>4.00</td>\n",
       "      <td>31.0</td>\n",
       "    </tr>\n",
       "    <tr>\n",
       "      <th>1</th>\n",
       "      <td>Haïti</td>\n",
       "      <td>48.259182</td>\n",
       "      <td>1.84</td>\n",
       "      <td>1279.0</td>\n",
       "    </tr>\n",
       "    <tr>\n",
       "      <th>2</th>\n",
       "      <td>République populaire démocratique de Corée</td>\n",
       "      <td>47.188685</td>\n",
       "      <td>0.00</td>\n",
       "      <td>4270.0</td>\n",
       "    </tr>\n",
       "    <tr>\n",
       "      <th>3</th>\n",
       "      <td>Saint-Vincent-et-les Grenadines</td>\n",
       "      <td>45.526146</td>\n",
       "      <td>18.97</td>\n",
       "      <td>88.0</td>\n",
       "    </tr>\n",
       "    <tr>\n",
       "      <th>4</th>\n",
       "      <td>Kiribati</td>\n",
       "      <td>43.798945</td>\n",
       "      <td>1.18</td>\n",
       "      <td>158.0</td>\n",
       "    </tr>\n",
       "    <tr>\n",
       "      <th>5</th>\n",
       "      <td>Madagascar</td>\n",
       "      <td>41.062924</td>\n",
       "      <td>2.80</td>\n",
       "      <td>8466.0</td>\n",
       "    </tr>\n",
       "    <tr>\n",
       "      <th>6</th>\n",
       "      <td>Libéria</td>\n",
       "      <td>38.279742</td>\n",
       "      <td>6.22</td>\n",
       "      <td>551.0</td>\n",
       "    </tr>\n",
       "    <tr>\n",
       "      <th>7</th>\n",
       "      <td>Lesotho</td>\n",
       "      <td>38.249438</td>\n",
       "      <td>20.65</td>\n",
       "      <td>587.0</td>\n",
       "    </tr>\n",
       "    <tr>\n",
       "      <th>8</th>\n",
       "      <td>Tchad</td>\n",
       "      <td>37.957606</td>\n",
       "      <td>0.00</td>\n",
       "      <td>2035.0</td>\n",
       "    </tr>\n",
       "    <tr>\n",
       "      <th>9</th>\n",
       "      <td>Rwanda</td>\n",
       "      <td>35.055619</td>\n",
       "      <td>1.58</td>\n",
       "      <td>9450.0</td>\n",
       "    </tr>\n",
       "  </tbody>\n",
       "</table>\n",
       "</div>"
      ],
      "text/plain": [
       "                                         Zone  \\\n",
       "0                                   Dominique   \n",
       "1                                       Haïti   \n",
       "2  République populaire démocratique de Corée   \n",
       "3             Saint-Vincent-et-les Grenadines   \n",
       "4                                    Kiribati   \n",
       "5                                  Madagascar   \n",
       "6                                     Libéria   \n",
       "7                                     Lesotho   \n",
       "8                                       Tchad   \n",
       "9                                      Rwanda   \n",
       "\n",
       "   proportion_pers_sous_alimentées_2017  prop_exp_prod  \\\n",
       "0                             69.971172           4.00   \n",
       "1                             48.259182           1.84   \n",
       "2                             47.188685           0.00   \n",
       "3                             45.526146          18.97   \n",
       "4                             43.798945           1.18   \n",
       "5                             41.062924           2.80   \n",
       "6                             38.279742           6.22   \n",
       "7                             38.249438          20.65   \n",
       "8                             37.957606           0.00   \n",
       "9                             35.055619           1.58   \n",
       "\n",
       "   disponibilité_intérieure_calculée  \n",
       "0                               31.0  \n",
       "1                             1279.0  \n",
       "2                             4270.0  \n",
       "3                               88.0  \n",
       "4                              158.0  \n",
       "5                             8466.0  \n",
       "6                              551.0  \n",
       "7                              587.0  \n",
       "8                             2035.0  \n",
       "9                             9450.0  "
      ]
     },
     "execution_count": 135,
     "metadata": {},
     "output_type": "execute_result"
    }
   ],
   "source": [
    "# séléctionner les colonnes nécéssaires pour l'analyse \n",
    "colonnes_selectionnees_analyse = Analyse_sous_nutrition[[\"Zone\",\"proportion_pers_sous_alimentées_2017\",\"prop_exp_prod\",\"disponibilité_intérieure_calculée\"]].copy()\n",
    "colonnes_selectionnees_analyse\n",
    "# sort values pour un ordre décroissant des 10 pays qui ont le plus de personnes sous alimentées\n",
    "colonnes_selectionnees_analyse=colonnes_selectionnees_analyse.sort_values(by='proportion_pers_sous_alimentées_2017', ascending=False)\n",
    "colonnes_selectionnees_analyse.head(10)"
   ]
  },
  {
   "cell_type": "markdown",
   "id": "cab62581",
   "metadata": {},
   "source": [
    "### Proportion des pertes par rapport à la disponibilité intérieure"
   ]
  },
  {
   "cell_type": "code",
   "execution_count": 136,
   "id": "176051f8",
   "metadata": {},
   "outputs": [],
   "source": [
    "# selectionner les colonnes nécessaires pour le calcul après\n",
    "colonnes_selectionnees2 = dispo[[\"Zone\",\"Produit\",\"Pertes\",\"Disponibilité intérieure\"]].copy()\n",
    "pd_Pertes_Disponibilité_intérieure = colonnes_selectionnees2.copy()\n",
    "# supprimer les NAN \n",
    "pd_Pertes_Disponibilité_intérieure=pd_Pertes_Disponibilité_intérieure.dropna()"
   ]
  },
  {
   "cell_type": "code",
   "execution_count": 137,
   "id": "2488cc49",
   "metadata": {},
   "outputs": [],
   "source": [
    "# utiliser groupby .agg : sum pour calculer la somme dans les colonnes nécéssaires pour calculer la proportion après\n",
    "pd_Pertes_Disponibilité_intérieure = pd_Pertes_Disponibilité_intérieure.groupby (['Zone']).agg({'Pertes':'sum','Disponibilité intérieure':'sum'}).reset_index()"
   ]
  },
  {
   "cell_type": "code",
   "execution_count": 138,
   "id": "d1ef89f4",
   "metadata": {
    "scrolled": true
   },
   "outputs": [
    {
     "data": {
      "text/html": [
       "<div>\n",
       "<style scoped>\n",
       "    .dataframe tbody tr th:only-of-type {\n",
       "        vertical-align: middle;\n",
       "    }\n",
       "\n",
       "    .dataframe tbody tr th {\n",
       "        vertical-align: top;\n",
       "    }\n",
       "\n",
       "    .dataframe thead th {\n",
       "        text-align: right;\n",
       "    }\n",
       "</style>\n",
       "<table border=\"1\" class=\"dataframe\">\n",
       "  <thead>\n",
       "    <tr style=\"text-align: right;\">\n",
       "      <th></th>\n",
       "      <th>Zone</th>\n",
       "      <th>Pertes</th>\n",
       "      <th>Disponibilité intérieure</th>\n",
       "      <th>prop_perte_dispo</th>\n",
       "    </tr>\n",
       "  </thead>\n",
       "  <tbody>\n",
       "    <tr>\n",
       "      <th>141</th>\n",
       "      <td>Sierra Leone</td>\n",
       "      <td>2191.0</td>\n",
       "      <td>5831.0</td>\n",
       "      <td>37.58</td>\n",
       "    </tr>\n",
       "    <tr>\n",
       "      <th>57</th>\n",
       "      <td>Ghana</td>\n",
       "      <td>7442.0</td>\n",
       "      <td>35757.0</td>\n",
       "      <td>20.81</td>\n",
       "    </tr>\n",
       "    <tr>\n",
       "      <th>46</th>\n",
       "      <td>Dominique</td>\n",
       "      <td>20.0</td>\n",
       "      <td>112.0</td>\n",
       "      <td>17.86</td>\n",
       "    </tr>\n",
       "    <tr>\n",
       "      <th>55</th>\n",
       "      <td>Gabon</td>\n",
       "      <td>223.0</td>\n",
       "      <td>1306.0</td>\n",
       "      <td>17.08</td>\n",
       "    </tr>\n",
       "    <tr>\n",
       "      <th>5</th>\n",
       "      <td>Angola</td>\n",
       "      <td>4799.0</td>\n",
       "      <td>28394.0</td>\n",
       "      <td>16.90</td>\n",
       "    </tr>\n",
       "    <tr>\n",
       "      <th>...</th>\n",
       "      <td>...</td>\n",
       "      <td>...</td>\n",
       "      <td>...</td>\n",
       "      <td>...</td>\n",
       "    </tr>\n",
       "    <tr>\n",
       "      <th>82</th>\n",
       "      <td>Kiribati</td>\n",
       "      <td>0.0</td>\n",
       "      <td>24.0</td>\n",
       "      <td>0.00</td>\n",
       "    </tr>\n",
       "    <tr>\n",
       "      <th>18</th>\n",
       "      <td>Bermudes</td>\n",
       "      <td>0.0</td>\n",
       "      <td>5.0</td>\n",
       "      <td>0.00</td>\n",
       "    </tr>\n",
       "    <tr>\n",
       "      <th>73</th>\n",
       "      <td>Islande</td>\n",
       "      <td>0.0</td>\n",
       "      <td>62.0</td>\n",
       "      <td>0.00</td>\n",
       "    </tr>\n",
       "    <tr>\n",
       "      <th>135</th>\n",
       "      <td>Saint-Kitts-et-Nevis</td>\n",
       "      <td>0.0</td>\n",
       "      <td>12.0</td>\n",
       "      <td>0.00</td>\n",
       "    </tr>\n",
       "    <tr>\n",
       "      <th>94</th>\n",
       "      <td>Maldives</td>\n",
       "      <td>0.0</td>\n",
       "      <td>102.0</td>\n",
       "      <td>0.00</td>\n",
       "    </tr>\n",
       "  </tbody>\n",
       "</table>\n",
       "<p>174 rows × 4 columns</p>\n",
       "</div>"
      ],
      "text/plain": [
       "                     Zone  Pertes  Disponibilité intérieure  prop_perte_dispo\n",
       "141          Sierra Leone  2191.0                    5831.0             37.58\n",
       "57                  Ghana  7442.0                   35757.0             20.81\n",
       "46              Dominique    20.0                     112.0             17.86\n",
       "55                  Gabon   223.0                    1306.0             17.08\n",
       "5                  Angola  4799.0                   28394.0             16.90\n",
       "..                    ...     ...                       ...               ...\n",
       "82               Kiribati     0.0                      24.0              0.00\n",
       "18               Bermudes     0.0                       5.0              0.00\n",
       "73                Islande     0.0                      62.0              0.00\n",
       "135  Saint-Kitts-et-Nevis     0.0                      12.0              0.00\n",
       "94               Maldives     0.0                     102.0              0.00\n",
       "\n",
       "[174 rows x 4 columns]"
      ]
     },
     "execution_count": 138,
     "metadata": {},
     "output_type": "execute_result"
    }
   ],
   "source": [
    "# Calculer la proportion entre la perte et la disponibilité intérieure dans la colonne ajoutée\n",
    "pd_Pertes_Disponibilité_intérieure['prop_perte_dispo']=round((pd_Pertes_Disponibilité_intérieure ['Pertes'] / pd_Pertes_Disponibilité_intérieure ['Disponibilité intérieure'])*100,2)\n",
    "pd_Pertes_Disponibilité_intérieure\n",
    "# utiliser sort values pour un ordre décroissant des pays qui ont le plus de perte par rapport à la disponibilité intérieure\n",
    "pd_Pertes_Disponibilité_intérieure=pd_Pertes_Disponibilité_intérieure.sort_values(by='prop_perte_dispo', ascending=False)\n",
    "pd_Pertes_Disponibilité_intérieure"
   ]
  },
  {
   "cell_type": "code",
   "execution_count": 139,
   "id": "e4e9c4db",
   "metadata": {},
   "outputs": [
    {
     "data": {
      "text/html": [
       "<div>\n",
       "<style scoped>\n",
       "    .dataframe tbody tr th:only-of-type {\n",
       "        vertical-align: middle;\n",
       "    }\n",
       "\n",
       "    .dataframe tbody tr th {\n",
       "        vertical-align: top;\n",
       "    }\n",
       "\n",
       "    .dataframe thead th {\n",
       "        text-align: right;\n",
       "    }\n",
       "</style>\n",
       "<table border=\"1\" class=\"dataframe\">\n",
       "  <thead>\n",
       "    <tr style=\"text-align: right;\">\n",
       "      <th></th>\n",
       "      <th>Zone</th>\n",
       "      <th>Nombre_en_million_en_sous_nutrition</th>\n",
       "      <th>Population</th>\n",
       "      <th>proportion_pers_sous_alimentées_2017</th>\n",
       "      <th>Pertes</th>\n",
       "      <th>Disponibilité intérieure</th>\n",
       "      <th>prop_perte_dispo</th>\n",
       "    </tr>\n",
       "  </thead>\n",
       "  <tbody>\n",
       "    <tr>\n",
       "      <th>0</th>\n",
       "      <td>Dominique</td>\n",
       "      <td>0.05</td>\n",
       "      <td>0.071458</td>\n",
       "      <td>69.971172</td>\n",
       "      <td>20.0</td>\n",
       "      <td>112.0</td>\n",
       "      <td>17.86</td>\n",
       "    </tr>\n",
       "    <tr>\n",
       "      <th>1</th>\n",
       "      <td>Haïti</td>\n",
       "      <td>5.30</td>\n",
       "      <td>10.982366</td>\n",
       "      <td>48.259182</td>\n",
       "      <td>679.0</td>\n",
       "      <td>5442.0</td>\n",
       "      <td>12.48</td>\n",
       "    </tr>\n",
       "    <tr>\n",
       "      <th>2</th>\n",
       "      <td>République populaire démocratique de Corée</td>\n",
       "      <td>12.00</td>\n",
       "      <td>25.429825</td>\n",
       "      <td>47.188685</td>\n",
       "      <td>1066.0</td>\n",
       "      <td>13344.0</td>\n",
       "      <td>7.99</td>\n",
       "    </tr>\n",
       "    <tr>\n",
       "      <th>3</th>\n",
       "      <td>Saint-Vincent-et-les Grenadines</td>\n",
       "      <td>0.05</td>\n",
       "      <td>0.109827</td>\n",
       "      <td>45.526146</td>\n",
       "      <td>5.0</td>\n",
       "      <td>82.0</td>\n",
       "      <td>6.10</td>\n",
       "    </tr>\n",
       "    <tr>\n",
       "      <th>4</th>\n",
       "      <td>Kiribati</td>\n",
       "      <td>0.05</td>\n",
       "      <td>0.114158</td>\n",
       "      <td>43.798945</td>\n",
       "      <td>0.0</td>\n",
       "      <td>24.0</td>\n",
       "      <td>0.00</td>\n",
       "    </tr>\n",
       "    <tr>\n",
       "      <th>...</th>\n",
       "      <td>...</td>\n",
       "      <td>...</td>\n",
       "      <td>...</td>\n",
       "      <td>...</td>\n",
       "      <td>...</td>\n",
       "      <td>...</td>\n",
       "      <td>...</td>\n",
       "    </tr>\n",
       "    <tr>\n",
       "      <th>167</th>\n",
       "      <td>Hongrie</td>\n",
       "      <td>0.00</td>\n",
       "      <td>9.729823</td>\n",
       "      <td>0.000000</td>\n",
       "      <td>411.0</td>\n",
       "      <td>13246.0</td>\n",
       "      <td>3.10</td>\n",
       "    </tr>\n",
       "    <tr>\n",
       "      <th>168</th>\n",
       "      <td>Guinée-Bissau</td>\n",
       "      <td>0.00</td>\n",
       "      <td>1.828145</td>\n",
       "      <td>0.000000</td>\n",
       "      <td>66.0</td>\n",
       "      <td>535.0</td>\n",
       "      <td>12.34</td>\n",
       "    </tr>\n",
       "    <tr>\n",
       "      <th>169</th>\n",
       "      <td>Guinée</td>\n",
       "      <td>0.00</td>\n",
       "      <td>12.067519</td>\n",
       "      <td>0.000000</td>\n",
       "      <td>1074.0</td>\n",
       "      <td>7545.0</td>\n",
       "      <td>14.23</td>\n",
       "    </tr>\n",
       "    <tr>\n",
       "      <th>170</th>\n",
       "      <td>Grenade</td>\n",
       "      <td>0.00</td>\n",
       "      <td>0.110874</td>\n",
       "      <td>0.000000</td>\n",
       "      <td>3.0</td>\n",
       "      <td>76.0</td>\n",
       "      <td>3.95</td>\n",
       "    </tr>\n",
       "    <tr>\n",
       "      <th>171</th>\n",
       "      <td>Zimbabwe</td>\n",
       "      <td>0.00</td>\n",
       "      <td>14.236595</td>\n",
       "      <td>0.000000</td>\n",
       "      <td>188.0</td>\n",
       "      <td>3869.0</td>\n",
       "      <td>4.86</td>\n",
       "    </tr>\n",
       "  </tbody>\n",
       "</table>\n",
       "<p>172 rows × 7 columns</p>\n",
       "</div>"
      ],
      "text/plain": [
       "                                           Zone  \\\n",
       "0                                     Dominique   \n",
       "1                                         Haïti   \n",
       "2    République populaire démocratique de Corée   \n",
       "3               Saint-Vincent-et-les Grenadines   \n",
       "4                                      Kiribati   \n",
       "..                                          ...   \n",
       "167                                     Hongrie   \n",
       "168                               Guinée-Bissau   \n",
       "169                                      Guinée   \n",
       "170                                     Grenade   \n",
       "171                                    Zimbabwe   \n",
       "\n",
       "     Nombre_en_million_en_sous_nutrition  Population  \\\n",
       "0                                   0.05    0.071458   \n",
       "1                                   5.30   10.982366   \n",
       "2                                  12.00   25.429825   \n",
       "3                                   0.05    0.109827   \n",
       "4                                   0.05    0.114158   \n",
       "..                                   ...         ...   \n",
       "167                                 0.00    9.729823   \n",
       "168                                 0.00    1.828145   \n",
       "169                                 0.00   12.067519   \n",
       "170                                 0.00    0.110874   \n",
       "171                                 0.00   14.236595   \n",
       "\n",
       "     proportion_pers_sous_alimentées_2017  Pertes  Disponibilité intérieure  \\\n",
       "0                               69.971172    20.0                     112.0   \n",
       "1                               48.259182   679.0                    5442.0   \n",
       "2                               47.188685  1066.0                   13344.0   \n",
       "3                               45.526146     5.0                      82.0   \n",
       "4                               43.798945     0.0                      24.0   \n",
       "..                                    ...     ...                       ...   \n",
       "167                              0.000000   411.0                   13246.0   \n",
       "168                              0.000000    66.0                     535.0   \n",
       "169                              0.000000  1074.0                    7545.0   \n",
       "170                              0.000000     3.0                      76.0   \n",
       "171                              0.000000   188.0                    3869.0   \n",
       "\n",
       "     prop_perte_dispo  \n",
       "0               17.86  \n",
       "1               12.48  \n",
       "2                7.99  \n",
       "3                6.10  \n",
       "4                0.00  \n",
       "..                ...  \n",
       "167              3.10  \n",
       "168             12.34  \n",
       "169             14.23  \n",
       "170              3.95  \n",
       "171              4.86  \n",
       "\n",
       "[172 rows x 7 columns]"
      ]
     },
     "execution_count": 139,
     "metadata": {},
     "output_type": "execute_result"
    }
   ],
   "source": [
    "# utiliser merge pour fusionner les deux datas zone_2017 et pd_Pertes_Disponibilité_intérieure\n",
    "Analyse_perte_sous_nurition= pd.merge(Zone_2017,pd_Pertes_Disponibilité_intérieure, on= ['Zone'], how= 'inner')\n",
    "Analyse_perte_sous_nurition"
   ]
  },
  {
   "cell_type": "markdown",
   "id": "cf04ab24",
   "metadata": {},
   "source": [
    "### Proportion d'autre utilisation par rapport à la dispo intérieure"
   ]
  },
  {
   "cell_type": "code",
   "execution_count": 140,
   "id": "8933cf51",
   "metadata": {},
   "outputs": [],
   "source": [
    "# selectionner les colonnes nécessaires pour le calcul après\n",
    "colonnes_selectionnees3 = dispo[[\"Zone\",\"Produit\",\"Autres Utilisations\",\"Disponibilité intérieure\"]].copy()\n",
    "pd_autre_dispo_Disponibilité_intérieure = colonnes_selectionnees3.copy()\n",
    "# supprimer les NAN \n",
    "pd_autre_dispo_Disponibilité_intérieure=pd_autre_dispo_Disponibilité_intérieure.dropna()"
   ]
  },
  {
   "cell_type": "code",
   "execution_count": 141,
   "id": "4515ed63",
   "metadata": {},
   "outputs": [],
   "source": [
    "# utiliser groupby .agg : sum pour calculer la somme dans les colonnes nécéssaires pour calculer la proportion après\n",
    "pd_autre_dispo_Disponibilité_intérieure =pd_autre_dispo_Disponibilité_intérieure.groupby (['Zone']).agg({'Autres Utilisations':'sum','Disponibilité intérieure':'sum'}).reset_index()"
   ]
  },
  {
   "cell_type": "code",
   "execution_count": 142,
   "id": "98416344",
   "metadata": {},
   "outputs": [
    {
     "data": {
      "text/html": [
       "<div>\n",
       "<style scoped>\n",
       "    .dataframe tbody tr th:only-of-type {\n",
       "        vertical-align: middle;\n",
       "    }\n",
       "\n",
       "    .dataframe tbody tr th {\n",
       "        vertical-align: top;\n",
       "    }\n",
       "\n",
       "    .dataframe thead th {\n",
       "        text-align: right;\n",
       "    }\n",
       "</style>\n",
       "<table border=\"1\" class=\"dataframe\">\n",
       "  <thead>\n",
       "    <tr style=\"text-align: right;\">\n",
       "      <th></th>\n",
       "      <th>Zone</th>\n",
       "      <th>Autres Utilisations</th>\n",
       "      <th>Disponibilité intérieure</th>\n",
       "      <th>prop_autre_dispo</th>\n",
       "    </tr>\n",
       "  </thead>\n",
       "  <tbody>\n",
       "    <tr>\n",
       "      <th>0</th>\n",
       "      <td>Afghanistan</td>\n",
       "      <td>415.0</td>\n",
       "      <td>487.0</td>\n",
       "      <td>85.22</td>\n",
       "    </tr>\n",
       "    <tr>\n",
       "      <th>162</th>\n",
       "      <td>Vanuatu</td>\n",
       "      <td>400.0</td>\n",
       "      <td>612.0</td>\n",
       "      <td>65.36</td>\n",
       "    </tr>\n",
       "    <tr>\n",
       "      <th>82</th>\n",
       "      <td>Kiribati</td>\n",
       "      <td>143.0</td>\n",
       "      <td>237.0</td>\n",
       "      <td>60.34</td>\n",
       "    </tr>\n",
       "    <tr>\n",
       "      <th>158</th>\n",
       "      <td>Turkménistan</td>\n",
       "      <td>211.0</td>\n",
       "      <td>353.0</td>\n",
       "      <td>59.77</td>\n",
       "    </tr>\n",
       "    <tr>\n",
       "      <th>29</th>\n",
       "      <td>Cambodge</td>\n",
       "      <td>9428.0</td>\n",
       "      <td>16009.0</td>\n",
       "      <td>58.89</td>\n",
       "    </tr>\n",
       "    <tr>\n",
       "      <th>...</th>\n",
       "      <td>...</td>\n",
       "      <td>...</td>\n",
       "      <td>...</td>\n",
       "      <td>...</td>\n",
       "    </tr>\n",
       "    <tr>\n",
       "      <th>99</th>\n",
       "      <td>Mauritanie</td>\n",
       "      <td>17.0</td>\n",
       "      <td>1627.0</td>\n",
       "      <td>1.04</td>\n",
       "    </tr>\n",
       "    <tr>\n",
       "      <th>154</th>\n",
       "      <td>Timor-Leste</td>\n",
       "      <td>2.0</td>\n",
       "      <td>196.0</td>\n",
       "      <td>1.02</td>\n",
       "    </tr>\n",
       "    <tr>\n",
       "      <th>114</th>\n",
       "      <td>Ouganda</td>\n",
       "      <td>68.0</td>\n",
       "      <td>9274.0</td>\n",
       "      <td>0.73</td>\n",
       "    </tr>\n",
       "    <tr>\n",
       "      <th>127</th>\n",
       "      <td>Rwanda</td>\n",
       "      <td>19.0</td>\n",
       "      <td>3892.0</td>\n",
       "      <td>0.49</td>\n",
       "    </tr>\n",
       "    <tr>\n",
       "      <th>84</th>\n",
       "      <td>Lesotho</td>\n",
       "      <td>0.0</td>\n",
       "      <td>2.0</td>\n",
       "      <td>0.00</td>\n",
       "    </tr>\n",
       "  </tbody>\n",
       "</table>\n",
       "<p>174 rows × 4 columns</p>\n",
       "</div>"
      ],
      "text/plain": [
       "             Zone  Autres Utilisations  Disponibilité intérieure  \\\n",
       "0     Afghanistan                415.0                     487.0   \n",
       "162       Vanuatu                400.0                     612.0   \n",
       "82       Kiribati                143.0                     237.0   \n",
       "158  Turkménistan                211.0                     353.0   \n",
       "29       Cambodge               9428.0                   16009.0   \n",
       "..            ...                  ...                       ...   \n",
       "99     Mauritanie                 17.0                    1627.0   \n",
       "154   Timor-Leste                  2.0                     196.0   \n",
       "114       Ouganda                 68.0                    9274.0   \n",
       "127        Rwanda                 19.0                    3892.0   \n",
       "84        Lesotho                  0.0                       2.0   \n",
       "\n",
       "     prop_autre_dispo  \n",
       "0               85.22  \n",
       "162             65.36  \n",
       "82              60.34  \n",
       "158             59.77  \n",
       "29              58.89  \n",
       "..                ...  \n",
       "99               1.04  \n",
       "154              1.02  \n",
       "114              0.73  \n",
       "127              0.49  \n",
       "84               0.00  \n",
       "\n",
       "[174 rows x 4 columns]"
      ]
     },
     "execution_count": 142,
     "metadata": {},
     "output_type": "execute_result"
    }
   ],
   "source": [
    "# Calculer la proportion entre les autres utilisations et la disponibilité intérieure dans la colonne ajoutée\n",
    "pd_autre_dispo_Disponibilité_intérieure['prop_autre_dispo']=round((pd_autre_dispo_Disponibilité_intérieure['Autres Utilisations'] / pd_autre_dispo_Disponibilité_intérieure ['Disponibilité intérieure'])*100,2)\n",
    "pd_autre_dispo_Disponibilité_intérieure\n",
    "pd_autre_dispo_Disponibilité_intérieure=pd_autre_dispo_Disponibilité_intérieure.sort_values(by='prop_autre_dispo', ascending=False)\n",
    "pd_autre_dispo_Disponibilité_intérieure"
   ]
  },
  {
   "cell_type": "code",
   "execution_count": 143,
   "id": "a19e2001",
   "metadata": {},
   "outputs": [
    {
     "data": {
      "text/html": [
       "<div>\n",
       "<style scoped>\n",
       "    .dataframe tbody tr th:only-of-type {\n",
       "        vertical-align: middle;\n",
       "    }\n",
       "\n",
       "    .dataframe tbody tr th {\n",
       "        vertical-align: top;\n",
       "    }\n",
       "\n",
       "    .dataframe thead th {\n",
       "        text-align: right;\n",
       "    }\n",
       "</style>\n",
       "<table border=\"1\" class=\"dataframe\">\n",
       "  <thead>\n",
       "    <tr style=\"text-align: right;\">\n",
       "      <th></th>\n",
       "      <th>Zone</th>\n",
       "      <th>Nombre_en_million_en_sous_nutrition</th>\n",
       "      <th>Population</th>\n",
       "      <th>proportion_pers_sous_alimentées_2017</th>\n",
       "      <th>Autres Utilisations</th>\n",
       "      <th>Disponibilité intérieure</th>\n",
       "      <th>prop_autre_dispo</th>\n",
       "    </tr>\n",
       "  </thead>\n",
       "  <tbody>\n",
       "    <tr>\n",
       "      <th>0</th>\n",
       "      <td>Dominique</td>\n",
       "      <td>0.05</td>\n",
       "      <td>0.071458</td>\n",
       "      <td>69.971172</td>\n",
       "      <td>24.0</td>\n",
       "      <td>135.0</td>\n",
       "      <td>17.78</td>\n",
       "    </tr>\n",
       "    <tr>\n",
       "      <th>1</th>\n",
       "      <td>Haïti</td>\n",
       "      <td>5.30</td>\n",
       "      <td>10.982366</td>\n",
       "      <td>48.259182</td>\n",
       "      <td>115.0</td>\n",
       "      <td>559.0</td>\n",
       "      <td>20.57</td>\n",
       "    </tr>\n",
       "    <tr>\n",
       "      <th>2</th>\n",
       "      <td>République populaire démocratique de Corée</td>\n",
       "      <td>12.00</td>\n",
       "      <td>25.429825</td>\n",
       "      <td>47.188685</td>\n",
       "      <td>695.0</td>\n",
       "      <td>2803.0</td>\n",
       "      <td>24.79</td>\n",
       "    </tr>\n",
       "    <tr>\n",
       "      <th>3</th>\n",
       "      <td>Saint-Vincent-et-les Grenadines</td>\n",
       "      <td>0.05</td>\n",
       "      <td>0.109827</td>\n",
       "      <td>45.526146</td>\n",
       "      <td>49.0</td>\n",
       "      <td>100.0</td>\n",
       "      <td>49.00</td>\n",
       "    </tr>\n",
       "    <tr>\n",
       "      <th>4</th>\n",
       "      <td>Kiribati</td>\n",
       "      <td>0.05</td>\n",
       "      <td>0.114158</td>\n",
       "      <td>43.798945</td>\n",
       "      <td>143.0</td>\n",
       "      <td>237.0</td>\n",
       "      <td>60.34</td>\n",
       "    </tr>\n",
       "    <tr>\n",
       "      <th>...</th>\n",
       "      <td>...</td>\n",
       "      <td>...</td>\n",
       "      <td>...</td>\n",
       "      <td>...</td>\n",
       "      <td>...</td>\n",
       "      <td>...</td>\n",
       "      <td>...</td>\n",
       "    </tr>\n",
       "    <tr>\n",
       "      <th>167</th>\n",
       "      <td>Hongrie</td>\n",
       "      <td>0.00</td>\n",
       "      <td>9.729823</td>\n",
       "      <td>0.000000</td>\n",
       "      <td>203.0</td>\n",
       "      <td>11923.0</td>\n",
       "      <td>1.70</td>\n",
       "    </tr>\n",
       "    <tr>\n",
       "      <th>168</th>\n",
       "      <td>Guinée-Bissau</td>\n",
       "      <td>0.00</td>\n",
       "      <td>1.828145</td>\n",
       "      <td>0.000000</td>\n",
       "      <td>14.0</td>\n",
       "      <td>26.0</td>\n",
       "      <td>53.85</td>\n",
       "    </tr>\n",
       "    <tr>\n",
       "      <th>169</th>\n",
       "      <td>Guinée</td>\n",
       "      <td>0.00</td>\n",
       "      <td>12.067519</td>\n",
       "      <td>0.000000</td>\n",
       "      <td>371.0</td>\n",
       "      <td>2084.0</td>\n",
       "      <td>17.80</td>\n",
       "    </tr>\n",
       "    <tr>\n",
       "      <th>170</th>\n",
       "      <td>Grenade</td>\n",
       "      <td>0.00</td>\n",
       "      <td>0.110874</td>\n",
       "      <td>0.000000</td>\n",
       "      <td>10.0</td>\n",
       "      <td>86.0</td>\n",
       "      <td>11.63</td>\n",
       "    </tr>\n",
       "    <tr>\n",
       "      <th>171</th>\n",
       "      <td>Zimbabwe</td>\n",
       "      <td>0.00</td>\n",
       "      <td>14.236595</td>\n",
       "      <td>0.000000</td>\n",
       "      <td>23.0</td>\n",
       "      <td>1123.0</td>\n",
       "      <td>2.05</td>\n",
       "    </tr>\n",
       "  </tbody>\n",
       "</table>\n",
       "<p>172 rows × 7 columns</p>\n",
       "</div>"
      ],
      "text/plain": [
       "                                           Zone  \\\n",
       "0                                     Dominique   \n",
       "1                                         Haïti   \n",
       "2    République populaire démocratique de Corée   \n",
       "3               Saint-Vincent-et-les Grenadines   \n",
       "4                                      Kiribati   \n",
       "..                                          ...   \n",
       "167                                     Hongrie   \n",
       "168                               Guinée-Bissau   \n",
       "169                                      Guinée   \n",
       "170                                     Grenade   \n",
       "171                                    Zimbabwe   \n",
       "\n",
       "     Nombre_en_million_en_sous_nutrition  Population  \\\n",
       "0                                   0.05    0.071458   \n",
       "1                                   5.30   10.982366   \n",
       "2                                  12.00   25.429825   \n",
       "3                                   0.05    0.109827   \n",
       "4                                   0.05    0.114158   \n",
       "..                                   ...         ...   \n",
       "167                                 0.00    9.729823   \n",
       "168                                 0.00    1.828145   \n",
       "169                                 0.00   12.067519   \n",
       "170                                 0.00    0.110874   \n",
       "171                                 0.00   14.236595   \n",
       "\n",
       "     proportion_pers_sous_alimentées_2017  Autres Utilisations  \\\n",
       "0                               69.971172                 24.0   \n",
       "1                               48.259182                115.0   \n",
       "2                               47.188685                695.0   \n",
       "3                               45.526146                 49.0   \n",
       "4                               43.798945                143.0   \n",
       "..                                    ...                  ...   \n",
       "167                              0.000000                203.0   \n",
       "168                              0.000000                 14.0   \n",
       "169                              0.000000                371.0   \n",
       "170                              0.000000                 10.0   \n",
       "171                              0.000000                 23.0   \n",
       "\n",
       "     Disponibilité intérieure  prop_autre_dispo  \n",
       "0                       135.0             17.78  \n",
       "1                       559.0             20.57  \n",
       "2                      2803.0             24.79  \n",
       "3                       100.0             49.00  \n",
       "4                       237.0             60.34  \n",
       "..                        ...               ...  \n",
       "167                   11923.0              1.70  \n",
       "168                      26.0             53.85  \n",
       "169                    2084.0             17.80  \n",
       "170                      86.0             11.63  \n",
       "171                    1123.0              2.05  \n",
       "\n",
       "[172 rows x 7 columns]"
      ]
     },
     "execution_count": 143,
     "metadata": {},
     "output_type": "execute_result"
    }
   ],
   "source": [
    "# utiliser merge pour fusionner les deux datas zone_2017 et pd_autre_dispo_Disponibilité_intérieure\n",
    "Analyse_autre_utilisation_sous_nurition= pd.merge(Zone_2017,pd_autre_dispo_Disponibilité_intérieure, on= ['Zone'], how= 'inner')\n",
    "Analyse_autre_utilisation_sous_nurition"
   ]
  },
  {
   "cell_type": "markdown",
   "id": "fd5eaa9b",
   "metadata": {},
   "source": [
    "# Questions de Julien "
   ]
  },
  {
   "cell_type": "markdown",
   "id": "da145677",
   "metadata": {},
   "source": [
    "### Question 1) La France et le blé "
   ]
  },
  {
   "cell_type": "code",
   "execution_count": 144,
   "id": "9598c229",
   "metadata": {},
   "outputs": [],
   "source": [
    "# lecture du fichier qu'on doit utiliser et affichage des colonnes nécessaires pour le calcul en supprimant les NAN\n",
    "dispo= pd.read_csv('dispo_alimentaire.csv')\n",
    "colonnes_selectionnees_3 = dispo[[\"Zone\",\"Produit\",\"Production\",\"Importations - Quantité\",\"Exportations - Quantité\",\"Variation de stock\",\"Disponibilité intérieure\",\"Semences\",\"Pertes\",\"Nourriture\",\"Aliments pour animaux\",\"Traitement\",\"Autres Utilisations\"]].copy()\n",
    "colonnes_selectionnees_3=colonnes_selectionnees_3.dropna()\n",
    "vérification_disponibilité=colonnes_selectionnees_3.dropna()"
   ]
  },
  {
   "cell_type": "code",
   "execution_count": 145,
   "id": "fc0ca0ee",
   "metadata": {},
   "outputs": [
    {
     "data": {
      "text/html": [
       "<div>\n",
       "<style scoped>\n",
       "    .dataframe tbody tr th:only-of-type {\n",
       "        vertical-align: middle;\n",
       "    }\n",
       "\n",
       "    .dataframe tbody tr th {\n",
       "        vertical-align: top;\n",
       "    }\n",
       "\n",
       "    .dataframe thead th {\n",
       "        text-align: right;\n",
       "    }\n",
       "</style>\n",
       "<table border=\"1\" class=\"dataframe\">\n",
       "  <thead>\n",
       "    <tr style=\"text-align: right;\">\n",
       "      <th></th>\n",
       "      <th>Zone</th>\n",
       "      <th>Produit</th>\n",
       "      <th>Production</th>\n",
       "      <th>Importations - Quantité</th>\n",
       "      <th>Exportations - Quantité</th>\n",
       "      <th>Variation de stock</th>\n",
       "      <th>Disponibilité intérieure</th>\n",
       "      <th>Semences</th>\n",
       "      <th>Pertes</th>\n",
       "      <th>Nourriture</th>\n",
       "      <th>Aliments pour animaux</th>\n",
       "      <th>Traitement</th>\n",
       "      <th>Autres Utilisations</th>\n",
       "    </tr>\n",
       "  </thead>\n",
       "  <tbody>\n",
       "    <tr>\n",
       "      <th>0</th>\n",
       "      <td>France</td>\n",
       "      <td>Blé</td>\n",
       "      <td>38614.0</td>\n",
       "      <td>2055.0</td>\n",
       "      <td>21502.0</td>\n",
       "      <td>1131.0</td>\n",
       "      <td>20298.0</td>\n",
       "      <td>748.0</td>\n",
       "      <td>358.0</td>\n",
       "      <td>6971.0</td>\n",
       "      <td>7822.0</td>\n",
       "      <td>1575.0</td>\n",
       "      <td>2824.0</td>\n",
       "    </tr>\n",
       "  </tbody>\n",
       "</table>\n",
       "</div>"
      ],
      "text/plain": [
       "     Zone Produit  Production  Importations - Quantité  \\\n",
       "0  France     Blé     38614.0                   2055.0   \n",
       "\n",
       "   Exportations - Quantité  Variation de stock  Disponibilité intérieure  \\\n",
       "0                  21502.0              1131.0                   20298.0   \n",
       "\n",
       "   Semences  Pertes  Nourriture  Aliments pour animaux  Traitement  \\\n",
       "0     748.0   358.0      6971.0                 7822.0      1575.0   \n",
       "\n",
       "   Autres Utilisations  \n",
       "0               2824.0  "
      ]
     },
     "execution_count": 145,
     "metadata": {},
     "output_type": "execute_result"
    }
   ],
   "source": [
    "# créer une variable et trier seulement la ligne qui présente la France comme Zone et le blé comme produit \n",
    "df_France = vérification_disponibilité[vérification_disponibilité ['Zone'] == 'France']\n",
    "df_France\n",
    "df_France_Blé=df_France[df_France ['Produit'] == 'Blé']\n",
    "df_France_Blé.reset_index(drop=True, inplace=True)\n",
    "df_France_Blé"
   ]
  },
  {
   "cell_type": "markdown",
   "id": "e277eda3",
   "metadata": {},
   "source": [
    "### première méthode"
   ]
  },
  {
   "cell_type": "code",
   "execution_count": 146,
   "id": "5c414d6e",
   "metadata": {},
   "outputs": [
    {
     "name": "stdout",
     "output_type": "stream",
     "text": [
      "20.298 millions de tonnes\n"
     ]
    }
   ],
   "source": [
    "# calcul de la quantité du blé en millions de tonnes\n",
    "dispo_France_blé_résultat1=(df_France_Blé['Production'] +df_France_Blé['Importations - Quantité']-df_France_Blé['Exportations - Quantité']+df_France_Blé['Variation de stock'])/1000\n",
    "print (dispo_France_blé_résultat1.to_string (index=False),'millions de tonnes')"
   ]
  },
  {
   "cell_type": "markdown",
   "id": "0ea3eda0",
   "metadata": {},
   "source": [
    "#### En appliquant la formule: production+importation-exportation+variationde stock, on obtient 20.298 millions de tonnes de blé en France "
   ]
  },
  {
   "cell_type": "markdown",
   "id": "d616a5d7",
   "metadata": {},
   "source": [
    "### Deuxième méthode"
   ]
  },
  {
   "cell_type": "code",
   "execution_count": 147,
   "id": "18951a0e",
   "metadata": {
    "scrolled": true
   },
   "outputs": [
    {
     "name": "stdout",
     "output_type": "stream",
     "text": [
      "20.298 millions de tonnes\n"
     ]
    }
   ],
   "source": [
    "# calcul de la quatité du blé en millions de tonnes\n",
    "dispo_France_blé_résultat2=(df_France_Blé['Semences'] +df_France_Blé['Pertes'] +df_France_Blé['Nourriture']+df_France_Blé['Aliments pour animaux'] +df_France_Blé['Traitement']+df_France_Blé['Autres Utilisations'])/1000\n",
    "print (dispo_France_blé_résultat2.to_string (index=False),'millions de tonnes' )"
   ]
  },
  {
   "cell_type": "markdown",
   "id": "fbbf45a5",
   "metadata": {},
   "source": [
    "\n",
    "#### En appliquant la formule: Semences + Pertes + Nourriture + Aliments pour animaux + Traitement + Autres utilisations, on obtient 20,298 millions de tonnes de blé en France "
   ]
  },
  {
   "cell_type": "markdown",
   "id": "52ddb4e8",
   "metadata": {},
   "source": [
    "## Conclusion "
   ]
  },
  {
   "cell_type": "markdown",
   "id": "860597f0",
   "metadata": {},
   "source": [
    "#### production+importation-exportation+variationde stock, on obtient 20298 milliers de tonnes de blé en France= Disponibilité intérieure=Semences + Pertes + Nourriture + Aliments pour animaux + Traitement + Autres utilisations =20298 milliers de tonnes de blé en France"
   ]
  },
  {
   "cell_type": "markdown",
   "id": "69f95ad7",
   "metadata": {},
   "source": [
    "### Question 2)  l’utilisation du manioc par la Thaïlande au regard de la proportion de personnes en sous-nutrition"
   ]
  },
  {
   "cell_type": "code",
   "execution_count": 148,
   "id": "03c63696",
   "metadata": {},
   "outputs": [],
   "source": [
    "# lecture du fichier qu'on doit utiliser et affichage des colonnes nécessaires pour le calcul en supprimant les NAN\n",
    "dispo= pd.read_csv('dispo_alimentaire.csv')\n",
    "colonnes_selectionnees_4 = dispo[[\"Zone\",\"Produit\",\"Production\",\"Exportations - Quantité\",\"Disponibilité alimentaire (Kcal/personne/jour)\"]].copy()\n",
    "colonnes_selectionnees_4=colonnes_selectionnees_4.dropna()\n",
    "dispo_essentielle=colonnes_selectionnees_4.dropna()"
   ]
  },
  {
   "cell_type": "code",
   "execution_count": 149,
   "id": "020b1885",
   "metadata": {},
   "outputs": [
    {
     "data": {
      "text/html": [
       "<div>\n",
       "<style scoped>\n",
       "    .dataframe tbody tr th:only-of-type {\n",
       "        vertical-align: middle;\n",
       "    }\n",
       "\n",
       "    .dataframe tbody tr th {\n",
       "        vertical-align: top;\n",
       "    }\n",
       "\n",
       "    .dataframe thead th {\n",
       "        text-align: right;\n",
       "    }\n",
       "</style>\n",
       "<table border=\"1\" class=\"dataframe\">\n",
       "  <thead>\n",
       "    <tr style=\"text-align: right;\">\n",
       "      <th></th>\n",
       "      <th>Zone</th>\n",
       "      <th>Produit</th>\n",
       "      <th>Production</th>\n",
       "      <th>Exportations - Quantité</th>\n",
       "      <th>Disponibilité alimentaire (Kcal/personne/jour)</th>\n",
       "    </tr>\n",
       "  </thead>\n",
       "  <tbody>\n",
       "    <tr>\n",
       "      <th>13809</th>\n",
       "      <td>Thaïlande</td>\n",
       "      <td>Manioc</td>\n",
       "      <td>30228.0</td>\n",
       "      <td>25214.0</td>\n",
       "      <td>40.0</td>\n",
       "    </tr>\n",
       "  </tbody>\n",
       "</table>\n",
       "</div>"
      ],
      "text/plain": [
       "            Zone Produit  Production  Exportations - Quantité  \\\n",
       "13809  Thaïlande  Manioc     30228.0                  25214.0   \n",
       "\n",
       "       Disponibilité alimentaire (Kcal/personne/jour)  \n",
       "13809                                            40.0  "
      ]
     },
     "execution_count": 149,
     "metadata": {},
     "output_type": "execute_result"
    }
   ],
   "source": [
    "# créer une variable et trier seulement la ligne qui présente la Thaïlande comme Zone et le Manioc comme produit \n",
    "df_Thaïlande = dispo_essentielle[dispo_essentielle['Zone'] == 'Thaïlande']\n",
    "df_Thaïlande\n",
    "df_Thaïlande_Manioc= df_Thaïlande[df_Thaïlande ['Produit'] == 'Manioc']\n",
    "df_Thaïlande_Manioc"
   ]
  },
  {
   "cell_type": "code",
   "execution_count": 150,
   "id": "2f653f62",
   "metadata": {},
   "outputs": [
    {
     "name": "stdout",
     "output_type": "stream",
     "text": [
      "83.41 %\n"
     ]
    }
   ],
   "source": [
    "# Proportion de l'exportation du manioc par rapport à la production en thailande \n",
    "export_manioc_thailande=round((df_Thaïlande_Manioc['Exportations - Quantité']/ df_Thaïlande_Manioc['Production'])*100,2)\n",
    "print (export_manioc_thailande.to_string(index=False),'%')"
   ]
  },
  {
   "cell_type": "code",
   "execution_count": 151,
   "id": "307d1faf",
   "metadata": {},
   "outputs": [
    {
     "name": "stdout",
     "output_type": "stream",
     "text": [
      "8.96 %\n"
     ]
    }
   ],
   "source": [
    "# Proportion de la population sous alimentée en thailande en 2017\n",
    "sous_nut_thailande_2017=Zone_2017.loc[Zone_2017.Zone==\"Thaïlande\"]\n",
    "sous_nut_thailande_2017_proportion=sous_nut_thailande_2017['proportion_pers_sous_alimentées_2017']\n",
    "print(round(sous_nut_thailande_2017_proportion,2).to_string(index=False),'%')"
   ]
  },
  {
   "cell_type": "markdown",
   "id": "569d4521",
   "metadata": {},
   "source": [
    "#### Conclusion"
   ]
  },
  {
   "cell_type": "markdown",
   "id": "92b8fcea",
   "metadata": {},
   "source": [
    "#### La Thailande exporte 83.41% de sa production de manioc en 2017 alors que 8.96 % de sa population à la même année est mal-nourrie."
   ]
  },
  {
   "cell_type": "markdown",
   "id": "f7c9f41b",
   "metadata": {},
   "source": [
    "#### 2) a-Plus d'analyse pour le manioc en thaîlande "
   ]
  },
  {
   "cell_type": "code",
   "execution_count": 152,
   "id": "6fc532e6",
   "metadata": {},
   "outputs": [],
   "source": [
    "# Afficher le tableau population 2017 et selectionner les colonnes necesssaires pour l'analyse\n",
    "Population_2017_manioc=Population_2017\n",
    "colonnes_selectionnees_pop_manioc = Population_2017_manioc[[\"Zone\",\"Population\"]].copy()"
   ]
  },
  {
   "cell_type": "code",
   "execution_count": 153,
   "id": "7d370913",
   "metadata": {},
   "outputs": [
    {
     "data": {
      "text/html": [
       "<div>\n",
       "<style scoped>\n",
       "    .dataframe tbody tr th:only-of-type {\n",
       "        vertical-align: middle;\n",
       "    }\n",
       "\n",
       "    .dataframe tbody tr th {\n",
       "        vertical-align: top;\n",
       "    }\n",
       "\n",
       "    .dataframe thead th {\n",
       "        text-align: right;\n",
       "    }\n",
       "</style>\n",
       "<table border=\"1\" class=\"dataframe\">\n",
       "  <thead>\n",
       "    <tr style=\"text-align: right;\">\n",
       "      <th></th>\n",
       "      <th>Zone</th>\n",
       "      <th>Population</th>\n",
       "    </tr>\n",
       "  </thead>\n",
       "  <tbody>\n",
       "    <tr>\n",
       "      <th>1312</th>\n",
       "      <td>Thaïlande</td>\n",
       "      <td>69.20981</td>\n",
       "    </tr>\n",
       "  </tbody>\n",
       "</table>\n",
       "</div>"
      ],
      "text/plain": [
       "           Zone  Population\n",
       "1312  Thaïlande    69.20981"
      ]
     },
     "execution_count": 153,
     "metadata": {},
     "output_type": "execute_result"
    }
   ],
   "source": [
    "# Selectionner seulement la zone Thaîlande \n",
    "df_Thaïlande_pop = colonnes_selectionnees_pop_manioc[colonnes_selectionnees_pop_manioc['Zone'] == 'Thaïlande']\n",
    "df_Thaïlande_pop "
   ]
  },
  {
   "cell_type": "code",
   "execution_count": 154,
   "id": "9a6db1e7",
   "metadata": {},
   "outputs": [
    {
     "data": {
      "text/plain": [
       "13809    40.0\n",
       "Name: Disponibilité alimentaire (Kcal/personne/jour), dtype: float64"
      ]
     },
     "execution_count": 154,
     "metadata": {},
     "output_type": "execute_result"
    }
   ],
   "source": [
    "nb_pers_nourries_manioc=df_Thaïlande_Manioc[\"Disponibilité alimentaire (Kcal/personne/jour)\"]\n",
    "nb_pers_nourries_manioc"
   ]
  },
  {
   "cell_type": "code",
   "execution_count": 155,
   "id": "e9445da3",
   "metadata": {},
   "outputs": [
    {
     "name": "stdout",
     "output_type": "stream",
     "text": [
      "1256968.71 millions de personnes\n"
     ]
    }
   ],
   "source": [
    "# nombre de personnes qui pourraient être nourries par le moniac en thailande\n",
    "nb_pers_nourries_manioc=df_Thaïlande_Manioc[\"Disponibilité alimentaire (Kcal/personne/jour)\"]* 69209000*0.83/1828\n",
    "nb_pers_nourries_manioc = nb_pers_nourries_manioc.values[0]\n",
    "print(round (nb_pers_nourries_manioc,2),'millions de personnes')"
   ]
  },
  {
   "cell_type": "code",
   "execution_count": 156,
   "id": "9d48e16e",
   "metadata": {},
   "outputs": [
    {
     "name": "stdout",
     "output_type": "stream",
     "text": [
      "1.82\n"
     ]
    }
   ],
   "source": [
    "pourcentage_pers_nourries_manioc=round((nb_pers_nourries_manioc/69209000)*100,2)\n",
    "print(pourcentage_pers_nourries_manioc)"
   ]
  },
  {
   "cell_type": "code",
   "execution_count": 157,
   "id": "240f1fb8",
   "metadata": {},
   "outputs": [
    {
     "data": {
      "text/html": [
       "<div>\n",
       "<style scoped>\n",
       "    .dataframe tbody tr th:only-of-type {\n",
       "        vertical-align: middle;\n",
       "    }\n",
       "\n",
       "    .dataframe tbody tr th {\n",
       "        vertical-align: top;\n",
       "    }\n",
       "\n",
       "    .dataframe thead th {\n",
       "        text-align: right;\n",
       "    }\n",
       "</style>\n",
       "<table border=\"1\" class=\"dataframe\">\n",
       "  <thead>\n",
       "    <tr style=\"text-align: right;\">\n",
       "      <th></th>\n",
       "      <th>sous_nutrition</th>\n",
       "      <th>Nombre de personne et proportion</th>\n",
       "    </tr>\n",
       "  </thead>\n",
       "  <tbody>\n",
       "    <tr>\n",
       "      <th>0</th>\n",
       "      <td>sous_nut_thailande_2017_proportion</td>\n",
       "      <td>8.96</td>\n",
       "    </tr>\n",
       "    <tr>\n",
       "      <th>1</th>\n",
       "      <td>pourcentage_pers_nourries_manioc</td>\n",
       "      <td>1.82</td>\n",
       "    </tr>\n",
       "  </tbody>\n",
       "</table>\n",
       "</div>"
      ],
      "text/plain": [
       "                       sous_nutrition  Nombre de personne et proportion\n",
       "0  sous_nut_thailande_2017_proportion                              8.96\n",
       "1    pourcentage_pers_nourries_manioc                              1.82"
      ]
     },
     "execution_count": 157,
     "metadata": {},
     "output_type": "execute_result"
    }
   ],
   "source": [
    "# préparer un tableau avec les colonnes et les lignes nécessaires pour préparer le graphique \n",
    "# initialser une liste \n",
    "data = [['sous_nut_thailande_2017_proportion',8.96 ], ['pourcentage_pers_nourries_manioc',1.82]]\n",
    " \n",
    "# creer une data frame avec les colonnes et lignes nécessaires pour l'analyse après\n",
    "df = pd.DataFrame(data, columns = ['sous_nutrition', 'Nombre de personne et proportion'])\n",
    " \n",
    "# print dataframe.\n",
    "df"
   ]
  },
  {
   "cell_type": "code",
   "execution_count": 158,
   "id": "5f536ab9",
   "metadata": {},
   "outputs": [
    {
     "data": {
      "image/png": "[encoded data removed]",
      "text/plain": [
       "<Figure size 720x144 with 1 Axes>"
      ]
     },
     "metadata": {
      "needs_background": "light"
     },
     "output_type": "display_data"
    }
   ],
   "source": [
    "# un graphique en histogramme pour montrer le nombre de personnes qui pourraient être nourries du manioc\n",
    "#et la sous nutrition en thailande\n",
    "\n",
    "Mal_nourrie= df['sous_nutrition'].head(12)\n",
    "Nombre= df['Nombre de personne et proportion'].head(12)\n",
    "  \n",
    "# Figure Size\n",
    "fig, ax = plt.subplots(figsize=(10,2))\n",
    "  \n",
    "# Horizontal Bar Plot\n",
    "ax.barh(Mal_nourrie, Nombre)\n",
    "  \n",
    "# Remove axes splines\n",
    "for s in ['top', 'bottom', 'left', 'right']:\n",
    "    ax.spines[s].set_visible(False)\n",
    "  \n",
    "# Remove x, y Ticks\n",
    "ax.xaxis.set_ticks_position('none')\n",
    "ax.yaxis.set_ticks_position('none')\n",
    "  \n",
    "# Add padding between axes and labels\n",
    "ax.xaxis.set_tick_params(pad=5)\n",
    "ax.yaxis.set_tick_params(pad=2)\n",
    "  \n",
    "# Add x, y gridlines\n",
    "ax.grid(b=True, color='grey',\n",
    "        linestyle='-.', linewidth=0.5,\n",
    "        alpha=0.2)\n",
    "  \n",
    "# Show top values\n",
    "ax.invert_yaxis()\n",
    "  \n",
    "# Add annotation to bars\n",
    "for i in ax.patches:\n",
    "    plt.text(i.get_width()+0.2, i.get_y()+0.5,\n",
    "             str(round((i.get_width()), 2)),\n",
    "             fontsize=10, fontweight='bold',\n",
    "             color='black')\n",
    "  \n",
    "# Add Plot Title\n",
    "ax.set_title('la sous nutrition et la proportion de personnes qui pourraient être nourries par léquivalent en calories du manioc exportée',\n",
    "             loc='left', )\n",
    "  \n",
    "plt.show()"
   ]
  },
  {
   "cell_type": "markdown",
   "id": "257d14eb",
   "metadata": {},
   "source": [
    "#### Conclusion "
   ]
  },
  {
   "cell_type": "markdown",
   "id": "98c99d10",
   "metadata": {},
   "source": [
    "#### Malgrès qu'on peut nourrir plus de 15 millions de personnes seulement par le Manioc , on a un pourcentage de 8.96% de mal-nourries en Thaîlande "
   ]
  },
  {
   "cell_type": "markdown",
   "id": "889f1bf7",
   "metadata": {},
   "source": [
    "### Question3) l’utilisation des céréales, la répartition entre l’alimentation humaine et l’alimentation pour animaux"
   ]
  },
  {
   "cell_type": "code",
   "execution_count": 159,
   "id": "1c934795",
   "metadata": {},
   "outputs": [],
   "source": [
    "# affichage des colonnes nécessaires pour le calcul après\n",
    "repartition_produit = dispo[['Zone', 'Produit', 'Nourriture','Aliments pour animaux']]\n",
    "# Supprimer les NaN pour un visuel plus propre \n",
    "repartition_produit = repartition_produit[['Zone', 'Produit','Nourriture', 'Aliments pour animaux']].fillna(0)"
   ]
  },
  {
   "cell_type": "code",
   "execution_count": 160,
   "id": "de2d3109",
   "metadata": {},
   "outputs": [],
   "source": [
    "# Trier les céréales de la colonne produit pour notre analyse\n",
    "repartition_cereales=repartition_produit.loc[repartition_produit['Produit'].isin(['Seigle','Céréales, Autres','Avoine','Millet','Sorgho','Blé','Riz','Orge','Maïs'])]\n",
    "repartition_cereales = repartition_cereales.reset_index().drop(columns=['index'])"
   ]
  },
  {
   "cell_type": "code",
   "execution_count": 161,
   "id": "07681771",
   "metadata": {
    "scrolled": true
   },
   "outputs": [],
   "source": [
    "# utiliser groupby .agg :sum pour grouper par zone et effectuer la somme dans plusieurs colonnes \n",
    "repartition_cereales=repartition_cereales.groupby(['Zone']).agg({'Nourriture':'sum','Aliments pour animaux':'sum'}).reset_index()"
   ]
  },
  {
   "cell_type": "code",
   "execution_count": 162,
   "id": "df5ab73d",
   "metadata": {},
   "outputs": [
    {
     "data": {
      "text/html": [
       "<div>\n",
       "<style scoped>\n",
       "    .dataframe tbody tr th:only-of-type {\n",
       "        vertical-align: middle;\n",
       "    }\n",
       "\n",
       "    .dataframe tbody tr th {\n",
       "        vertical-align: top;\n",
       "    }\n",
       "\n",
       "    .dataframe thead th {\n",
       "        text-align: right;\n",
       "    }\n",
       "</style>\n",
       "<table border=\"1\" class=\"dataframe\">\n",
       "  <thead>\n",
       "    <tr style=\"text-align: right;\">\n",
       "      <th></th>\n",
       "      <th>Zone</th>\n",
       "      <th>Nourriture</th>\n",
       "      <th>Aliments pour animaux</th>\n",
       "      <th>répartition_alimentation_humaine</th>\n",
       "    </tr>\n",
       "  </thead>\n",
       "  <tbody>\n",
       "    <tr>\n",
       "      <th>173</th>\n",
       "      <td>Îles Salomon</td>\n",
       "      <td>14.0</td>\n",
       "      <td>0.0</td>\n",
       "      <td>100.00</td>\n",
       "    </tr>\n",
       "    <tr>\n",
       "      <th>18</th>\n",
       "      <td>Bermudes</td>\n",
       "      <td>4.0</td>\n",
       "      <td>0.0</td>\n",
       "      <td>100.00</td>\n",
       "    </tr>\n",
       "    <tr>\n",
       "      <th>135</th>\n",
       "      <td>Saint-Kitts-et-Nevis</td>\n",
       "      <td>3.0</td>\n",
       "      <td>0.0</td>\n",
       "      <td>100.00</td>\n",
       "    </tr>\n",
       "    <tr>\n",
       "      <th>137</th>\n",
       "      <td>Sainte-Lucie</td>\n",
       "      <td>18.0</td>\n",
       "      <td>0.0</td>\n",
       "      <td>100.00</td>\n",
       "    </tr>\n",
       "    <tr>\n",
       "      <th>13</th>\n",
       "      <td>Bahamas</td>\n",
       "      <td>18.0</td>\n",
       "      <td>0.0</td>\n",
       "      <td>100.00</td>\n",
       "    </tr>\n",
       "    <tr>\n",
       "      <th>...</th>\n",
       "      <td>...</td>\n",
       "      <td>...</td>\n",
       "      <td>...</td>\n",
       "      <td>...</td>\n",
       "    </tr>\n",
       "    <tr>\n",
       "      <th>119</th>\n",
       "      <td>Pays-Bas</td>\n",
       "      <td>1440.0</td>\n",
       "      <td>7536.0</td>\n",
       "      <td>16.04</td>\n",
       "    </tr>\n",
       "    <tr>\n",
       "      <th>26</th>\n",
       "      <td>Bélarus</td>\n",
       "      <td>1010.0</td>\n",
       "      <td>5356.0</td>\n",
       "      <td>15.87</td>\n",
       "    </tr>\n",
       "    <tr>\n",
       "      <th>48</th>\n",
       "      <td>Espagne</td>\n",
       "      <td>4580.0</td>\n",
       "      <td>24925.0</td>\n",
       "      <td>15.52</td>\n",
       "    </tr>\n",
       "    <tr>\n",
       "      <th>31</th>\n",
       "      <td>Canada</td>\n",
       "      <td>3755.0</td>\n",
       "      <td>23905.0</td>\n",
       "      <td>13.58</td>\n",
       "    </tr>\n",
       "    <tr>\n",
       "      <th>44</th>\n",
       "      <td>Danemark</td>\n",
       "      <td>709.0</td>\n",
       "      <td>6647.0</td>\n",
       "      <td>9.64</td>\n",
       "    </tr>\n",
       "  </tbody>\n",
       "</table>\n",
       "<p>174 rows × 4 columns</p>\n",
       "</div>"
      ],
      "text/plain": [
       "                     Zone  Nourriture  Aliments pour animaux  \\\n",
       "173          Îles Salomon        14.0                    0.0   \n",
       "18               Bermudes         4.0                    0.0   \n",
       "135  Saint-Kitts-et-Nevis         3.0                    0.0   \n",
       "137          Sainte-Lucie        18.0                    0.0   \n",
       "13                Bahamas        18.0                    0.0   \n",
       "..                    ...         ...                    ...   \n",
       "119              Pays-Bas      1440.0                 7536.0   \n",
       "26                Bélarus      1010.0                 5356.0   \n",
       "48                Espagne      4580.0                24925.0   \n",
       "31                 Canada      3755.0                23905.0   \n",
       "44               Danemark       709.0                 6647.0   \n",
       "\n",
       "     répartition_alimentation_humaine  \n",
       "173                            100.00  \n",
       "18                             100.00  \n",
       "135                            100.00  \n",
       "137                            100.00  \n",
       "13                             100.00  \n",
       "..                                ...  \n",
       "119                             16.04  \n",
       "26                              15.87  \n",
       "48                              15.52  \n",
       "31                              13.58  \n",
       "44                               9.64  \n",
       "\n",
       "[174 rows x 4 columns]"
      ]
     },
     "execution_count": 162,
     "metadata": {},
     "output_type": "execute_result"
    }
   ],
   "source": [
    "# Calculer la répartition alimentaire pour l'humain\n",
    "repartition_cereales['répartition_alimentation_humaine'] = round((repartition_cereales['Nourriture'] / (repartition_cereales['Nourriture']  + repartition_cereales['Aliments pour animaux']))*100,2)\n",
    "# Mettre en ordre décroissant les pays et la réparttion de l'alimentation humaine\n",
    "repartition_cereales=repartition_cereales.sort_values(by='répartition_alimentation_humaine', ascending=False)\n",
    "repartition_cereales"
   ]
  },
  {
   "cell_type": "code",
   "execution_count": 163,
   "id": "0a82f0b2",
   "metadata": {},
   "outputs": [],
   "source": [
    "# Afficher les pays qui ont 100% de céréales répartie pour l'alimentation humaine\n",
    "cent_pour_cent=repartition_cereales.loc[repartition_cereales.répartition_alimentation_humaine>=95]"
   ]
  },
  {
   "cell_type": "code",
   "execution_count": 164,
   "id": "6bc1f510",
   "metadata": {},
   "outputs": [],
   "source": [
    "cent_pour_cent=cent_pour_cent.reset_index()"
   ]
  },
  {
   "cell_type": "code",
   "execution_count": 165,
   "id": "2d1a8df4",
   "metadata": {},
   "outputs": [
    {
     "data": {
      "image/png": "[encoded data removed]",
      "text/plain": [
       "<Figure size 1152x648 with 1 Axes>"
      ]
     },
     "metadata": {
      "needs_background": "light"
     },
     "output_type": "display_data"
    }
   ],
   "source": [
    "Zone = cent_pour_cent['Zone'].head(20)\n",
    "Réparartition= cent_pour_cent['répartition_alimentation_humaine'].head(20)\n",
    "  \n",
    "# Figure Size\n",
    "fig, ax = plt.subplots(figsize=(16, 9))\n",
    "  \n",
    "# Horizontal Bar Plot\n",
    "ax.barh(Zone, Réparartition)\n",
    "  \n",
    "# Remove axes splines\n",
    "for s in ['top', 'bottom', 'left', 'right']:\n",
    "    ax.spines[s].set_visible(False)\n",
    "  \n",
    "# Remove x, y Ticks\n",
    "ax.xaxis.set_ticks_position('none')\n",
    "ax.yaxis.set_ticks_position('none')\n",
    "  \n",
    "# Add padding between axes and labels\n",
    "ax.xaxis.set_tick_params(pad=5)\n",
    "ax.yaxis.set_tick_params(pad=10)\n",
    "  \n",
    "# Add x, y gridlines\n",
    "ax.grid(b=True, color='grey',\n",
    "        linestyle='-.', linewidth=0.5,\n",
    "        alpha=0.2)\n",
    "  \n",
    "# Show top values\n",
    "ax.invert_yaxis()\n",
    "  \n",
    "# Add annotation to bars\n",
    "for i in ax.patches:\n",
    "    plt.text(i.get_width()+0.2, i.get_y()+0.5,\n",
    "             str(round((i.get_width()), 2)),\n",
    "             fontsize=10, fontweight='bold',\n",
    "             color='black')\n",
    "  \n",
    "# Add Plot Title\n",
    "ax.set_title(' les pays ayants le plus dédié leurs céréales à la nourriture humaine',\n",
    "             loc='left', )\n",
    "  \n",
    "\n",
    "plt.show()"
   ]
  },
  {
   "cell_type": "code",
   "execution_count": 166,
   "id": "c244d899",
   "metadata": {},
   "outputs": [],
   "source": [
    "# Afficher les pays qui ont une répartition de céréales pour l'alimentation humaine <= 20% \n",
    "vingt_pour_cent=repartition_cereales.loc[repartition_cereales.répartition_alimentation_humaine<=20]\n"
   ]
  },
  {
   "cell_type": "code",
   "execution_count": 167,
   "id": "5d637b14",
   "metadata": {},
   "outputs": [],
   "source": [
    "vingt_pour_cent=vingt_pour_cent.reset_index()"
   ]
  },
  {
   "cell_type": "code",
   "execution_count": 168,
   "id": "77ffdab0",
   "metadata": {},
   "outputs": [
    {
     "data": {
      "image/png": "[encoded data removed]",
      "text/plain": [
       "<Figure size 720x360 with 1 Axes>"
      ]
     },
     "metadata": {
      "needs_background": "light"
     },
     "output_type": "display_data"
    }
   ],
   "source": [
    "Zone = vingt_pour_cent['Zone'].head(20)\n",
    "Réparartition= vingt_pour_cent['répartition_alimentation_humaine'].head(20)\n",
    "  \n",
    "# Figure Size\n",
    "fig, ax = plt.subplots(figsize=(10,5))\n",
    "  \n",
    "# Horizontal Bar Plot\n",
    "ax.barh(Zone, Réparartition)\n",
    "  \n",
    "# Remove axes splines\n",
    "for s in ['top', 'bottom', 'left', 'right']:\n",
    "    ax.spines[s].set_visible(False)\n",
    "  \n",
    "# Remove x, y Ticks\n",
    "ax.xaxis.set_ticks_position('none')\n",
    "ax.yaxis.set_ticks_position('none')\n",
    "  \n",
    "# Add padding between axes and labels\n",
    "ax.xaxis.set_tick_params(pad=5)\n",
    "ax.yaxis.set_tick_params(pad=10)\n",
    "  \n",
    "# Add x, y gridlines\n",
    "ax.grid(b=True, color='grey',\n",
    "        linestyle='-.', linewidth=0.5,\n",
    "        alpha=0.2)\n",
    "  \n",
    "# Show top values\n",
    "ax.invert_yaxis()\n",
    "  \n",
    "# Add annotation to bars\n",
    "for i in ax.patches:\n",
    "    plt.text(i.get_width()+0.2, i.get_y()+0.5,\n",
    "             str(round((i.get_width()), 2)),\n",
    "             fontsize=10, fontweight='bold',\n",
    "             color='black')\n",
    "  \n",
    "# Add Plot Title\n",
    "ax.set_title(' les pays ayants le moins dédié leurs céréales à la nourriture humaine',\n",
    "             loc='left', )\n",
    "  \n",
    "\n",
    "plt.show()"
   ]
  },
  {
   "cell_type": "markdown",
   "id": "de668310",
   "metadata": {},
   "source": [
    "#### Conclusion"
   ]
  },
  {
   "cell_type": "markdown",
   "id": "c3b41a28",
   "metadata": {},
   "source": [
    "#### -->15 pays consacrent la totalité de leur production de céréales pour l’alimentation humaine:\n",
    "#### En dehors du Burkina Faso, les 14 autres pays ont une très faible production, ils privilégient son utilisation pour l’alimentation humaine.\n",
    "\n",
    " #### -->8 pays consacrent moins de 20% de leur production de céréales pour l’alimentation humaine:\n",
    " #### Ce sont des gros producteurs de céréales dans l’absolu ou par rapport à la consommation de leur population en céréales.\n"
   ]
  }
 ],
 "metadata": {
  "kernelspec": {
   "display_name": "Python 3 (ipykernel)",
   "language": "python",
   "name": "python3"
  },
  "language_info": {
   "codemirror_mode": {
    "name": "ipython",
    "version": 3
   },
   "file_extension": ".py",
   "mimetype": "text/x-python",
   "name": "python",
   "nbconvert_exporter": "python",
   "pygments_lexer": "ipython3",
   "version": "3.9.7"
  }
 },
 "nbformat": 4,
 "nbformat_minor": 5
}
