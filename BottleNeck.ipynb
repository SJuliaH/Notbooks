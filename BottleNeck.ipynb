{
 "cells": [
  {
   "cell_type": "markdown",
   "id": "2a479ed8",
   "metadata": {},
   "source": [
    "# Importation des librairies "
   ]
  },
  {
   "cell_type": "code",
   "execution_count": 33,
   "id": "04134153",
   "metadata": {},
   "outputs": [],
   "source": [
    "import pandas as pd \n",
    "from numpy import*\n",
    "import re\n",
    "import matplotlib as plt\n",
    "import numpy as np\n",
    "import matplotlib.pyplot as plt\n",
    "import seaborn as sns"
   ]
  },
  {
   "cell_type": "markdown",
   "id": "a9bd4576",
   "metadata": {},
   "source": [
    "# Chargement et affichage des données"
   ]
  },
  {
   "cell_type": "code",
   "execution_count": 29,
   "id": "9d9f1186",
   "metadata": {},
   "outputs": [
    {
     "data": {
      "text/html": [
       "<div>\n",
       "<style scoped>\n",
       "    .dataframe tbody tr th:only-of-type {\n",
       "        vertical-align: middle;\n",
       "    }\n",
       "\n",
       "    .dataframe tbody tr th {\n",
       "        vertical-align: top;\n",
       "    }\n",
       "\n",
       "    .dataframe thead th {\n",
       "        text-align: right;\n",
       "    }\n",
       "</style>\n",
       "<table border=\"1\" class=\"dataframe\">\n",
       "  <thead>\n",
       "    <tr style=\"text-align: right;\">\n",
       "      <th></th>\n",
       "      <th>product_id</th>\n",
       "      <th>onsale_web</th>\n",
       "      <th>price</th>\n",
       "      <th>stock_quantity</th>\n",
       "      <th>stock_status</th>\n",
       "    </tr>\n",
       "  </thead>\n",
       "  <tbody>\n",
       "    <tr>\n",
       "      <th>0</th>\n",
       "      <td>3847</td>\n",
       "      <td>1</td>\n",
       "      <td>24.2</td>\n",
       "      <td>0</td>\n",
       "      <td>outofstock</td>\n",
       "    </tr>\n",
       "    <tr>\n",
       "      <th>1</th>\n",
       "      <td>3849</td>\n",
       "      <td>1</td>\n",
       "      <td>34.3</td>\n",
       "      <td>0</td>\n",
       "      <td>outofstock</td>\n",
       "    </tr>\n",
       "  </tbody>\n",
       "</table>\n",
       "</div>"
      ],
      "text/plain": [
       "   product_id  onsale_web  price  stock_quantity stock_status\n",
       "0        3847           1   24.2               0   outofstock\n",
       "1        3849           1   34.3               0   outofstock"
      ]
     },
     "execution_count": 29,
     "metadata": {},
     "output_type": "execute_result"
    }
   ],
   "source": [
    "erp = pd.read_csv('erp.csv')\n",
    "erp.head(2)"
   ]
  },
  {
   "cell_type": "code",
   "execution_count": 30,
   "id": "1bfd9d7b",
   "metadata": {},
   "outputs": [
    {
     "name": "stdout",
     "output_type": "stream",
     "text": [
      "<class 'pandas.core.frame.DataFrame'>\n",
      "RangeIndex: 825 entries, 0 to 824\n",
      "Data columns (total 5 columns):\n",
      " #   Column          Non-Null Count  Dtype  \n",
      "---  ------          --------------  -----  \n",
      " 0   product_id      825 non-null    int64  \n",
      " 1   onsale_web      825 non-null    int64  \n",
      " 2   price           825 non-null    float64\n",
      " 3   stock_quantity  825 non-null    int64  \n",
      " 4   stock_status    825 non-null    object \n",
      "dtypes: float64(1), int64(3), object(1)\n",
      "memory usage: 32.4+ KB\n"
     ]
    }
   ],
   "source": [
    "erp.info()"
   ]
  },
  {
   "cell_type": "code",
   "execution_count": 11,
   "id": "754b839c",
   "metadata": {},
   "outputs": [
    {
     "name": "stderr",
     "output_type": "stream",
     "text": [
      "C:\\Users\\ibenz\\anaconda3\\lib\\site-packages\\openpyxl\\worksheet\\_reader.py:312: UserWarning: Unknown extension is not supported and will be removed\n",
      "  warn(msg)\n"
     ]
    },
    {
     "data": {
      "text/html": [
       "<div>\n",
       "<style scoped>\n",
       "    .dataframe tbody tr th:only-of-type {\n",
       "        vertical-align: middle;\n",
       "    }\n",
       "\n",
       "    .dataframe tbody tr th {\n",
       "        vertical-align: top;\n",
       "    }\n",
       "\n",
       "    .dataframe thead th {\n",
       "        text-align: right;\n",
       "    }\n",
       "</style>\n",
       "<table border=\"1\" class=\"dataframe\">\n",
       "  <thead>\n",
       "    <tr style=\"text-align: right;\">\n",
       "      <th></th>\n",
       "      <th>sku</th>\n",
       "      <th>virtual</th>\n",
       "      <th>downloadable</th>\n",
       "      <th>rating_count</th>\n",
       "      <th>average_rating</th>\n",
       "      <th>total_sales</th>\n",
       "      <th>tax_status</th>\n",
       "      <th>tax_class</th>\n",
       "      <th>post_author</th>\n",
       "      <th>post_date</th>\n",
       "      <th>...</th>\n",
       "      <th>post_name</th>\n",
       "      <th>post_modified</th>\n",
       "      <th>post_modified_gmt</th>\n",
       "      <th>post_content_filtered</th>\n",
       "      <th>post_parent</th>\n",
       "      <th>guid</th>\n",
       "      <th>menu_order</th>\n",
       "      <th>post_type</th>\n",
       "      <th>post_mime_type</th>\n",
       "      <th>comment_count</th>\n",
       "    </tr>\n",
       "  </thead>\n",
       "  <tbody>\n",
       "    <tr>\n",
       "      <th>0</th>\n",
       "      <td>bon-cadeau-25-euros</td>\n",
       "      <td>0</td>\n",
       "      <td>0</td>\n",
       "      <td>0</td>\n",
       "      <td>0.0</td>\n",
       "      <td>10.0</td>\n",
       "      <td>taxable</td>\n",
       "      <td>NaN</td>\n",
       "      <td>1.0</td>\n",
       "      <td>2018-06-01 13:53:46</td>\n",
       "      <td>...</td>\n",
       "      <td>bon-cadeau-de-25-euros</td>\n",
       "      <td>2018-06-01 14:13:57</td>\n",
       "      <td>2018-06-01 12:13:57</td>\n",
       "      <td>NaN</td>\n",
       "      <td>0.0</td>\n",
       "      <td>https://www.bottle-neck.fr/?post_type=product&amp;...</td>\n",
       "      <td>0.0</td>\n",
       "      <td>product</td>\n",
       "      <td>NaN</td>\n",
       "      <td>0.0</td>\n",
       "    </tr>\n",
       "    <tr>\n",
       "      <th>1</th>\n",
       "      <td>15298</td>\n",
       "      <td>0</td>\n",
       "      <td>0</td>\n",
       "      <td>0</td>\n",
       "      <td>0.0</td>\n",
       "      <td>6.0</td>\n",
       "      <td>taxable</td>\n",
       "      <td>NaN</td>\n",
       "      <td>2.0</td>\n",
       "      <td>2018-02-08 12:58:52</td>\n",
       "      <td>...</td>\n",
       "      <td>pierre-jean-villa-saint-joseph-preface-2018</td>\n",
       "      <td>2019-12-30 09:30:29</td>\n",
       "      <td>2019-12-30 08:30:29</td>\n",
       "      <td>NaN</td>\n",
       "      <td>0.0</td>\n",
       "      <td>https://www.bottle-neck.fr/?post_type=product&amp;...</td>\n",
       "      <td>0.0</td>\n",
       "      <td>product</td>\n",
       "      <td>NaN</td>\n",
       "      <td>0.0</td>\n",
       "    </tr>\n",
       "  </tbody>\n",
       "</table>\n",
       "<p>2 rows × 28 columns</p>\n",
       "</div>"
      ],
      "text/plain": [
       "                   sku  virtual  downloadable  rating_count  average_rating  \\\n",
       "0  bon-cadeau-25-euros        0             0             0             0.0   \n",
       "1                15298        0             0             0             0.0   \n",
       "\n",
       "   total_sales tax_status  tax_class  post_author           post_date  ...  \\\n",
       "0         10.0    taxable        NaN          1.0 2018-06-01 13:53:46  ...   \n",
       "1          6.0    taxable        NaN          2.0 2018-02-08 12:58:52  ...   \n",
       "\n",
       "                                     post_name       post_modified  \\\n",
       "0                       bon-cadeau-de-25-euros 2018-06-01 14:13:57   \n",
       "1  pierre-jean-villa-saint-joseph-preface-2018 2019-12-30 09:30:29   \n",
       "\n",
       "    post_modified_gmt post_content_filtered post_parent  \\\n",
       "0 2018-06-01 12:13:57                   NaN         0.0   \n",
       "1 2019-12-30 08:30:29                   NaN         0.0   \n",
       "\n",
       "                                                guid menu_order  post_type  \\\n",
       "0  https://www.bottle-neck.fr/?post_type=product&...        0.0    product   \n",
       "1  https://www.bottle-neck.fr/?post_type=product&...        0.0    product   \n",
       "\n",
       "  post_mime_type comment_count  \n",
       "0            NaN           0.0  \n",
       "1            NaN           0.0  \n",
       "\n",
       "[2 rows x 28 columns]"
      ]
     },
     "execution_count": 11,
     "metadata": {},
     "output_type": "execute_result"
    }
   ],
   "source": [
    "web = pd.read_excel('web.xlsx')\n",
    "web.head(2)"
   ]
  },
  {
   "cell_type": "code",
   "execution_count": 14,
   "id": "6d688ca5",
   "metadata": {},
   "outputs": [
    {
     "name": "stdout",
     "output_type": "stream",
     "text": [
      "<class 'pandas.core.frame.DataFrame'>\n",
      "RangeIndex: 1513 entries, 0 to 1512\n",
      "Data columns (total 28 columns):\n",
      " #   Column                 Non-Null Count  Dtype         \n",
      "---  ------                 --------------  -----         \n",
      " 0   sku                    1428 non-null   object        \n",
      " 1   virtual                1513 non-null   int64         \n",
      " 2   downloadable           1513 non-null   int64         \n",
      " 3   rating_count           1513 non-null   int64         \n",
      " 4   average_rating         1430 non-null   float64       \n",
      " 5   total_sales            1430 non-null   float64       \n",
      " 6   tax_status             716 non-null    object        \n",
      " 7   tax_class              0 non-null      float64       \n",
      " 8   post_author            1430 non-null   float64       \n",
      " 9   post_date              1430 non-null   datetime64[ns]\n",
      " 10  post_date_gmt          1430 non-null   datetime64[ns]\n",
      " 11  post_content           0 non-null      float64       \n",
      " 12  post_title             1430 non-null   object        \n",
      " 13  post_excerpt           716 non-null    object        \n",
      " 14  post_status            1430 non-null   object        \n",
      " 15  comment_status         1430 non-null   object        \n",
      " 16  ping_status            1430 non-null   object        \n",
      " 17  post_password          0 non-null      float64       \n",
      " 18  post_name              1430 non-null   object        \n",
      " 19  post_modified          1430 non-null   datetime64[ns]\n",
      " 20  post_modified_gmt      1430 non-null   datetime64[ns]\n",
      " 21  post_content_filtered  0 non-null      float64       \n",
      " 22  post_parent            1430 non-null   float64       \n",
      " 23  guid                   1430 non-null   object        \n",
      " 24  menu_order             1430 non-null   float64       \n",
      " 25  post_type              1430 non-null   object        \n",
      " 26  post_mime_type         714 non-null    object        \n",
      " 27  comment_count          1430 non-null   float64       \n",
      "dtypes: datetime64[ns](4), float64(10), int64(3), object(11)\n",
      "memory usage: 331.1+ KB\n"
     ]
    }
   ],
   "source": [
    "web.info()"
   ]
  },
  {
   "cell_type": "code",
   "execution_count": 23,
   "id": "cfb63d83",
   "metadata": {},
   "outputs": [
    {
     "name": "stderr",
     "output_type": "stream",
     "text": [
      "C:\\Users\\ibenz\\anaconda3\\lib\\site-packages\\openpyxl\\worksheet\\_reader.py:312: UserWarning: Unknown extension is not supported and will be removed\n",
      "  warn(msg)\n"
     ]
    },
    {
     "data": {
      "text/html": [
       "<div>\n",
       "<style scoped>\n",
       "    .dataframe tbody tr th:only-of-type {\n",
       "        vertical-align: middle;\n",
       "    }\n",
       "\n",
       "    .dataframe tbody tr th {\n",
       "        vertical-align: top;\n",
       "    }\n",
       "\n",
       "    .dataframe thead th {\n",
       "        text-align: right;\n",
       "    }\n",
       "</style>\n",
       "<table border=\"1\" class=\"dataframe\">\n",
       "  <thead>\n",
       "    <tr style=\"text-align: right;\">\n",
       "      <th></th>\n",
       "      <th>product_id</th>\n",
       "      <th>id_web</th>\n",
       "    </tr>\n",
       "  </thead>\n",
       "  <tbody>\n",
       "    <tr>\n",
       "      <th>0</th>\n",
       "      <td>3847</td>\n",
       "      <td>15298</td>\n",
       "    </tr>\n",
       "    <tr>\n",
       "      <th>1</th>\n",
       "      <td>3849</td>\n",
       "      <td>15296</td>\n",
       "    </tr>\n",
       "  </tbody>\n",
       "</table>\n",
       "</div>"
      ],
      "text/plain": [
       "   product_id id_web\n",
       "0        3847  15298\n",
       "1        3849  15296"
      ]
     },
     "execution_count": 23,
     "metadata": {},
     "output_type": "execute_result"
    }
   ],
   "source": [
    "liaison = pd.read_excel('liaison.xlsx')\n",
    "liaison.head(2)"
   ]
  },
  {
   "cell_type": "code",
   "execution_count": 24,
   "id": "197ac746",
   "metadata": {},
   "outputs": [
    {
     "name": "stdout",
     "output_type": "stream",
     "text": [
      "<class 'pandas.core.frame.DataFrame'>\n",
      "RangeIndex: 825 entries, 0 to 824\n",
      "Data columns (total 2 columns):\n",
      " #   Column      Non-Null Count  Dtype \n",
      "---  ------      --------------  ----- \n",
      " 0   product_id  825 non-null    int64 \n",
      " 1   id_web      734 non-null    object\n",
      "dtypes: int64(1), object(1)\n",
      "memory usage: 13.0+ KB\n"
     ]
    }
   ],
   "source": [
    "liaison.info()"
   ]
  },
  {
   "cell_type": "code",
   "execution_count": 25,
   "id": "9c37cb5d",
   "metadata": {},
   "outputs": [
    {
     "data": {
      "text/html": [
       "<div>\n",
       "<style scoped>\n",
       "    .dataframe tbody tr th:only-of-type {\n",
       "        vertical-align: middle;\n",
       "    }\n",
       "\n",
       "    .dataframe tbody tr th {\n",
       "        vertical-align: top;\n",
       "    }\n",
       "\n",
       "    .dataframe thead th {\n",
       "        text-align: right;\n",
       "    }\n",
       "</style>\n",
       "<table border=\"1\" class=\"dataframe\">\n",
       "  <thead>\n",
       "    <tr style=\"text-align: right;\">\n",
       "      <th></th>\n",
       "      <th>product_id</th>\n",
       "    </tr>\n",
       "  </thead>\n",
       "  <tbody>\n",
       "    <tr>\n",
       "      <th>count</th>\n",
       "      <td>825.000000</td>\n",
       "    </tr>\n",
       "    <tr>\n",
       "      <th>mean</th>\n",
       "      <td>5162.597576</td>\n",
       "    </tr>\n",
       "    <tr>\n",
       "      <th>std</th>\n",
       "      <td>902.644635</td>\n",
       "    </tr>\n",
       "    <tr>\n",
       "      <th>min</th>\n",
       "      <td>3847.000000</td>\n",
       "    </tr>\n",
       "    <tr>\n",
       "      <th>25%</th>\n",
       "      <td>4348.000000</td>\n",
       "    </tr>\n",
       "    <tr>\n",
       "      <th>50%</th>\n",
       "      <td>4907.000000</td>\n",
       "    </tr>\n",
       "    <tr>\n",
       "      <th>75%</th>\n",
       "      <td>5805.000000</td>\n",
       "    </tr>\n",
       "    <tr>\n",
       "      <th>max</th>\n",
       "      <td>7338.000000</td>\n",
       "    </tr>\n",
       "  </tbody>\n",
       "</table>\n",
       "</div>"
      ],
      "text/plain": [
       "        product_id\n",
       "count   825.000000\n",
       "mean   5162.597576\n",
       "std     902.644635\n",
       "min    3847.000000\n",
       "25%    4348.000000\n",
       "50%    4907.000000\n",
       "75%    5805.000000\n",
       "max    7338.000000"
      ]
     },
     "execution_count": 25,
     "metadata": {},
     "output_type": "execute_result"
    }
   ],
   "source": [
    "liaison.describe()"
   ]
  },
  {
   "cell_type": "markdown",
   "id": "bf92b329",
   "metadata": {},
   "source": [
    "#  Analyse de forme (web)"
   ]
  },
  {
   "cell_type": "markdown",
   "id": "8de40e67",
   "metadata": {},
   "source": [
    "##### Variable target: SKU\n",
    "#####  Lignes et colonnes:1431,28\n",
    "##### Types de variables: qualitatif:      quantitatif:\n",
    "object            11\n",
    "float64           10\n",
    "datetime64[ns]     4\n",
    "int64              3\n",
    "dtype: int64\n",
    "#####  Analyse des valeurs manquantes: il y a  4 groupe de colonnes 100% de valeurs manquantes et trois groupes de colonnes avec 50% de valeurs manquantes"
   ]
  },
  {
   "cell_type": "code",
   "execution_count": 34,
   "id": "d5d97298",
   "metadata": {},
   "outputs": [],
   "source": [
    "web_copie= web.copy()"
   ]
  },
  {
   "cell_type": "code",
   "execution_count": 35,
   "id": "518ecae8",
   "metadata": {},
   "outputs": [
    {
     "data": {
      "text/plain": [
       "(1431, 28)"
      ]
     },
     "execution_count": 35,
     "metadata": {},
     "output_type": "execute_result"
    }
   ],
   "source": [
    "# Afficher les nombres des colonnes et des lignes dans la dataframe web\n",
    "web_copie.shape"
   ]
  },
  {
   "cell_type": "code",
   "execution_count": 36,
   "id": "e11c58f3",
   "metadata": {},
   "outputs": [
    {
     "data": {
      "text/plain": [
       "object            11\n",
       "float64           10\n",
       "datetime64[ns]     4\n",
       "int64              3\n",
       "dtype: int64"
      ]
     },
     "execution_count": 36,
     "metadata": {},
     "output_type": "execute_result"
    }
   ],
   "source": [
    "# Afficher les types des données dans la dataframe web\n",
    "web_copie.dtypes.value_counts()"
   ]
  },
  {
   "cell_type": "code",
   "execution_count": 37,
   "id": "0f199df8",
   "metadata": {},
   "outputs": [
    {
     "data": {
      "text/plain": [
       "<AxesSubplot:>"
      ]
     },
     "execution_count": 37,
     "metadata": {},
     "output_type": "execute_result"
    },
    {
     "data": {
      "image/png": "[encoded data removed]",
      "text/plain": [
       "<Figure size 1440x720 with 1 Axes>"
      ]
     },
     "metadata": {
      "needs_background": "light"
     },
     "output_type": "display_data"
    }
   ],
   "source": [
    "plt.figure( figsize=(20,10))\n",
    "sns.heatmap( web_copie.isna(), cbar= False)"
   ]
  },
  {
   "cell_type": "code",
   "execution_count": 38,
   "id": "bd7f9953",
   "metadata": {},
   "outputs": [
    {
     "data": {
      "text/plain": [
       "virtual                  0.000000\n",
       "downloadable             0.000000\n",
       "rating_count             0.000000\n",
       "comment_count            0.000699\n",
       "post_modified_gmt        0.000699\n",
       "ping_status              0.000699\n",
       "comment_status           0.000699\n",
       "post_status              0.000699\n",
       "post_parent              0.000699\n",
       "post_title               0.000699\n",
       "guid                     0.000699\n",
       "post_date                0.000699\n",
       "post_name                0.000699\n",
       "post_author              0.000699\n",
       "menu_order               0.000699\n",
       "post_type                0.000699\n",
       "total_sales              0.000699\n",
       "average_rating           0.000699\n",
       "post_date_gmt            0.000699\n",
       "post_modified            0.000699\n",
       "sku                      0.002096\n",
       "tax_status               0.499651\n",
       "post_excerpt             0.499651\n",
       "post_mime_type           0.501048\n",
       "post_content_filtered    1.000000\n",
       "post_content             1.000000\n",
       "tax_class                1.000000\n",
       "post_password            1.000000\n",
       "dtype: float64"
      ]
     },
     "execution_count": 38,
     "metadata": {},
     "output_type": "execute_result"
    }
   ],
   "source": [
    "# Ordre décroissant des valeurs manquantes dans la dataframe web \n",
    "(web_copie. isna().sum()/ web_copie.shape [0]). sort_values( ascending=True)"
   ]
  },
  {
   "cell_type": "markdown",
   "id": "69ec2ecc",
   "metadata": {},
   "source": [
    "# Analyse du fond\n",
    "\n",
    "## Visualisation initiale : élimination des colonnes inutiles et nettoyage du fichier web"
   ]
  },
  {
   "cell_type": "code",
   "execution_count": 39,
   "id": "643ceba3",
   "metadata": {},
   "outputs": [],
   "source": [
    "# Mettre que les valeur <1 donc qui ne sont pas des valeurs manquantes dans la dataframe web\n",
    "web_copie= web_copie [web_copie.columns[web. isna().sum()/ web.shape [0] <1]]"
   ]
  },
  {
   "cell_type": "code",
   "execution_count": 41,
   "id": "6cc793c9",
   "metadata": {},
   "outputs": [],
   "source": [
    "# Supprimer les doublons dans la dataframe web\n",
    "web_copie.drop_duplicates(inplace=True)"
   ]
  },
  {
   "cell_type": "code",
   "execution_count": 42,
   "id": "94a94da9",
   "metadata": {},
   "outputs": [
    {
     "data": {
      "text/plain": [
       "Int64Index([ 799,  800,  801,  802,  803,  804,  805,  806,  807,  808,\n",
       "            ...\n",
       "            1503, 1504, 1505, 1506, 1507, 1508, 1509, 1510, 1511, 1512],\n",
       "           dtype='int64', length=714)"
      ]
     },
     "execution_count": 42,
     "metadata": {},
     "output_type": "execute_result"
    }
   ],
   "source": [
    "# afficher les index des lignes 'attachment' dans la colonne 'post_type' \n",
    "web_copie[ web_copie['post_type'] == 'attachment' ] .index"
   ]
  },
  {
   "cell_type": "code",
   "execution_count": 44,
   "id": "78f8dffb",
   "metadata": {},
   "outputs": [
    {
     "name": "stdout",
     "output_type": "stream",
     "text": [
      "<class 'pandas.core.frame.DataFrame'>\n",
      "Int64Index: 717 entries, 0 to 798\n",
      "Data columns (total 24 columns):\n",
      " #   Column             Non-Null Count  Dtype         \n",
      "---  ------             --------------  -----         \n",
      " 0   sku                714 non-null    object        \n",
      " 1   virtual            717 non-null    int64         \n",
      " 2   downloadable       717 non-null    int64         \n",
      " 3   rating_count       717 non-null    int64         \n",
      " 4   average_rating     716 non-null    float64       \n",
      " 5   total_sales        716 non-null    float64       \n",
      " 6   tax_status         716 non-null    object        \n",
      " 7   post_author        716 non-null    float64       \n",
      " 8   post_date          716 non-null    datetime64[ns]\n",
      " 9   post_date_gmt      716 non-null    datetime64[ns]\n",
      " 10  post_title         716 non-null    object        \n",
      " 11  post_excerpt       716 non-null    object        \n",
      " 12  post_status        716 non-null    object        \n",
      " 13  comment_status     716 non-null    object        \n",
      " 14  ping_status        716 non-null    object        \n",
      " 15  post_name          716 non-null    object        \n",
      " 16  post_modified      716 non-null    datetime64[ns]\n",
      " 17  post_modified_gmt  716 non-null    datetime64[ns]\n",
      " 18  post_parent        716 non-null    float64       \n",
      " 19  guid               716 non-null    object        \n",
      " 20  menu_order         716 non-null    float64       \n",
      " 21  post_type          716 non-null    object        \n",
      " 22  post_mime_type     0 non-null      object        \n",
      " 23  comment_count      716 non-null    float64       \n",
      "dtypes: datetime64[ns](4), float64(6), int64(3), object(11)\n",
      "memory usage: 156.2+ KB\n"
     ]
    }
   ],
   "source": [
    "# supprimer les lignes 'aatachment' de la colonne 'post-type'\n",
    "web_copie.drop( web_copie[ web_copie['post_type'] == 'attachment' ].index , inplace=True)\n",
    "web_copie.info()"
   ]
  },
  {
   "cell_type": "code",
   "execution_count": 46,
   "id": "5c1df3bd",
   "metadata": {},
   "outputs": [
    {
     "name": "stdout",
     "output_type": "stream",
     "text": [
      "<class 'pandas.core.frame.DataFrame'>\n",
      "Int64Index: 714 entries, 0 to 798\n",
      "Data columns (total 24 columns):\n",
      " #   Column             Non-Null Count  Dtype         \n",
      "---  ------             --------------  -----         \n",
      " 0   sku                714 non-null    object        \n",
      " 1   virtual            714 non-null    int64         \n",
      " 2   downloadable       714 non-null    int64         \n",
      " 3   rating_count       714 non-null    int64         \n",
      " 4   average_rating     714 non-null    float64       \n",
      " 5   total_sales        714 non-null    float64       \n",
      " 6   tax_status         714 non-null    object        \n",
      " 7   post_author        714 non-null    float64       \n",
      " 8   post_date          714 non-null    datetime64[ns]\n",
      " 9   post_date_gmt      714 non-null    datetime64[ns]\n",
      " 10  post_title         714 non-null    object        \n",
      " 11  post_excerpt       714 non-null    object        \n",
      " 12  post_status        714 non-null    object        \n",
      " 13  comment_status     714 non-null    object        \n",
      " 14  ping_status        714 non-null    object        \n",
      " 15  post_name          714 non-null    object        \n",
      " 16  post_modified      714 non-null    datetime64[ns]\n",
      " 17  post_modified_gmt  714 non-null    datetime64[ns]\n",
      " 18  post_parent        714 non-null    float64       \n",
      " 19  guid               714 non-null    object        \n",
      " 20  menu_order         714 non-null    float64       \n",
      " 21  post_type          714 non-null    object        \n",
      " 22  post_mime_type     0 non-null      object        \n",
      " 23  comment_count      714 non-null    float64       \n",
      "dtypes: datetime64[ns](4), float64(6), int64(3), object(11)\n",
      "memory usage: 139.5+ KB\n"
     ]
    }
   ],
   "source": [
    "# supprimer les NAN dans la colonne 'SKU'\n",
    "web_copie= web_copie.dropna(subset=['sku'])\n",
    "web_copie.info()"
   ]
  },
  {
   "cell_type": "markdown",
   "id": "205549aa",
   "metadata": {},
   "source": [
    "#  Analyse de forme (erp)"
   ]
  },
  {
   "cell_type": "markdown",
   "id": "b7b03f51",
   "metadata": {},
   "source": [
    "##### Variable target: price\n",
    "##### Lignes et colonnes: 825,5\n",
    "##### Types de variables: qualitatif:       quantitatif:\n",
    " int64      3\n",
    " float64    1\n",
    " object     1\n",
    " dtype: int64\n",
    "##### Analyse des valeurs manquantes: pas de NAN ( valeurs manquantes) "
   ]
  },
  {
   "cell_type": "code",
   "execution_count": 48,
   "id": "226c8422",
   "metadata": {},
   "outputs": [],
   "source": [
    "erp_copie= erp.copy()"
   ]
  },
  {
   "cell_type": "code",
   "execution_count": 49,
   "id": "b0c5ba16",
   "metadata": {},
   "outputs": [
    {
     "data": {
      "text/plain": [
       "(825, 5)"
      ]
     },
     "execution_count": 49,
     "metadata": {},
     "output_type": "execute_result"
    }
   ],
   "source": [
    "erp_copie.shape"
   ]
  },
  {
   "cell_type": "code",
   "execution_count": 50,
   "id": "0a92b0e8",
   "metadata": {},
   "outputs": [
    {
     "data": {
      "text/plain": [
       "int64      3\n",
       "float64    1\n",
       "object     1\n",
       "dtype: int64"
      ]
     },
     "execution_count": 50,
     "metadata": {},
     "output_type": "execute_result"
    }
   ],
   "source": [
    "erp_copie.dtypes.value_counts()"
   ]
  },
  {
   "cell_type": "code",
   "execution_count": 51,
   "id": "f551b250",
   "metadata": {},
   "outputs": [
    {
     "data": {
      "text/plain": [
       "<AxesSubplot:>"
      ]
     },
     "execution_count": 51,
     "metadata": {},
     "output_type": "execute_result"
    },
    {
     "data": {
      "image/png": "[encoded data removed]",
      "text/plain": [
       "<Figure size 1440x720 with 1 Axes>"
      ]
     },
     "metadata": {
      "needs_background": "light"
     },
     "output_type": "display_data"
    }
   ],
   "source": [
    "plt.figure( figsize=(20,10))\n",
    "sns.heatmap( erp.isna(), cbar= False)"
   ]
  },
  {
   "cell_type": "code",
   "execution_count": 52,
   "id": "e64f3749",
   "metadata": {},
   "outputs": [
    {
     "name": "stdout",
     "output_type": "stream",
     "text": [
      "<class 'pandas.core.frame.DataFrame'>\n",
      "Int64Index: 825 entries, 0 to 824\n",
      "Data columns (total 5 columns):\n",
      " #   Column          Non-Null Count  Dtype  \n",
      "---  ------          --------------  -----  \n",
      " 0   product_id      825 non-null    int64  \n",
      " 1   onsale_web      825 non-null    int64  \n",
      " 2   price           825 non-null    float64\n",
      " 3   stock_quantity  825 non-null    int64  \n",
      " 4   stock_status    825 non-null    object \n",
      "dtypes: float64(1), int64(3), object(1)\n",
      "memory usage: 38.7+ KB\n"
     ]
    }
   ],
   "source": [
    "erp.drop_duplicates(inplace=True)\n",
    "erp.info()"
   ]
  },
  {
   "cell_type": "markdown",
   "id": "2f59fc2e",
   "metadata": {},
   "source": [
    "#  Analyse de forme (liaison)"
   ]
  },
  {
   "cell_type": "markdown",
   "id": "15549ea2",
   "metadata": {},
   "source": [
    "##### Variable target: id_web\n",
    "#####  Lignes et colonnes:825,2\n",
    "#####  Types de variables: qualitatif:      quantitatif:\n",
    "int64     1\n",
    "object    1\n",
    "dtype: int64\n",
    "#####  Analyse des valeurs manquantes: un peu de valeurs manquantes "
   ]
  },
  {
   "cell_type": "code",
   "execution_count": 53,
   "id": "0f6c5669",
   "metadata": {},
   "outputs": [],
   "source": [
    "liaison_copie= liaison.copy()"
   ]
  },
  {
   "cell_type": "code",
   "execution_count": 54,
   "id": "51ff39a7",
   "metadata": {},
   "outputs": [
    {
     "data": {
      "text/plain": [
       "(825, 2)"
      ]
     },
     "execution_count": 54,
     "metadata": {},
     "output_type": "execute_result"
    }
   ],
   "source": [
    "liaison_copie.shape"
   ]
  },
  {
   "cell_type": "code",
   "execution_count": 55,
   "id": "6ff7b179",
   "metadata": {},
   "outputs": [
    {
     "data": {
      "text/plain": [
       "int64     1\n",
       "object    1\n",
       "dtype: int64"
      ]
     },
     "execution_count": 55,
     "metadata": {},
     "output_type": "execute_result"
    }
   ],
   "source": [
    "liaison_copie.dtypes.value_counts()"
   ]
  },
  {
   "cell_type": "code",
   "execution_count": 56,
   "id": "b6b500ec",
   "metadata": {},
   "outputs": [
    {
     "data": {
      "text/plain": [
       "<AxesSubplot:>"
      ]
     },
     "execution_count": 56,
     "metadata": {},
     "output_type": "execute_result"
    },
    {
     "data": {
      "image/png": "[encoded data removed]",
      "text/plain": [
       "<Figure size 1440x720 with 1 Axes>"
      ]
     },
     "metadata": {
      "needs_background": "light"
     },
     "output_type": "display_data"
    }
   ],
   "source": [
    "plt.figure( figsize=(20,10))\n",
    "sns.heatmap( liaison_copie.isna(), cbar= False)"
   ]
  },
  {
   "cell_type": "code",
   "execution_count": 59,
   "id": "1c23e694",
   "metadata": {},
   "outputs": [
    {
     "name": "stdout",
     "output_type": "stream",
     "text": [
      "<class 'pandas.core.frame.DataFrame'>\n",
      "Int64Index: 825 entries, 0 to 824\n",
      "Data columns (total 2 columns):\n",
      " #   Column      Non-Null Count  Dtype \n",
      "---  ------      --------------  ----- \n",
      " 0   product_id  825 non-null    int64 \n",
      " 1   id_web      734 non-null    object\n",
      "dtypes: int64(1), object(1)\n",
      "memory usage: 19.3+ KB\n"
     ]
    }
   ],
   "source": [
    "liaison_copie.drop_duplicates(inplace=True)\n",
    "liaison_copie.info()"
   ]
  },
  {
   "cell_type": "code",
   "execution_count": null,
   "id": "b0a54333",
   "metadata": {},
   "outputs": [],
   "source": []
  },
  {
   "cell_type": "code",
   "execution_count": null,
   "id": "236da8fc",
   "metadata": {},
   "outputs": [],
   "source": []
  },
  {
   "cell_type": "code",
   "execution_count": null,
   "id": "bddab3b5",
   "metadata": {},
   "outputs": [],
   "source": []
  }
 ],
 "metadata": {
  "kernelspec": {
   "display_name": "Python 3 (ipykernel)",
   "language": "python",
   "name": "python3"
  },
  "language_info": {
   "codemirror_mode": {
    "name": "ipython",
    "version": 3
   },
   "file_extension": ".py",
   "mimetype": "text/x-python",
   "name": "python",
   "nbconvert_exporter": "python",
   "pygments_lexer": "ipython3",
   "version": "3.9.7"
  }
 },
 "nbformat": 4,
 "nbformat_minor": 5
}
